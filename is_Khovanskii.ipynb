{
 "cells": [
  {
   "cell_type": "markdown",
   "metadata": {},
   "source": [
    "# Cox ring of the blow up of $\\mathbb{P}^3$ in $7$ points. "
   ]
  },
  {
   "cell_type": "markdown",
   "metadata": {},
   "source": [
    "This jupyter notebook contains the functions implemented to prove the computational results presented in the article \"Cox rings and Mukai edge graphs\". In particular, here we present the compuations necessary to prove Theorem 12. "
   ]
  },
  {
   "cell_type": "markdown",
   "metadata": {},
   "source": [
    "The code should be read and used together with the paper. "
   ]
  },
  {
   "cell_type": "code",
   "execution_count": 1,
   "metadata": {},
   "outputs": [
    {
     "name": "stdout",
     "output_type": "stream",
     "text": [
      "\r",
      " -----    -----    -----      -      -----   \n",
      "|     |  |     |  |     |    | |    |     |  \n",
      "|     |  |        |         |   |   |     |  \n",
      "|     |   -----   |        |     |  |-----   \n",
      "|     |        |  |        |-----|  |   |    \n",
      "|     |  |     |  |     |  |     |  |    |   \n",
      " -----    -----    -----   -     -  -     -  \n",
      "\n",
      "...combining (and extending) ANTIC, GAP, Polymake and Singular\n",
      "Version\u001b[32m 0.10.0 \u001b[39m... \n",
      " ... which comes with absolutely no warranty whatsoever\n",
      "Type: '?Oscar' for more information\n",
      "(c) 2019-2022 by The Oscar Development Team\n"
     ]
    }
   ],
   "source": [
    "using Oscar\n",
    "using Combinatorics"
   ]
  },
  {
   "cell_type": "markdown",
   "metadata": {},
   "source": [
    "### Auxiliary functions"
   ]
  },
  {
   "cell_type": "markdown",
   "metadata": {},
   "source": [
    "We beging by introducing some auxillary functions. "
   ]
  },
  {
   "cell_type": "markdown",
   "metadata": {},
   "source": [
    "The following two functions compute the intial form of a polynomial and the polynomials in a vector. \n",
    "The initial form of a polynomial $f \\in \\mathbb{C}(t)[z_1,\\dots,z_m]$ is defined as \n",
    "$$ \\text{in}_{{\\bf 0}}(f)=(t^{-\\text{ord}(f)}f)|_{t=0} \\in \\mathbb{C}[z_1,\\dots,z_m], $$\n",
    "where $\\text{ord}(f)$ is the smallest integer such that $t^{-\\text{ord}(f)}f$ has neither a pole or a zero."
   ]
  },
  {
   "cell_type": "code",
   "execution_count": 2,
   "metadata": {},
   "outputs": [
    {
     "data": {
      "text/plain": [
       "leading_t_vect (generic function with 1 method)"
      ]
     },
     "execution_count": 2,
     "metadata": {},
     "output_type": "execute_result"
    }
   ],
   "source": [
    "function leading_t(eq)\n",
    "    cont=0\n",
    "    bol=true\n",
    "    if length(eq)!=0\n",
    "        lead=term(eq,1);\n",
    "        t_lead=degree(term(eq,1),t);\n",
    "        for mon in range(2,length(eq))\n",
    "            temp=degree(term(eq,mon),t);\n",
    "            if temp<t_lead\n",
    "                bol=true\n",
    "                 lead=term(eq,mon)\n",
    "                 t_lead=temp\n",
    "                 cont=0\n",
    "            elseif temp==t_lead\n",
    "                cont=cont+1\n",
    "                lead=lead+term(eq,mon)\n",
    "                bol=false\n",
    "            end\n",
    "        end\n",
    "    else\n",
    "        lead=0\n",
    "    end\n",
    "    return lead,bol;\n",
    "end\n",
    "\n",
    "function leading_t_vect(eq_vect)\n",
    "    lead=[]\n",
    "    bol=true\n",
    "    for eq in eq_vect\n",
    "        lead_eq,bol_eq=leading_t(eq)\n",
    "        push!(lead,lead_eq)\n",
    "        if !(bol_eq)\n",
    "            bol=false\n",
    "        end\n",
    "    end\n",
    "    return lead,bol;\n",
    "end"
   ]
  },
  {
   "cell_type": "markdown",
   "metadata": {},
   "source": [
    "The following function defines the Veronse map $v_2$ of degree $2$, $v_2: \\mathbb{P}^3 \\rightarrow \\mathbb{P}^9$."
   ]
  },
  {
   "cell_type": "code",
   "execution_count": 35,
   "metadata": {},
   "outputs": [
    {
     "data": {
      "text/plain": [
       "veronese2 (generic function with 1 method)"
      ]
     },
     "execution_count": 35,
     "metadata": {},
     "output_type": "execute_result"
    }
   ],
   "source": [
    "function veronese2(v)\n",
    "    v_2=KS.([0, 0, 0, 0, 0, 0, 0, 0, 0, 0])\n",
    "    cont=1\n",
    "    for i_1 in 1:4\n",
    "        for i_2 in 1:4\n",
    "            if i_1<=i_2\n",
    "                v_2[cont]=v[i_1]*v[i_2]\n",
    "                cont=cont+1\n",
    "            end\n",
    "        end\n",
    "    end\n",
    "    return v_2\n",
    "end"
   ]
  },
  {
   "cell_type": "markdown",
   "metadata": {},
   "source": [
    "The next two functions respectively apply a function $F$ and the deterivative with respect to a variable to a vector of polynomials. "
   ]
  },
  {
   "cell_type": "code",
   "execution_count": 36,
   "metadata": {},
   "outputs": [
    {
     "data": {
      "text/plain": [
       "derivative_vector (generic function with 2 methods)"
      ]
     },
     "execution_count": 36,
     "metadata": {},
     "output_type": "execute_result"
    }
   ],
   "source": [
    "function sub_vector(Ring,vec,F)\n",
    "    n = length(vec)\n",
    "    subs = zeros(Ring,n)\n",
    "    for i in 1:n \n",
    "        subs[i] = F(vec[i])\n",
    "    end\n",
    "    return subs\n",
    "end\n",
    "\n",
    "function derivative_vector(Ring,vec,var)\n",
    "    n = length(vec)\n",
    "    der = zeros(Ring,n)\n",
    "    for i in 1:n\n",
    "        der[i] = derivative(vec[i],var)\n",
    "    end\n",
    "    return der\n",
    "end"
   ]
  },
  {
   "cell_type": "markdown",
   "metadata": {},
   "source": [
    "Given a $4 \\times 7$- matrix $A$, we need a function giving linear equations for $\\ker A$. Finlly, we need to substitute these equations as first $4$ variables in a polynomial $f \\in \\mathbb{C}(t)[z_0,\\dots,z_6]$. We refer to the section on computing hypersurfaces for more comments on the choice of variables. "
   ]
  },
  {
   "cell_type": "code",
   "execution_count": 37,
   "metadata": {},
   "outputs": [
    {
     "data": {
      "text/plain": [
       "sub_linear (generic function with 1 method)"
      ]
     },
     "execution_count": 37,
     "metadata": {},
     "output_type": "execute_result"
    }
   ],
   "source": [
    "function linear_eqs(A) \n",
    "    Lin=zero_matrix(KS,4,1)\n",
    "    for i in 1:4\n",
    "        for j in 1:7 \n",
    "            Lin[i,1]=Lin[i,1]+A[i,j]*(z_vars[j])\n",
    "        end\n",
    "    end\n",
    "    return Lin\n",
    "end\n",
    "\n",
    "function sub_linear(A,eqn)\n",
    "    linear_forms=linear_eqs(A)\n",
    "    F = hom(KS, KS, z -> z, [t,linear_forms[1,1],linear_forms[2,1], linear_forms[3,1], linear_forms[4,1], z4,z5,z6])\n",
    "    sub_eqn = F(eqn)\n",
    "    return sub_eqn\n",
    "end"
   ]
  },
  {
   "cell_type": "markdown",
   "metadata": {},
   "source": [
    "### Generators of $\\text{Cox}(X_{7,3})$"
   ]
  },
  {
   "cell_type": "markdown",
   "metadata": {},
   "source": [
    "Let $A$ be a $4\\times 7$ matrix representing $7$ points in $\\mathbb{P}(\\mathbb{C}(t)^4)$. Given any divisor $D$ of anticanonical degree one and multidegree $(m_0, m_1, \\dots, m_7)$, we introduce functions to compute polynomials over $\\mathbb{C}(t)$ defining the $129$ hypersurfaces of degree $m_0$ passing through the point $p_i$ with multiplicity $m_i$. \n",
    "\n",
    "The polynomials we are computing are in the coordinate ring $\\mathbb{C}(t)[z_0, z_1, z_2, z_3]$ of $\\mathbb{P}(\\mathbb{C}(t)^4)$, but we look at them as polynomials in $\\mathbb{C}(t)[z_0, z_1, z_2, z_3, z_4, z_5, z_6]$. We do this for computational reasons and because later on we want to apply the map $\\phi_{7,3}(t)$ as defined in Section 3 of the article. \n",
    "\n",
    "Each function outputs a polynomial and the multidegree. "
   ]
  },
  {
   "cell_type": "markdown",
   "metadata": {},
   "source": [
    "The first function defines the exceptional divisors."
   ]
  },
  {
   "cell_type": "code",
   "execution_count": 38,
   "metadata": {},
   "outputs": [
    {
     "data": {
      "text/plain": [
       "exceptional (generic function with 1 method)"
      ]
     },
     "execution_count": 38,
     "metadata": {},
     "output_type": "execute_result"
    }
   ],
   "source": [
    "function exceptional()\n",
    "    exc=zero_matrix(KS,7,1)\n",
    "    deg_mon_exc=Vector([])\n",
    "    for i in 1:7\n",
    "        exc[i,1]=1\n",
    "        temp=[0, 0, 0, 0, 0, 0, 0, 0]\n",
    "        temp[i+1]=1\n",
    "        push!(deg_mon_exc,temp)\n",
    "    end\n",
    "    return exc,deg_mon_exc\n",
    "end"
   ]
  },
  {
   "cell_type": "markdown",
   "metadata": {},
   "source": [
    "The function hyperplanes computes equations for the $35$ hyperplanes passing through $p_i$, $p_j$ and $p_k$ for distinct indices. They correspond to the divisors $H- E_i -E_j -E_k$. "
   ]
  },
  {
   "cell_type": "code",
   "execution_count": 39,
   "metadata": {},
   "outputs": [
    {
     "data": {
      "text/plain": [
       "hyperplanes (generic function with 1 method)"
      ]
     },
     "execution_count": 39,
     "metadata": {},
     "output_type": "execute_result"
    }
   ],
   "source": [
    "function hyperplanes(A)\n",
    "    Hyp=zero_matrix(KS,binomial(7,3),1)\n",
    "    deg_mon_hyp=Vector([])\n",
    "    cont=1\n",
    "    for i in 1:7\n",
    "        for j in i+1:7\n",
    "            for k in j+1:7\n",
    "                #println(\"We are doing hyperplane \",i,j,k)\n",
    "                temp=matrix(KS, [z0 z1 z2 z3 ; transpose(KS.(A)[:,i]); transpose(KS.(A)[:,j]); transpose(KS.(A)[:,k])])\n",
    "                temp_eq=sub_linear(A,det(temp))\n",
    "                Hyp[cont,1]=temp_eq\n",
    "                cont=cont+1\n",
    "                temp_deg_mon=[1, 1, 1, 1, 1, 1, 1, 1]\n",
    "                temp_deg_mon[i+1]=0\n",
    "                temp_deg_mon[j+1]=0\n",
    "                temp_deg_mon[k+1]=0\n",
    "                push!(deg_mon_hyp,temp_deg_mon)\n",
    "            end\n",
    "        end\n",
    "    end\n",
    "    return Hyp,deg_mon_hyp\n",
    "end"
   ]
  },
  {
   "cell_type": "markdown",
   "metadata": {},
   "source": [
    "The function quadrics computes equations for the $42$ quadric surfaces passing through every point except for $p_i$ and with multipicity two at $p_j$. They correspond to the divisors $2H- \\sum_{s\\neq i,j} E_s -2E_j$. "
   ]
  },
  {
   "cell_type": "code",
   "execution_count": 40,
   "metadata": {},
   "outputs": [
    {
     "data": {
      "text/plain": [
       "quadrics (generic function with 1 method)"
      ]
     },
     "execution_count": 40,
     "metadata": {},
     "output_type": "execute_result"
    }
   ],
   "source": [
    "function quadrics(A)\n",
    "    Quad=zero_matrix(KS,7*6,1)\n",
    "    deg_mon_quad=Vector([])\n",
    "    cont_quad=1\n",
    "    temp_1=transpose(veronese2(KS.([z0,z1,z2,z3])))\n",
    "    for i in 1:7\n",
    "        for j in 1:7\n",
    "            if j!=i\n",
    "                #println(\"We are doing quadric \",i,j)\n",
    "                cont=1\n",
    "                temp=zero_matrix(KS,10,10)\n",
    "                temp[1,:]=temp_1[1,:]\n",
    "                cont=2\n",
    "                for ind_row in 1:7\n",
    "                    if (ind_row!=i) & (ind_row!=j) #i is the excluded point\n",
    "                        F = hom(KS, KS, z -> z, [t,A[1,ind_row], A[2,ind_row], A[3,ind_row], A[4,ind_row],z4,z5,z6])\n",
    "                        temp[cont,:] = sub_vector(KS,temp_1,F)\n",
    "                        cont=cont+1\n",
    "                    end\n",
    "                end\n",
    "                G = hom(KS, KS, z -> z, [t,A[1,j], A[2,j], A[3,j], A[4,j],z4,z5,z6]) \n",
    "                #j is the double point. So we need to look at the derivates to impose multiplicity two \n",
    "                for l in vars \n",
    "                    der_l = derivative_vector(KS,temp_1,l)\n",
    "                    temp[cont,:]=sub_vector(KS,der_l,G)\n",
    "                    cont=cont+1\n",
    "                end\n",
    "                temp_eq=sub_linear(A,det(temp))\n",
    "                Quad[cont_quad,1]=temp_eq\n",
    "                cont_quad=cont_quad+1\n",
    "                temp_deg_mon=[2,1,1,1,1,1,1,1]\n",
    "                temp_deg_mon[i+1]=2\n",
    "                temp_deg_mon[j+1]=0\n",
    "                push!(deg_mon_quad,temp_deg_mon)\n",
    "            end\n",
    "        end\n",
    "    end\n",
    "    return Quad,deg_mon_quad\n",
    "end"
   ]
  },
  {
   "cell_type": "markdown",
   "metadata": {},
   "source": [
    "The function cubics computes equations for the $35$ cubic surfaces passing with multiplicity one at $p_i$, $p_j$ and $p_k$ and with multiplicity two at any other point. They correspond to the divisors $3H- E_i -E_j -E_k - 2\\sum_{s\\neq i,j, k} E_s.$."
   ]
  },
  {
   "cell_type": "code",
   "execution_count": 41,
   "metadata": {},
   "outputs": [
    {
     "data": {
      "text/plain": [
       "cubics (generic function with 1 method)"
      ]
     },
     "execution_count": 41,
     "metadata": {},
     "output_type": "execute_result"
    }
   ],
   "source": [
    "function cubics(A)\n",
    "    Cubic=zero_matrix(KS,binomial(7,4),1)\n",
    "    Cubic_z=zero_matrix(KS,binomial(7,4),1)\n",
    "    deg_mon_cub=Vector([])\n",
    "    cont_cubic=1\n",
    "    const_vec=zero_matrix(KS,4,1)\n",
    "    const_mat=zero_matrix(KS,3,4)\n",
    "    change_matrix=zero_matrix(KS,4,4)\n",
    "    points_not_double=zero_matrix(KS,4,3)\n",
    "    B=zero_matrix(KS,4,3)\n",
    "    for i in 1:7\n",
    "        for j in 1:i-1\n",
    "            for k in 1:j-1\n",
    "                #println(\"We are doing cubic \",i,j,k)\n",
    "                #Construct the matrix for the change of variables\n",
    "                cont=1\n",
    "                for p in 1:7\n",
    "                    if (p!=i) & (p!=j) & (p!=k)\n",
    "                        change_matrix[:,cont]=A[:,p]\n",
    "                        cont=cont+1\n",
    "                    end\n",
    "                end\n",
    "                points_not_double[:,3]=A[:,i]\n",
    "                points_not_double[:,2]=A[:,j]\n",
    "                points_not_double[:,1]=A[:,k]\n",
    "\n",
    "                B=adjoint(change_matrix)*points_not_double\n",
    "         \n",
    "                #Construction of two constant that allow the cubic to \n",
    "                #pass through the two non-double points\n",
    "            \n",
    "                const_mat[1,1]=B[1,3]*B[2,3]*B[3,3]\n",
    "                const_mat[2,1]=B[1,2]*B[2,2]*B[3,2]\n",
    "                const_mat[3,1]=B[1,1]*B[2,1]*B[3,1]\n",
    "\n",
    "                const_mat[1,2]=B[1,3]*B[2,3]*B[4,3]\n",
    "                const_mat[2,2]=B[1,2]*B[2,2]*B[4,2]\n",
    "                const_mat[3,2]=B[1,1]*B[2,1]*B[4,1]\n",
    "\n",
    "                const_mat[1,3]=B[1,3]*B[3,3]*B[4,3]\n",
    "                const_mat[2,3]=B[1,2]*B[3,2]*B[4,2]\n",
    "                const_mat[3,3]=B[1,1]*B[3,1]*B[4,1]\n",
    "            \n",
    "                const_mat[1,4]=B[2,3]*B[3,3]*B[4,3]\n",
    "                const_mat[2,4]=B[2,2]*B[3,2]*B[4,2]\n",
    "                const_mat[3,4]=B[2,1]*B[3,1]*B[4,1]\n",
    "            \n",
    "                const_vec[1,1]=det(const_mat[:,[2,3,4]])\n",
    "                const_vec[2,1]=-det(const_mat[:,[1,3,4]])\n",
    "                const_vec[3,1]=det(const_mat[:,[1,2,4]])\n",
    "                const_vec[4,1]=-det(const_mat[:,[1,2,3]])\n",
    "\n",
    "                cubic_temp=const_vec[1,1]*z0*z1*z2+const_vec[2,1]*z0*z1*z3+const_vec[3,1]*z0*z2*z3+const_vec[4,1]*z1*z2*z3\n",
    "\n",
    "                temp = adjoint(change_matrix)*vars\n",
    "                F = hom(KS, KS, z -> z, [t,temp[1], temp[2], temp[3], temp[4],z4,z5,z6])\n",
    "                cubic_temp = F(cubic_temp)\n",
    "                \n",
    "                Cubic_z[cont_cubic,1]=cubic_temp\n",
    "                temp_eq= sub_linear(A,cubic_temp)\n",
    "                Cubic[cont_cubic,1]=temp_eq\n",
    "                cont_cubic=cont_cubic+1\n",
    "                \n",
    "                temp_deg_mon=[3,1,1,1,1,1,1,1]\n",
    "                temp_deg_mon[i+1]=2\n",
    "                temp_deg_mon[j+1]=2\n",
    "                temp_deg_mon[k+1]=2\n",
    "                push!(deg_mon_cub,temp_deg_mon)\n",
    "            end\n",
    "        end\n",
    "    end\n",
    "    return Cubic,deg_mon_cub,Cubic_z\n",
    "end\n"
   ]
  },
  {
   "cell_type": "markdown",
   "metadata": {},
   "source": [
    "The function quartics computes equations for the $7$ quartic surfaces passing through all points with multiplicity two and with multiplicity three at $p_i$. They correspond to the divisors $4H- 3E_i - \\sum_{s\\neq i} 2E_s$.\n",
    "\n",
    "In order to be able to compute the quartic hypersurfaces for points with coordinates in $\\mathbb{C}(t)$ we need to apply a computational trick which is explained in Remark 13 of the article. "
   ]
  },
  {
   "cell_type": "code",
   "execution_count": 42,
   "metadata": {},
   "outputs": [
    {
     "data": {
      "text/plain": [
       "quartics (generic function with 1 method)"
      ]
     },
     "execution_count": 42,
     "metadata": {},
     "output_type": "execute_result"
    }
   ],
   "source": [
    "function quartics(A,quad,stra)\n",
    "    Quart=zero_matrix(KS,7,1)\n",
    "    deg_mon_quart=Vector([])\n",
    "    label=[]\n",
    "    for i in range(1,7)\n",
    "        for j in range(1,7)\n",
    "            if i!=j\n",
    "                push!(label,(i,j))\n",
    "            end\n",
    "        end\n",
    "    end\n",
    "    ind_0=[2,1,1,1,1,1,1]\n",
    "    ind_j=[3,3,2,3,4,5,6]\n",
    "    for i in 1:7\n",
    "        #println(\"We are doing quartic \",i)\n",
    "        Q0i=quad[findfirst(x->x==(ind_0[i],i), label)];\n",
    "        Q0j=quad[findfirst(x->x==(ind_0[i],ind_j[i]), label)];\n",
    "        Qji=quad[findfirst(x->x==(ind_j[i],i), label)];\n",
    "        S0=stra[1];\n",
    "        S1=stra[2];\n",
    "        S2=stra[3]\n",
    "        eq_mono=[S0*Q0i,S1*Q0i,S2*Q0i,Q0j*Qji];\n",
    "        mono=Set();\n",
    "        list_mon=[monomials(S0*Q0i),monomials(S1*Q0i),monomials(S2*Q0i),monomials(Q0j*Qji)];\n",
    "        for l in list_mon\n",
    "            for el in l\n",
    "                push!(mono,el);\n",
    "            end\n",
    "        end\n",
    "        M_tar=zero_matrix(FractionField(KS),4,6)\n",
    "        b=[]\n",
    "        for cont in range(1,7)\n",
    "            if cont!=ind_0[i] \n",
    "                if cont!=i\n",
    "                el=[0,0,0,0,0,0,0]\n",
    "                el[ind_0[i]]=3\n",
    "                el[cont]=1\n",
    "                push!(b,el)\n",
    "                end\n",
    "            end\n",
    "        end\n",
    "        cont=0\n",
    "        for (el,col) in zip(b,range(1,6))\n",
    "            for (eq,row) in zip(eq_mono,range(1,4))\n",
    "                M_tar[row,col]=coeff(eq,[2,3,4,5,6,7,8],el)\n",
    "            end\n",
    "        end\n",
    "        M_tar=transpose(M_tar);\n",
    "        ker_M_tar=kernel(M_tar)[2];\n",
    "        #We need to verify the rank\n",
    "        Quart[i,1]=numerator(sum([eq_mono[i]*ker_M_tar[i,1] for i in range(1,4)]));\n",
    "        \n",
    "        temp_deg_mon=[4,2,2,2,2,2,2,2]\n",
    "        temp_deg_mon[i+1]=1\n",
    "        push!(deg_mon_quart,temp_deg_mon)\n",
    "    end\n",
    "    return Quart,deg_mon_quart;\n",
    "end"
   ]
  },
  {
   "cell_type": "markdown",
   "metadata": {},
   "source": [
    "The function strange computes equations for sections of $-K_{7,3}/2$ which are quadrcis passing through the seven points. They correspond to the divisors $2H-  \\sum_{i} E_i$."
   ]
  },
  {
   "cell_type": "code",
   "execution_count": 43,
   "metadata": {},
   "outputs": [
    {
     "data": {
      "text/plain": [
       "strange (generic function with 1 method)"
      ]
     },
     "execution_count": 43,
     "metadata": {},
     "output_type": "execute_result"
    }
   ],
   "source": [
    "function strange(A,A_plus)\n",
    "    Strange=zero_matrix(KS,3,1)\n",
    "    #Strange=zero_matrix(R,3,1)\n",
    "    deg_mon_strange=Vector([])\n",
    "    mat_lin_ind=zero_matrix(KS,10,3)\n",
    "    temp_1=transpose(veronese2(KS.([z0,z1,z2,z3])))\n",
    "    cont=1\n",
    "    temp=zero_matrix(KS,10,10)\n",
    "    for i in 1:3\n",
    "        temp[1,:]=temp_1[1,:]\n",
    "        for ind_row in 1:7\n",
    "            temp[ind_row+1,:]=veronese2(KS.(A[:,ind_row]))\n",
    "        end      \n",
    "        for ind_row in 1:2\n",
    "            temp[ind_row+7+1,:]=A_plus[cont,:]\n",
    "            cont=cont+1\n",
    "        end\n",
    "        #Matrix to verify they are linearly independent\n",
    "        temp_eq=sub_linear(A,det(temp))\n",
    "        Strange[i,1]=temp_eq\n",
    "        for ind in 1:10\n",
    "            mat_lin_ind[ind,i]=coeff(det(temp),temp_1[1,ind])\n",
    "        end\n",
    "        push!(deg_mon_strange,[2,1,1,1,1,1,1,1])\n",
    "    end\n",
    "    \n",
    "    bol=(rank(mat_lin_ind)==3)\n",
    "    return Strange,deg_mon_strange,bol;\n",
    "end"
   ]
  },
  {
   "cell_type": "markdown",
   "metadata": {},
   "source": [
    "We include here also few check functions. The first one checks that a polynomial is not zero. We use this to confirm that the chosen points are in general position. \n",
    "\n",
    "The second one checks that the three hypersurfaces $S_0, S_1, S_2$ computed by the function strange have different initial forms. "
   ]
  },
  {
   "cell_type": "code",
   "execution_count": 44,
   "metadata": {},
   "outputs": [
    {
     "data": {
      "text/plain": [
       "strange_diff (generic function with 1 method)"
      ]
     },
     "execution_count": 44,
     "metadata": {},
     "output_type": "execute_result"
    }
   ],
   "source": [
    "function zero_check(eq)\n",
    "    for el in eq\n",
    "        if el==0\n",
    "            return false\n",
    "        end\n",
    "    end\n",
    "    return true\n",
    "end\n",
    "\n",
    "function strange_diff(stra_mon)\n",
    "    bol=true\n",
    "    bol1=numerator(monomial(stra_mon[1],1)//t^(degree(stra_mon[1],t)))\n",
    "    bol2=numerator(monomial(stra_mon[2],1)//t^(degree(stra_mon[2],t)))\n",
    "    bol3=numerator(monomial(stra_mon[3],1)//t^(degree(stra_mon[3],t)))\n",
    "    if (bol1==bol2) \n",
    "        println(\"Two monomials are the same\")\n",
    "        bol=false\n",
    "    end\n",
    "    if (bol1==bol3) \n",
    "        println(\"Two monomials are the same\")\n",
    "        bol=false\n",
    "    end\n",
    "    if (bol2==bol3) \n",
    "        println(\"Two monomials are the same\")\n",
    "        bol=false\n",
    "    end\n",
    "    return bol;   \n",
    "end\n"
   ]
  },
  {
   "cell_type": "markdown",
   "metadata": {},
   "source": [
    "### Khovanksii basis"
   ]
  },
  {
   "cell_type": "markdown",
   "metadata": {},
   "source": [
    "The function computes the quadratic relations and their multidegrees among the $129$ hypersurfaces that can be computed using the functions in the previous section."
   ]
  },
  {
   "cell_type": "code",
   "execution_count": 45,
   "metadata": {},
   "outputs": [
    {
     "data": {
      "text/plain": [
       "degree_quadratic (generic function with 1 method)"
      ]
     },
     "execution_count": 45,
     "metadata": {},
     "output_type": "execute_result"
    }
   ],
   "source": [
    "function degree_quadratic(deg_mon,equations)\n",
    "    monomials_2=[]\n",
    "    couples=[]\n",
    "    deg_couples=[]\n",
    "    for (eq1,i) in zip(equations,range(1,129))\n",
    "        for (eq2,j) in zip(equations,range(1,129))\n",
    "            if j>=i\n",
    "                push!(couples,[eq1,eq2,i,j])\n",
    "                deg_temp=[deg_mon[i][k]+deg_mon[j][k] for k in range(1,8)]\n",
    "                push!(deg_couples,deg_temp)\n",
    "            end\n",
    "        end\n",
    "    end\n",
    "    return couples,deg_couples\n",
    "end"
   ]
  },
  {
   "cell_type": "markdown",
   "metadata": {},
   "source": [
    "We now consider the choice of points in the matrix $A$ below. We compute the $129$ polynomials $f_i^D$ in $\\mathbb{C}(t)[z_0, z_1, \\dots, z_6]$ obtained by applying the functions `exceptional`, `hyperplanes`, `quadrics`, `cubics`, `quartics` and `strange` to $A$. \n",
    "\n",
    "For each polynomial $f_iD$ we then look at $f_i^D\\left(A\\cdot z\\right)$ and finally we do the change of variables $z_i \\mapsto y_i/x_i$ and the homogeneization to obtain the function $\\phi_{7,3}(t)$ described in Section 3. We do this in two steps to make our computations more efficient. \n"
   ]
  },
  {
   "cell_type": "code",
   "execution_count": 46,
   "metadata": {},
   "outputs": [
    {
     "data": {
      "text/plain": [
       "4×7 Matrix{fmpq_mpoly}:\n",
       " t^59  t^44  t^79  t^20  t^12  t^81  t^36\n",
       " t^8   t^72  t^49  t^39  t^58  t^23  t^64\n",
       " t^44  t^58  t^12  t^52  t^57  t^49  t^51\n",
       " t^25  t^23  t^60  t^72  t^45  t^51  t^6"
      ]
     },
     "execution_count": 46,
     "metadata": {},
     "output_type": "execute_result"
    }
   ],
   "source": [
    "KS, (t,z0,z1,z2,z3,z4,z5,z6)=PolynomialRing(QQ, [\"t\",\"z0\",\"z1\",\"z2\",\"z3\",\"z4\",\"z5\",\"z6\"]);\n",
    "    z_vars = KS.([z0,z1,z2,z3,z4,z5,z6]);\n",
    "    vars=KS.([z0,z1,z2,z3])\n",
    "\n",
    "A=[t^59 t^44 t^79 t^20 t^12 t^81 t^36; t^8 t^72 t^49 t^39 t^58 t^23 t^64; t^44 t^58 t^12 t^52 t^57 t^49 t^51; t^25 t^23 t^60 t^72 t^45 t^51 t^6]\n"
   ]
  },
  {
   "cell_type": "markdown",
   "metadata": {},
   "source": [
    "The matrices below are other examples of points in general position for which we obtain a Khovanskii basis. They were found via a random search. "
   ]
  },
  {
   "cell_type": "code",
   "execution_count": 47,
   "metadata": {},
   "outputs": [],
   "source": [
    "#A=[t^136 t^47 t^28 t^101 t^64 t^193 t^83; t^67 t^158 t^46 t^128 t^122 t^133 t^82; t^78 t^183 t^106 t^95 t^78 t^154 t^9; t^98 t^166 t^148 t^35 t^26 t^193 t^95]\n",
    "#A=[t^13 t^68 t^70 t^27 t^68 t^90 t^10; t^45 t^32 t^9 t^29 t^15 t^13 t^61; t^45 t^82 t^26 t^22 t^9 t^54 t^45; t^2 t^36 t^32 t^25 t^16 t^87 t^68]\n",
    "#A=[t^96 t^77 t^27 t^21 t^20 t^63 t^76; t^35 t^98 t^80 t^81 t^60 t^85 t^53; t^23 t^22 t^76 t^53 t^99 t^31 t^97; t^27 t^84 t^30 t^79 t^56 t^21 t^74]\n",
    "#A=[t^58 t^100 t^61 t^11 t^18 t^40 t^100; t^23 t^38 t^40 t^89 t^63 t^56 t^66; t^92 t^25 t^76 t^27 t^67 t^36 t^73; t^18 t^90 t^92 t^73 t^54 t^8 t^18]\n",
    "#A=[t^178 t^93 t^185 t^97 t^103 t^22 t^32; t^38 t^84 t^177 t^188 t^150 t^192 t^26; t^127 t^14 t^192 t^134 t^23 t^91 t^132; t^173 t^78 t^18 t^155 t^189 t^161 t^19]"
   ]
  },
  {
   "cell_type": "markdown",
   "metadata": {},
   "source": [
    "In the function we implement the following checks: \n",
    "1. The chosen points are in general poistion, by looking at whether any of the $129$ polynomials is zero. \n",
    "2. The initial forms of the $129$ polynomials are monomials. \n",
    "3. The initial forms of the three polynomials computed by the function strange (sections of $-K_{7,3}/2)$ have different initial forms. \n",
    "4. For every multidegree $D$ from quadratic relations the dimension of the corresponding linear system is equal to the number of monomials. "
   ]
  },
  {
   "cell_type": "code",
   "execution_count": 48,
   "metadata": {},
   "outputs": [
    {
     "data": {
      "text/plain": [
       "is_khovanskii (generic function with 1 method)"
      ]
     },
     "execution_count": 48,
     "metadata": {},
     "output_type": "execute_result"
    }
   ],
   "source": [
    "function is_khovanskii(A)\n",
    "    KS, (t,z0,z1,z2,z3,z4,z5,z6)=PolynomialRing(QQ, [\"t\",\"z0\",\"z1\",\"z2\",\"z3\",\"z4\",\"z5\",\"z6\"]);\n",
    "    z_vars = KS.([z0,z1,z2,z3,z4,z5,z6]);\n",
    "    vars=KS.([z0,z1,z2,z3])\n",
    "\n",
    "    deg_2=[[1, 1, 0, 0, 1, 1, 1, 1], [2, 1, 2, 1, 1, 1, 1, 1], [2, 2, 2, 0, 1, 1, 1, 1], [3, 3, 2, 2, 1, 1, 1, 1], [3, 2, 2, 2, 2, 1, 1, 1], [4, 2, 2, 2, 2, 2, 2, 2], [4, 3, 1, 2, 2, 2, 2, 2], [3, 2, 0, 1, 2, 2, 2, 2], [4, 2, 1, 1, 3, 3, 2, 2], [5, 1, 2, 2, 3, 3, 3, 3], [5, 2, 2, 2, 2, 3, 3, 3], [5, 4, 2, 3, 2, 2, 2, 2], [6, 3, 2, 3, 3, 3, 3, 3], [6, 4, 2, 2, 3, 3, 3, 3], [7, 3, 4, 4, 3, 3, 3, 3]]\n",
    "\n",
    "\n",
    "    exc, deg_mon_exc=exceptional();\n",
    "    exc_mon,bol_exc=leading_t_vect(exc);\n",
    "\n",
    "    hyps, deg_mon_hyp= hyperplanes(A);\n",
    "\n",
    "    if !zero_check(hyps)\n",
    "        println(\"One of the hyps is zero\")\n",
    "        return false;\n",
    "    end\n",
    "    hyps_mon,bol_hyps= leading_t_vect(hyps);\n",
    "\n",
    "    if !bol_hyps\n",
    "        println(\"The hyperplanes are not monomeric\")\n",
    "        return false;\n",
    "    end\n",
    "    println(\"Hyperplanes check \")\n",
    "\n",
    "    quad,deg_mon_quad = quadrics(A);\n",
    "    if !zero_check(quad)\n",
    "        println(\"One of the quad is zero\")\n",
    "        return false;\n",
    "    end\n",
    "    quad_mon,bol_quad= leading_t_vect(quad);\n",
    "    if !bol_quad\n",
    "        println(\"The quadrics are not monomeric\")\n",
    "        return false;\n",
    "    end\n",
    "    println(\"Quad check \")\n",
    "\n",
    "    cub,deg_mon_cub = cubics(A);\n",
    "    if !zero_check(cub)\n",
    "        println(\"One of the cub is zero\")\n",
    "        return false;\n",
    "    end\n",
    "    cub_mon,bol_cub= leading_t_vect(cub);\n",
    "    if !bol_cub\n",
    "        println(\"The cubics are not monomeric\")\n",
    "        return false;\n",
    "    end\n",
    "    println(\"Cub check \")\n",
    "\n",
    "    #This is the matrix needed to obtain three different sections\n",
    "    A_plus=matrix(KS,[0 t^2 0 0  0 0 0 0 0 0; 0 0 0 0 0 0 0 0 0 t^3; 0 0 0 0 0 t^4 0 0 0 0; 1 0 0 0 0 0 0 0 0 0; 0 0 0 0 0 0 1 0 0 0; 0 0 0 0 0 0 0 0 1 0])\n",
    "\n",
    "    stra,deg_mon_strange,bol_strange=strange(A,A_plus);\n",
    "    if !zero_check(stra)\n",
    "        println(\"One of the strange is zero\")\n",
    "        return false;\n",
    "    end\n",
    "\n",
    "    stra_mon,bol_strange=leading_t_vect(stra);\n",
    "    if  !bol_strange\n",
    "        println(\"The strange sections are not monomeric\")\n",
    "        return false;\n",
    "    end\n",
    "\n",
    "    if !strange_diff(stra_mon)\n",
    "        println(\"Two initial forms of the strange sections are the same. Change A_bol!\")\n",
    "        return false;\n",
    "    end\n",
    "    println(\"Strange check \")\n",
    "\n",
    "    quart,deg_mon_quart = quartics(A,quad,stra);\n",
    "    if !zero_check(quart)\n",
    "        println(\"One of the quartics is zero\")\n",
    "        return false;\n",
    "    end\n",
    "    quart_mon,bol_quart= leading_t_vect(quart);\n",
    "    if !bol_quart\n",
    "        println(\"The quartics are not monomeric\")\n",
    "        return false;\n",
    "    end\n",
    "\n",
    "    hyps_mon=[numerator(el//t^degree(el,t)) for el in hyps_mon]\n",
    "    quad_mon=[numerator(el//t^degree(el,t)) for el in quad_mon]\n",
    "    cub_mon=[numerator(el//t^degree(el,t)) for el in cub_mon]\n",
    "    quart_mon=[numerator(el//t^degree(el,t)) for el in quart_mon]\n",
    "    stra_mon=[numerator(el//t^degree(el,t)) for el in stra_mon]\n",
    "\n",
    "    deg_mon=reduce(vcat,([],deg_mon_exc,deg_mon_hyp,deg_mon_quad,deg_mon_cub,deg_mon_quart,deg_mon_strange));\n",
    "    equations_mon=reduce(vcat, (exc_mon,hyps_mon,quad_mon,cub_mon,quart_mon,stra_mon));\n",
    "    couples,deg_couples=degree_quadratic(deg_mon,equations_mon);\n",
    "    sagbi_bol=true\n",
    "\n",
    "    S_t, (t,z0,z1,z2,z3,z4,z5,z6,e0,e1,e2,e3,e4,e5,e6,H012,H013,H014,H015,H016,H023,H024,H025,H026,H034,H035,\n",
    "        H036,H045,H046,H056,H123,H124,H125,H126,H134,H135,H136,H145,H146,H156,H234,H235,H236,H245,H246,H256,H345,\n",
    "        H346,H356,H456,Q01,Q02,Q03,Q04,Q05,Q06,Q10,Q12,Q13,Q14,Q15,Q16,Q20,Q21,Q23,Q24,Q25,Q26,Q30,Q31,Q32,Q34,Q35,\n",
    "        Q36,Q40,Q41,Q42,Q43,Q45,Q46,Q50,Q51,Q52,Q53,Q54,Q56,Q60,Q61,Q62,Q63,Q64,Q65,C210,C310,C320,C321,C410,C420,\n",
    "        C421,C430,C431,C432,C510,C520,C521,C530,C531,C532,C540,C541,C542,C543,C610,C620,C621,C630,C631,C632,C640,\n",
    "        C641,C642,C643,C650,C651,C652,C653,C654,Qr0,Qr1,Qr2,Qr3,Qr4,Qr5,Qr6,S0,S1,S2) = \n",
    "        PolynomialRing(QQ, [\"t\",\"z0\",\"z1\",\"z2\",\"z3\",\"z4\",\"z5\",\"z6\",\"e0\",\"e1\",\"e2\",\"e3\",\"e4\",\"e5\",\"e6\",\"H012\",\"H013\",\"H014\",\"H015\",\"H016\",\"H023\",\"H024\",\"H025\",\"H026\",\"H034\",\"H035\",\"H036\",\"H045\",\"H046\",\"H056\",\"H123\",\"H124\",\"H125\",\"H126\",\"H134\",\"H135\",\"H136\",\"H145\",\"H146\",\"H156\",\"H234\",\"H235\",\"H236\",\"H245\",\"H246\",\"H256\",\"H345\",\"H346\",\"H356\",\"H456\",\"Q01\",\"Q02\",\"Q03\",\"Q04\",\"Q05\",\"Q06\",\"Q10\",\"Q12\",\"Q13\",\"Q14\",\"Q15\",\"Q16\",\"Q20\",\"Q21\",\"Q23\",\"Q24\",\"Q25\",\"Q26\",\"Q30\",\"Q31\",\"Q32\",\"Q34\",\"Q35\",\"Q36\",\"Q40\",\"Q41\",\"Q42\",\"Q43\",\"Q45\",\"Q46\",\"Q50\",\"Q51\",\"Q52\",\"Q53\",\"Q54\",\"Q56\",\"Q60\",\"Q61\",\"Q62\",\"Q63\",\"Q64\",\"Q65\",\"C210\",\"C310\",\"C320\",\"C321\",\"C410\",\"C420\",\"C421\",\"C430\",\"C431\",\"C432\",\"C510\",\"C520\",\"C521\",\"C530\",\"C531\",\"C532\",\"C540\",\"C541\",\"C542\",\"C543\",\"C610\",\"C620\",\"C621\",\"C630\",\"C631\",\"C632\",\"C640\",\"C641\",\"C642\",\"C643\",\"C650\",\"C651\",\"C652\",\"C653\",\"C654\",\"Qr0\",\"Qr1\",\"Qr2\",\"Qr3\",\"Qr4\",\"Qr5\",\"Qr6\",\"S0\",\"S1\",\"S2\"])\n",
    "    vars_S=S_t.([e0,e1,e2,e3,e4,e5,e6,H012,H013,H014,H015,H016,H023,H024,H025,H026,H034,H035,H036,H045,H046,H056,H123,H124,H125,H126,H134,H135,H136,H145,H146,H156,H234,H235,H236,H245,H246,H256,H345,H346,H356,H456,Q01,Q02,Q03,Q04,Q05,Q06,Q10,Q12,Q13,Q14,Q15,Q16,Q20,Q21,Q23,Q24,Q25,Q26,Q30,Q31,Q32,Q34,Q35,Q36,Q40,Q41,Q42,Q43,Q45,Q46,Q50,Q51,Q52,Q53,Q54,Q56,Q60,Q61,Q62,Q63,Q64,Q65,C210,C310,C320,C321,C410,C420,C421,C430,C431,C432,C510,C520,C521,C530,C531,C532,C540,C541,C542,C543,C610,C620,C621,C630,C631,C632,C640,C641,C642,C643,C650,C651,C652,C653,C654,Qr0,Qr1,Qr2,Qr3,Qr4,Qr5,Qr6,S0,S1,S2]);\n",
    "    same_ring=hom(KS,S_t,z->z,[t,z0,z1,z2,z3,z4,z5,z6])\n",
    "\n",
    "    dimensions=[2,4,2,2,4,7,4,2,2,2,4,2,4,2,2]\n",
    "    bol_hilb=true\n",
    "    for (deg,cont_deg) in zip(deg_2,range(1,length(deg_2)))\n",
    "        println(\"--------------------------- \",cont_deg,\" out of \",length(deg_2),\". Check of degree \", deg)\n",
    "        println(\"There are \",length(multiset_permutations(deg[2:8],7)) ,\" permutations\")\n",
    "        for deg_perm in multiset_permutations(deg[2:8],7)\n",
    "            pushfirst!(deg_perm,deg[1])\n",
    "            monomials=[]\n",
    "            for (cou,i) in zip(couples,range(1,length(couples)))\n",
    "                if deg_couples[i]==deg_perm\n",
    "                    push!(monomials,same_ring(cou[2])*same_ring(cou[1]));\n",
    "                end\n",
    "            end\n",
    "            if length(monomials)!=1\n",
    "                monomials_mon=Set()\n",
    "                for el in monomials\n",
    "                    push!(monomials_mon,numerator(monomial(el,1)//t^(degree(el,t))))\n",
    "                end\n",
    "                if length(monomials_mon)!=dimensions[cont_deg]\n",
    "                    println(deg_perm)\n",
    "                    println(monomials_mon)\n",
    "                    bol_hilb=false\n",
    "                end\n",
    "            end\n",
    "        end\n",
    "    end\n",
    "    \n",
    "    if !bol_hilb\n",
    "        println(\"Not Sagbi\")\n",
    "        return false;\n",
    "    end\n",
    "    #Now we know it is Sagbi. We now compute the change of variables z_i -> y_i/x_i and the homogenization.     \n",
    "\n",
    "    equations_mon=reduce(vcat, (exc_mon,hyps_mon,quad_mon,cub_mon,quart_mon,stra_mon));\n",
    "    R, (t,x0,x1,x2,x3,x4,x5,x6,y0,y1,y2,y3,y4,y5,y6) = PolynomialRing(QQ, [\"t\",\"x0\",\"x1\",\"x2\",\"x3\",\"x4\",\"x5\",\"x6\",\"y0\",\"y1\",\"y2\",\"y3\",\"y4\",\"y5\",\"y6\"])\n",
    "    x = R.([x0,x1,x2,x3,x4,x5,x6]);\n",
    "    y = R.([y0,y1,y2,y3,y4,y5,y6]);\n",
    "\n",
    "    exc_mon_R=[x[i] for i in  range(1,7)];\n",
    "    hyps_mon_R,quad_mon_R,cub_mon_R,quart_mon_R,stra_mon_R=[],[],[],[],[];\n",
    "\n",
    "    Toxy=hom(KS,FractionField(R),z->z,[t,y0//x0,y1//x1,y2//x2,y3//x3,y4//x4,y5//x5,y6//x6])\n",
    "\n",
    "    cont=1;\n",
    "    for i in 1:7\n",
    "        for j in i+1:7\n",
    "            for k in j+1:7\n",
    "                push!(hyps_mon_R,numerator(Toxy(hyps_mon[cont])*x[1]*x[2]*x[3]*x[4]*x[5]*x[6]*x[7]//(x[i]*x[j]*x[k])));\n",
    "                cont=cont+1;\n",
    "            end\n",
    "        end\n",
    "    end\n",
    "\n",
    "    cont=1;\n",
    "    for i in 1:7\n",
    "        for j in 1:7\n",
    "            if j!=i\n",
    "                push!(quad_mon_R,numerator(Toxy(quad_mon[cont])*x[1]*x[2]*x[3]*x[4]*x[5]*x[6]*x[7]*x[i]//x[j]));\n",
    "                cont=cont+1;\n",
    "            end\n",
    "        end\n",
    "    end\n",
    "\n",
    "    cont=1;\n",
    "    for i in 1:7\n",
    "        for j in 1:i-1\n",
    "            for k in 1:j-1\n",
    "                push!(cub_mon_R,numerator(Toxy(cub_mon[cont])*x[1]*x[2]*x[3]*x[4]*x[5]*x[6]*x[7]*x[i]*x[j]*x[k]));\n",
    "                cont=cont+1;\n",
    "            end\n",
    "        end\n",
    "    end\n",
    "\n",
    "    cont=1;\n",
    "    for i in 1:7\n",
    "        push!(quart_mon_R,numerator(Toxy(quart_mon[cont])*x[1]^2*x[2]^2*x[3]^2*x[4]^2*x[5]^2*x[6]^2*x[7]^2//x[i]));\n",
    "        cont=cont+1;\n",
    "    end\n",
    "\n",
    "    cont=1;\n",
    "    for i in 1:3\n",
    "        push!(stra_mon_R,numerator(Toxy(stra_mon[cont])*x[1]*x[2]*x[3]*x[4]*x[5]*x[6]*x[7]));\n",
    "        cont=cont+1;\n",
    "    end\n",
    "\n",
    "    #Finally we compute the matrix M encding the monomials of the initial forms of the generators.\n",
    "    equations_mon_R=reduce(vcat, (exc_mon_R,hyps_mon_R,quad_mon_R,cub_mon_R,quart_mon_R,stra_mon_R));\n",
    "    M=zero_matrix(ZZ,129,14);\n",
    "    for (eq,row) in zip(equations_mon_R,range(1,129))\n",
    "        for (var,col) in zip(R.([x0,x1,x2,x3,x4,x5,x6,y0,y1,y2,y3,y4,y5,y6]),range(1,14))\n",
    "            M[row,col]=Oscar.degree(eq,var)\n",
    "        end\n",
    "    end\n",
    "    \n",
    "    return (true,M,equations_mon_R,deg_mon);\n",
    "end"
   ]
  },
  {
   "cell_type": "markdown",
   "metadata": {},
   "source": [
    "We run now the function on the matrix $A$. "
   ]
  },
  {
   "cell_type": "code",
   "execution_count": 65,
   "metadata": {},
   "outputs": [
    {
     "name": "stdout",
     "output_type": "stream",
     "text": [
      "Hyperplanes check \n",
      "Quad check \n",
      "Cub check \n",
      "Strange check \n",
      "--------------------------- 1 out of 15. Check of degree [1, 1, 0, 0, 1, 1, 1, 1]\n",
      "There are 21 permutations\n",
      "--------------------------- 2 out of 15. Check of degree [2, 1, 2, 1, 1, 1, 1, 1]\n",
      "There are 7 permutations\n",
      "--------------------------- 3 out of 15. Check of degree [2, 2, 2, 0, 1, 1, 1, 1]\n",
      "There are 105 permutations\n",
      "--------------------------- 4 out of 15. Check of degree [3, 3, 2, 2, 1, 1, 1, 1]\n",
      "There are 105 permutations\n",
      "--------------------------- 5 out of 15. Check of degree [3, 2, 2, 2, 2, 1, 1, 1]\n",
      "There are 35 permutations\n",
      "--------------------------- 6 out of 15. Check of degree [4, 2, 2, 2, 2, 2, 2, 2]\n",
      "There are 1 permutations\n",
      "--------------------------- 7 out of 15. Check of degree [4, 3, 1, 2, 2, 2, 2, 2]\n",
      "There are 42 permutations\n",
      "--------------------------- 8 out of 15. Check of degree [3, 2, 0, 1, 2, 2, 2, 2]\n",
      "There are 42 permutations\n",
      "--------------------------- 9 out of 15. Check of degree [4, 2, 1, 1, 3, 3, 2, 2]\n",
      "There are 210 permutations\n",
      "--------------------------- 10 out of 15. Check of degree [5, 1, 2, 2, 3, 3, 3, 3]\n",
      "There are 105 permutations\n",
      "--------------------------- 11 out of 15. Check of degree [5, 2, 2, 2, 2, 3, 3, 3]\n",
      "There are 35 permutations\n",
      "--------------------------- 12 out of 15. Check of degree [5, 4, 2, 3, 2, 2, 2, 2]\n",
      "There are 42 permutations\n",
      "--------------------------- 13 out of 15. Check of degree [6, 3, 2, 3, 3, 3, 3, 3]\n",
      "There are 7 permutations\n",
      "--------------------------- 14 out of 15. Check of degree [6, 4, 2, 2, 3, 3, 3, 3]\n",
      "There are 105 permutations\n",
      "--------------------------- 15 out of 15. Check of degree [7, 3, 4, 4, 3, 3, 3, 3]\n",
      "There are 21 permutations\n"
     ]
    },
    {
     "data": {
      "text/plain": [
       "(true, [1 0 0 0 0 0 0 0 0 0 0 0 0 0; 0 1 0 0 0 0 0 0 0 0 0 0 0 0; 0 0 1 0 0 0 0 0 0 0 0 0 0 0; 0 0 0 1 0 0 0 0 0 0 0 0 0 0; 0 0 0 0 1 0 0 0 0 0 0 0 0 0; 0 0 0 0 0 1 0 0 0 0 0 0 0 0; 0 0 0 0 0 0 1 0 0 0 0 0 0 0; 0 0 0 1 0 1 1 0 0 0 0 1 0 0; 0 0 0 0 1 1 1 0 0 1 0 0 0 0; 0 0 0 1 0 1 1 0 0 1 0 0 0 0; 0 0 1 1 0 0 1 0 0 0 0 1 0 0; 0 0 0 1 1 1 0 0 0 1 0 0 0 0; 0 1 0 0 1 1 0 0 0 0 0 0 0 1; 0 1 0 1 0 1 0 0 0 0 0 0 0 1; 0 1 0 1 0 0 1 0 0 0 0 1 0 0; 0 1 0 1 0 1 0 0 0 0 0 1 0 0; 0 1 1 0 0 1 0 0 0 0 0 0 0 1; 0 1 0 0 1 0 1 0 0 1 0 0 0 0; 0 1 0 0 1 1 0 0 0 1 0 0 0 0; 0 1 0 1 0 0 1 0 0 1 0 0 0 0; 0 1 0 1 0 1 0 0 0 1 0 0 0 0; 0 1 1 1 0 0 0 0 0 0 0 1 0 0; 0 0 0 0 1 1 1 1 0 0 0 0 0 0; 0 0 0 1 0 1 1 1 0 0 0 0 0 0; 1 0 0 1 0 0 1 0 0 0 0 1 0 0; 0 0 0 1 1 1 0 1 0 0 0 0 0 0; 1 0 0 0 0 1 1 0 0 1 0 0 0 0; 1 0 0 0 1 0 1 0 0 1 0 0 0 0; 0 0 1 0 1 1 0 1 0 0 0 0 0 0; 1 0 0 1 0 0 1 0 0 1 0 0 0 0; 0 0 1 1 0 1 0 1 0 0 0 0 0 0; 1 0 0 1 1 0 0 0 0 1 0 0 0 0; 1 1 0 0 0 1 0 0 0 0 0 0 0 1; 1 1 0 0 1 0 0 0 0 0 0 0 0 1; 0 1 0 0 1 1 0 1 0 0 0 0 0 0; 1 1 0 1 0 0 0 0 0 0 0 0 0 1; 0 1 0 1 0 1 0 1 0 0 0 0 0 0; 1 1 0 1 0 0 0 0 0 0 0 1 0 0; 1 1 1 0 0 0 0 0 0 0 0 0 0 1; 1 1 0 0 0 1 0 0 0 1 0 0 0 0; 1 1 0 0 1 0 0 0 0 1 0 0 0 0; 1 1 0 1 0 0 0 0 0 1 0 0 0 0; 1 0 0 1 1 1 1 1 0 1 0 0 0 0; 1 1 0 1 1 1 0 1 0 0 0 0 0 1; 1 1 1 0 1 1 0 1 0 0 0 0 0 1; 1 1 1 1 0 1 0 1 0 0 0 0 0 1; 2 1 0 1 1 0 0 0 0 1 0 0 0 1; 1 1 0 1 1 1 0 1 0 1 0 0 0 0; 0 2 1 1 0 1 0 0 0 0 0 1 0 1; 1 2 0 1 0 1 0 0 0 0 0 1 0 1; 1 2 0 0 1 1 0 0 0 1 0 0 0 1; 1 2 0 1 0 1 0 0 0 1 0 0 0 1; 1 2 1 1 0 0 0 0 0 0 0 1 0 1; 1 2 0 1 0 1 0 0 0 1 0 1 0 0; 0 1 0 1 1 1 1 0 0 2 0 0 0 0; 1 0 0 1 1 1 1 0 0 2 0 0 0 0; 1 1 0 0 1 1 1 0 0 2 0 0 0 0; 1 1 0 1 0 1 1 0 0 2 0 0 0 0; 1 1 0 1 1 0 1 0 0 2 0 0 0 0; 1 1 0 1 1 1 0 0 0 2 0 0 0 0; 0 1 0 2 0 1 1 0 0 1 0 1 0 0; 0 0 1 2 0 1 1 1 0 0 0 1 0 0; 0 1 0 2 0 1 1 1 0 0 0 1 0 0; 0 1 0 2 0 1 1 1 0 1 0 0 0 0; 1 1 0 2 0 0 1 0 0 1 0 1 0 0; 0 1 1 2 0 1 0 1 0 0 0 1 0 0; 0 1 0 1 1 1 1 0 0 1 0 1 0 0; 0 0 1 1 1 1 1 1 0 0 0 1 0 0; 0 1 0 1 1 1 1 1 0 0 0 1 0 0; 0 1 0 0 2 1 1 1 0 1 0 0 0 0; 1 1 0 1 1 0 1 0 0 1 0 1 0 0; 0 1 1 1 1 1 0 1 0 0 0 1 0 0; 0 1 0 1 1 2 0 0 0 1 0 0 0 1; 0 0 0 1 1 2 1 1 0 1 0 0 0 0; 0 1 0 1 1 2 0 1 0 0 0 0 0 1; 0 1 1 0 1 2 0 1 0 0 0 0 0 1; 0 1 1 1 0 2 0 1 0 0 0 0 0 1; 0 1 0 1 1 2 0 1 0 1 0 0 0 0; 0 1 1 1 0 1 1 0 0 0 0 1 0 1; 1 0 0 1 0 1 2 0 0 1 0 1 0 0; 1 1 0 1 0 1 1 0 0 0 0 1 0 1; 1 1 0 0 1 1 1 0 0 1 0 0 0 1; 1 1 0 1 0 1 1 0 0 1 0 0 0 1; 1 1 1 1 0 0 1 0 0 0 0 1 0 1; 2 2 0 1 1 1 0 0 0 2 0 0 0 1; 1 2 1 2 0 1 0 1 0 0 0 1 0 1; 1 1 0 2 1 1 1 1 0 2 0 0 0 0; 1 2 0 2 0 1 1 0 0 2 0 1 0 0; 1 2 1 1 1 1 0 1 0 0 0 1 0 1; 1 1 0 1 2 1 1 1 0 2 0 0 0 0; 1 2 0 1 1 1 1 0 0 2 0 1 0 0; 1 1 0 2 1 1 1 1 0 1 0 1 0 0; 1 2 0 2 0 1 1 0 0 1 0 2 0 0; 1 1 0 2 1 1 1 0 0 2 0 1 0 0; 1 2 0 1 1 2 0 1 0 1 0 0 0 1; 1 1 0 1 1 2 1 1 0 2 0 0 0 0; 1 2 0 1 1 2 0 0 0 2 0 0 0 1; 0 1 0 2 1 2 1 2 0 1 0 0 0 0; 0 2 1 2 0 2 0 1 0 0 0 1 0 1; 0 1 0 2 1 2 1 1 0 2 0 0 0 0; 0 1 0 1 2 2 1 2 0 1 0 0 0 0; 0 2 1 1 1 2 0 1 0 0 0 1 0 1; 0 1 0 1 2 2 1 1 0 2 0 0 0 0; 0 1 0 2 1 2 1 1 0 1 0 1 0 0; 2 2 0 1 1 1 0 0 0 1 0 0 0 2; 2 1 0 1 1 1 1 0 0 2 0 0 0 1; 1 2 0 1 1 1 1 0 0 2 0 0 0 1; 1 1 1 2 0 1 1 1 0 0 0 1 0 1; 1 2 0 2 0 1 1 0 0 1 0 1 0 1; 1 1 0 2 0 1 2 0 0 2 0 1 0 0; 1 1 1 1 1 1 1 1 0 0 0 1 0 1; 1 2 0 1 1 1 1 0 0 1 0 1 0 1; 1 1 0 1 1 1 2 0 0 2 0 1 0 0; 1 1 0 2 0 1 2 0 0 1 0 2 0 0; 1 1 0 1 1 2 1 1 0 1 0 0 0 1; 1 2 0 1 1 2 0 0 0 1 0 0 0 2; 1 1 0 1 1 2 1 0 0 2 0 0 0 1; 0 1 1 2 0 2 1 1 0 0 0 1 0 1; 0 1 1 1 1 2 1 1 0 0 0 1 0 1; 1 2 0 2 1 2 1 0 0 2 0 1 0 1; 1 1 0 2 1 2 2 1 0 2 0 1 0 0; 1 2 0 2 1 2 1 1 0 1 0 1 0 1; 1 2 0 1 2 2 1 1 0 2 0 0 0 1; 1 2 0 2 1 2 1 1 0 2 0 0 0 1; 2 2 0 2 1 1 1 0 0 2 0 1 0 1; 1 2 0 2 1 2 1 1 0 2 0 1 0 0; 0 1 0 1 1 1 1 1 0 1 0 0 0 0; 1 1 0 1 1 1 0 0 0 1 0 0 0 1; 1 1 0 1 0 1 1 0 0 1 0 1 0 0], Any[x0, x1, x2, x3, x4, x5, x6, -x3*x5*x6*y4, x4*x5*x6*y2, x3*x5*x6*y2  …  4*x0*x1^2*x3^2*x4*x5^2*x6*y2^2*y4*y6, -4*x0*x1*x3^2*x4*x5^2*x6^2*y0*y2^2*y4, -4*x0*x1^2*x3^2*x4*x5^2*x6*y0*y2*y4*y6, -4*x0*x1^2*x3*x4^2*x5^2*x6*y0*y2^2*y6, 4*x0*x1^2*x3^2*x4*x5^2*x6*y0*y2^2*y6, -4*x0^2*x1^2*x3^2*x4*x5*x6*y2^2*y4*y6, 4*x0*x1^2*x3^2*x4*x5^2*x6*y0*y2^2*y4, x1*x3*x4*x5*x6*y0*y2, x0*x1*x3*x4*x5*y2*y6, x0*x1*x3*x5*x6*y2*y4], Any[[0, 1, 0, 0, 0, 0, 0, 0], [0, 0, 1, 0, 0, 0, 0, 0], [0, 0, 0, 1, 0, 0, 0, 0], [0, 0, 0, 0, 1, 0, 0, 0], [0, 0, 0, 0, 0, 1, 0, 0], [0, 0, 0, 0, 0, 0, 1, 0], [0, 0, 0, 0, 0, 0, 0, 1], [1, 0, 0, 0, 1, 1, 1, 1], [1, 0, 0, 1, 0, 1, 1, 1], [1, 0, 0, 1, 1, 0, 1, 1]  …  [4, 1, 2, 2, 2, 2, 2, 2], [4, 2, 1, 2, 2, 2, 2, 2], [4, 2, 2, 1, 2, 2, 2, 2], [4, 2, 2, 2, 1, 2, 2, 2], [4, 2, 2, 2, 2, 1, 2, 2], [4, 2, 2, 2, 2, 2, 1, 2], [4, 2, 2, 2, 2, 2, 2, 1], [2, 1, 1, 1, 1, 1, 1, 1], [2, 1, 1, 1, 1, 1, 1, 1], [2, 1, 1, 1, 1, 1, 1, 1]])"
      ]
     },
     "execution_count": 65,
     "metadata": {},
     "output_type": "execute_result"
    }
   ],
   "source": [
    "bol,M,mons,deg_mon=is_khovanskii(A)"
   ]
  },
  {
   "cell_type": "markdown",
   "metadata": {},
   "source": [
    "## Ehrhart-type formula"
   ]
  },
  {
   "cell_type": "markdown",
   "metadata": {},
   "source": [
    "We now run the polyhedral computations described in Section 5 of the article.\n",
    "\n",
    "We first introduce the unimodular transformation and apply it to the vectors $(a_1, \\dots, a_7, b_1,b_3, b_5,b_7) \\in \\mathbb{Z}^{11}$ from the rows of $M$. "
   ]
  },
  {
   "cell_type": "code",
   "execution_count": 66,
   "metadata": {},
   "outputs": [],
   "source": [
    "Unimod_transf = matrix(ZZ,[0 0 0 0 0 0 0 1 1 1 1; 1 0 0 0 0 0 0 1 0 0 0; 0 1 0 0 0 0 0 0 0 0 0; 0 0 1 0 0 0 0 0 1 0 0; 0 0 0 1 0 0 0 0 0 0 0; 0 0 0 0 1 0 0 0 0 1 0; 0 0 0 0 0 1 0 0 0 0 0; 0 0 0 0 0 0 1 0 0 0 1; 0 0 0 0 0 0 0 0 1 0 0; 0 0 0 0 0 0 0 0 0 1 0; 0 0 0 0 0 0 0 0 0 0 1]);\n",
    "M = M[:,[1,2,3,4,5,6,7,8,10,12,14]];"
   ]
  },
  {
   "cell_type": "code",
   "execution_count": 67,
   "metadata": {},
   "outputs": [],
   "source": [
    "IM = zero_matrix(ZZ,129,11);\n",
    "for i in 1:129 \n",
    "    IM[i,:] = transpose(Unimod_transf*transpose(M[i,:]))\n",
    "end"
   ]
  },
  {
   "cell_type": "markdown",
   "metadata": {},
   "source": [
    "We then look at the graph $\\Gamma$ defined by the new vectors. "
   ]
  },
  {
   "cell_type": "code",
   "execution_count": 68,
   "metadata": {},
   "outputs": [
    {
     "data": {
      "text/plain": [
       "A polyhedral cone in ambient dimension 11"
      ]
     },
     "execution_count": 68,
     "metadata": {},
     "output_type": "execute_result"
    }
   ],
   "source": [
    "C = positive_hull(IM)"
   ]
  },
  {
   "cell_type": "code",
   "execution_count": 69,
   "metadata": {},
   "outputs": [
    {
     "data": {
      "text/plain": [
       "10-element Vector{fmpz}:\n",
       " 126\n",
       " 2016\n",
       " 10839\n",
       " 27198\n",
       " 37635\n",
       " 30891\n",
       " 15286\n",
       " 4416\n",
       " 683\n",
       " 48"
      ]
     },
     "execution_count": 69,
     "metadata": {},
     "output_type": "execute_result"
    }
   ],
   "source": [
    "f_vector(C)"
   ]
  },
  {
   "cell_type": "code",
   "execution_count": 70,
   "metadata": {},
   "outputs": [
    {
     "data": {
      "text/plain": [
       "48-element SubObjectIterator{LinearHalfspace{fmpq}} over the Halfspaces of R^11 described by:\n",
       "4*x₁ - x₂ - 2*x₃ - x₄ - x₅ - x₆ - x₇ - 2*x₈ + x₁₁ ≦ 0\n",
       "4*x₁ - x₂ - x₃ - x₄ - 2*x₅ - 2*x₆ - x₇ - x₈ + x₀₁ ≦ 0\n",
       "2*x₁ - x₂ - x₄ - x₅ - x₆ - x₁₁ ≦ 0\n",
       "-x₄ + x₉ ≦ 0\n",
       "5*x₁ - 2*x₂ - x₃ - x₄ - x₅ - x₆ - 2*x₇ - x₈ - x₉ - x₀₁ - x₁₁ ≦ 0\n",
       "2*x₁ - x₄ - x₅ - x₆ - x₇ - x₁₁ ≦ 0\n",
       "2*x₁ - x₂ - x₄ - x₇ - x₈ - x₀₁ ≦ 0\n",
       "6*x₁ - 2*x₂ - 2*x₃ - 2*x₅ - 2*x₆ - 2*x₇ - 2*x₈ - x₉ ≦ 0\n",
       "x₁ - x₃ - x₄ - x₆ - x₈ + x₉ + x₀₁ + x₁₁ ≦ 0\n",
       "4*x₁ - x₂ - 2*x₃ - 2*x₅ - 2*x₆ - x₇ - 2*x₈ + 2*x₀₁ + x₁₁ ≦ 0\n",
       "2*x₁ - x₃ - x₅ - x₆ - x₇ - x₈ + x₀₁ ≦ 0\n",
       "2*x₁ - 2*x₃ - x₄ - x₅ - x₆ - 2*x₈ + x₉ + 2*x₀₁ + 2*x₁₁ ≦ 0\n",
       "⋮\n",
       "5*x₁ - 2*x₂ - 2*x₃ - x₅ - x₆ - 2*x₇ - 2*x₈ - x₉ - x₀₁ + x₁₁ ≦ 0\n",
       "2*x₁ - x₂ - x₇ - 2*x₉ - 2*x₀₁ - x₁₁ ≦ 0\n",
       "2*x₁ - x₂ - x₃ - x₄ - x₇ - x₀₁ ≦ 0\n",
       "2*x₁ - x₂ - x₃ - x₄ - x₇ - x₈ + x₁₁ ≦ 0\n",
       "-x₃ - x₅ - x₈ + x₉ + 2*x₀₁ + 2*x₁₁ ≦ 0\n",
       "-x₆ + x₀₁ ≦ 0\n",
       "2*x₁ - x₂ - x₃ - x₇ - x₉ - 2*x₀₁ ≦ 0\n",
       "4*x₁ - 2*x₂ - x₃ - x₄ - 2*x₇ - x₈ - x₉ - 2*x₀₁ ≦ 0\n",
       "x₁ - x₂ - x₉ - x₀₁ - x₁₁ ≦ 0\n",
       "2*x₁ - x₂ - x₇ - x₈ - x₉ - 2*x₀₁ ≦ 0\n",
       "-x₅ + x₀₁ ≦ 0\n",
       "-x₃ - x₆ - x₈ + x₉ + 2*x₀₁ + 2*x₁₁ ≦ 0\n"
      ]
     },
     "execution_count": 70,
     "metadata": {},
     "output_type": "execute_result"
    }
   ],
   "source": [
    "facets(C)"
   ]
  },
  {
   "cell_type": "markdown",
   "metadata": {},
   "source": [
    "### Mukai edge graph"
   ]
  },
  {
   "cell_type": "markdown",
   "metadata": {},
   "source": [
    "We define the Mukai bilinear form in the case of the blow up of $\\mathbb{P}^3$ in seven points. "
   ]
  },
  {
   "cell_type": "code",
   "execution_count": 71,
   "metadata": {},
   "outputs": [
    {
     "data": {
      "text/plain": [
       "Mukai_form (generic function with 1 method)"
      ]
     },
     "execution_count": 71,
     "metadata": {},
     "output_type": "execute_result"
    }
   ],
   "source": [
    "function Mukai_form(i,j)\n",
    "    E=deg_mon[i]\n",
    "    D=deg_mon[j]\n",
    "    return (2*E[1]*D[1]-(E[1]-E[2])*(D[1]-D[2])-(E[1]-E[3])*(D[1]-D[3])-(E[1]-E[4])*(D[1]-D[4])-(E[1]-E[5])*(D[1]-D[5])-(E[1]-E[6])*(D[1]-D[6])-(E[1]-E[7])*(D[1]-D[7])-(E[1]-E[8])*(D[1]-D[8]));\n",
    "end"
   ]
  },
  {
   "cell_type": "markdown",
   "metadata": {},
   "source": [
    "We check whether the polytope defined by $M$ has Mukai edge graph. The function takes as input the matrix $M$ and the degrees given as output `deg_mon` in the function `is_Khovanskii`. "
   ]
  },
  {
   "cell_type": "code",
   "execution_count": 72,
   "metadata": {},
   "outputs": [
    {
     "data": {
      "text/plain": [
       "has_Mukai_edge_graph (generic function with 2 methods)"
      ]
     },
     "execution_count": 72,
     "metadata": {},
     "output_type": "execute_result"
    }
   ],
   "source": [
    "function has_Mukai_edge_graph(M,deg_mon)\n",
    "    P=convex_hull(M);\n",
    "    EdGr=Oscar.Graphs.edgegraph(P);\n",
    "    E=Oscar.Graphs.edges(EdGr);\n",
    "\n",
    "    graph_bol=true\n",
    "    for vert in range(1,length(vertices(P)))\n",
    "        cont_zero=0\n",
    "        cont=0\n",
    "        for vert2 in Graphs.neighbors(EdGr,vert)\n",
    "            cont=cont+1\n",
    "            if Mukai_form(vert,vert2)==0\n",
    "                cont_zero=cont_zero+1\n",
    "            end\n",
    "        end\n",
    "        println(\"For vertex \",vert,\" we get \",cont_zero,\"/\",cont, \" have scalar product zero\")\n",
    "        if cont!=32\n",
    "            graph_bol=false\n",
    "        end\n",
    "        if cont!=cont_zero\n",
    "            graph_bol=false\n",
    "        end\n",
    "    end\n",
    "\n",
    "    if graph_bol\n",
    "        return true;\n",
    "    end\n",
    "    \n",
    "    return false;\n",
    "end"
   ]
  },
  {
   "cell_type": "code",
   "execution_count": 73,
   "metadata": {},
   "outputs": [
    {
     "name": "stdout",
     "output_type": "stream",
     "text": [
      "For vertex 1 we get 32/32 have scalar product zero\n",
      "For vertex 2 we get 32/32 have scalar product zero\n",
      "For vertex 3 we get 32/32 have scalar product zero\n",
      "For vertex 4 we get 32/32 have scalar product zero\n",
      "For vertex 5 we get 32/32 have scalar product zero\n",
      "For vertex 6 we get 32/32 have scalar product zero\n",
      "For vertex 7 we get 32/32 have scalar product zero\n",
      "For vertex 8 we get 32/32 have scalar product zero\n",
      "For vertex 9 we get 32/32 have scalar product zero\n",
      "For vertex 10 we get 32/32 have scalar product zero\n",
      "For vertex 11 we get 32/32 have scalar product zero\n",
      "For vertex 12 we get 32/32 have scalar product zero\n",
      "For vertex 13 we get 32/32 have scalar product zero\n",
      "For vertex 14 we get 32/32 have scalar product zero\n",
      "For vertex 15 we get 32/32 have scalar product zero\n",
      "For vertex 16 we get 32/32 have scalar product zero\n",
      "For vertex 17 we get 32/32 have scalar product zero\n",
      "For vertex 18 we get 32/32 have scalar product zero\n",
      "For vertex 19 we get 32/32 have scalar product zero\n",
      "For vertex 20 we get 32/32 have scalar product zero\n",
      "For vertex 21 we get 32/32 have scalar product zero\n",
      "For vertex 22 we get 32/32 have scalar product zero\n",
      "For vertex 23 we get 32/32 have scalar product zero\n",
      "For vertex 24 we get 32/32 have scalar product zero\n",
      "For vertex 25 we get 32/32 have scalar product zero\n",
      "For vertex 26 we get 32/32 have scalar product zero\n",
      "For vertex 27 we get 32/32 have scalar product zero\n",
      "For vertex 28 we get 32/32 have scalar product zero\n",
      "For vertex 29 we get 32/32 have scalar product zero\n",
      "For vertex 30 we get 32/32 have scalar product zero\n",
      "For vertex 31 we get 32/32 have scalar product zero\n",
      "For vertex 32 we get 32/32 have scalar product zero\n",
      "For vertex 33 we get 32/32 have scalar product zero\n",
      "For vertex 34 we get 32/32 have scalar product zero\n",
      "For vertex 35 we get 32/32 have scalar product zero\n",
      "For vertex 36 we get 32/32 have scalar product zero\n",
      "For vertex 37 we get 32/32 have scalar product zero\n",
      "For vertex 38 we get 32/32 have scalar product zero\n",
      "For vertex 39 we get 32/32 have scalar product zero\n",
      "For vertex 40 we get 32/32 have scalar product zero\n",
      "For vertex 41 we get 32/32 have scalar product zero\n",
      "For vertex 42 we get 32/32 have scalar product zero\n",
      "For vertex 43 we get 32/32 have scalar product zero\n",
      "For vertex 44 we get 32/32 have scalar product zero\n",
      "For vertex 45 we get 32/32 have scalar product zero\n",
      "For vertex 46 we get 32/32 have scalar product zero\n",
      "For vertex 47 we get 32/32 have scalar product zero\n",
      "For vertex 48 we get 32/32 have scalar product zero\n",
      "For vertex 49 we get 32/32 have scalar product zero\n",
      "For vertex 50 we get 32/32 have scalar product zero\n",
      "For vertex 51 we get 32/32 have scalar product zero\n",
      "For vertex 52 we get 32/32 have scalar product zero\n",
      "For vertex 53 we get 32/32 have scalar product zero\n",
      "For vertex 54 we get 32/32 have scalar product zero\n",
      "For vertex 55 we get 32/32 have scalar product zero\n",
      "For vertex 56 we get 32/32 have scalar product zero\n",
      "For vertex 57 we get 32/32 have scalar product zero\n",
      "For vertex 58 we get 32/32 have scalar product zero\n",
      "For vertex 59 we get 32/32 have scalar product zero\n",
      "For vertex 60 we get 32/32 have scalar product zero\n",
      "For vertex 61 we get 32/32 have scalar product zero\n",
      "For vertex 62 we get 32/32 have scalar product zero\n",
      "For vertex 63 we get 32/32 have scalar product zero\n",
      "For vertex 64 we get 32/32 have scalar product zero\n",
      "For vertex 65 we get 32/32 have scalar product zero\n",
      "For vertex 66 we get 32/32 have scalar product zero\n",
      "For vertex 67 we get 32/32 have scalar product zero\n",
      "For vertex 68 we get 32/32 have scalar product zero\n",
      "For vertex 69 we get 32/32 have scalar product zero\n",
      "For vertex 70 we get 32/32 have scalar product zero\n",
      "For vertex 71 we get 32/32 have scalar product zero\n",
      "For vertex 72 we get 32/32 have scalar product zero\n",
      "For vertex 73 we get 32/32 have scalar product zero\n",
      "For vertex 74 we get 32/32 have scalar product zero\n",
      "For vertex 75 we get 32/32 have scalar product zero\n",
      "For vertex 76 we get 32/32 have scalar product zero\n",
      "For vertex 77 we get 32/32 have scalar product zero\n",
      "For vertex 78 we get 32/32 have scalar product zero\n",
      "For vertex 79 we get 32/32 have scalar product zero\n",
      "For vertex 80 we get 32/32 have scalar product zero\n",
      "For vertex 81 we get 32/32 have scalar product zero\n",
      "For vertex 82 we get 32/32 have scalar product zero\n",
      "For vertex 83 we get 32/32 have scalar product zero\n",
      "For vertex 84 we get 32/32 have scalar product zero\n",
      "For vertex 85 we get 32/32 have scalar product zero\n",
      "For vertex 86 we get 32/32 have scalar product zero\n",
      "For vertex 87 we get 32/32 have scalar product zero\n",
      "For vertex 88 we get 32/32 have scalar product zero\n",
      "For vertex 89 we get 32/32 have scalar product zero\n",
      "For vertex 90 we get 32/32 have scalar product zero\n",
      "For vertex 91 we get 32/32 have scalar product zero\n",
      "For vertex 92 we get 32/32 have scalar product zero\n",
      "For vertex 93 we get 32/32 have scalar product zero\n",
      "For vertex 94 we get 32/32 have scalar product zero\n",
      "For vertex 95 we get 32/32 have scalar product zero\n",
      "For vertex 96 we get 32/32 have scalar product zero\n",
      "For vertex 97 we get 32/32 have scalar product zero\n",
      "For vertex 98 we get 32/32 have scalar product zero\n",
      "For vertex 99 we get 32/32 have scalar product zero\n",
      "For vertex 100 we get 32/32 have scalar product zero\n",
      "For vertex 101 we get 32/32 have scalar product zero\n",
      "For vertex 102 we get 32/32 have scalar product zero\n",
      "For vertex 103 we get 32/32 have scalar product zero\n",
      "For vertex 104 we get 32/32 have scalar product zero\n",
      "For vertex 105 we get 32/32 have scalar product zero\n",
      "For vertex 106 we get 32/32 have scalar product zero\n",
      "For vertex 107 we get 32/32 have scalar product zero\n",
      "For vertex 108 we get 32/32 have scalar product zero\n",
      "For vertex 109 we get 32/32 have scalar product zero\n",
      "For vertex 110 we get 32/32 have scalar product zero\n",
      "For vertex 111 we get 32/32 have scalar product zero\n",
      "For vertex 112 we get 32/32 have scalar product zero\n",
      "For vertex 113 we get 32/32 have scalar product zero\n",
      "For vertex 114 we get 32/32 have scalar product zero\n",
      "For vertex 115 we get 32/32 have scalar product zero\n",
      "For vertex 116 we get 32/32 have scalar product zero\n",
      "For vertex 117 we get 32/32 have scalar product zero\n",
      "For vertex 118 we get 32/32 have scalar product zero\n",
      "For vertex 119 we get 32/32 have scalar product zero\n",
      "For vertex 120 we get 32/32 have scalar product zero\n",
      "For vertex 121 we get 32/32 have scalar product zero\n",
      "For vertex 122 we get 32/32 have scalar product zero\n",
      "For vertex 123 we get 32/32 have scalar product zero\n",
      "For vertex 124 we get 32/32 have scalar product zero\n",
      "For vertex 125 we get 32/32 have scalar product zero\n",
      "For vertex 126 we get 32/32 have scalar product zero\n"
     ]
    },
    {
     "data": {
      "text/plain": [
       "true"
      ]
     },
     "execution_count": 73,
     "metadata": {},
     "output_type": "execute_result"
    }
   ],
   "source": [
    "has_Mukai_edge_graph(M,deg_mon)"
   ]
  },
  {
   "cell_type": "markdown",
   "metadata": {},
   "source": [
    "### Input for Macaualy2 "
   ]
  },
  {
   "cell_type": "markdown",
   "metadata": {},
   "source": [
    "To find the generators of the toric ideal in an efficient way, we can output the matrix $M$ so it is be given as input in Macaualy and then run the following commands. "
   ]
  },
  {
   "cell_type": "code",
   "execution_count": null,
   "metadata": {},
   "outputs": [],
   "source": [
    "function write_M_m2(M)\n",
    "    print(\"matrix\\\"\")\n",
    "    for row in range(1,129)\n",
    "        for col in range(1,14)\n",
    "            print(M[row,col])\n",
    "            if col!=14\n",
    "                print(\",\")\n",
    "            end\n",
    "        end     \n",
    "        print(\";\")\n",
    "    end\n",
    "    print(\"\\\"\")\n",
    "end"
   ]
  },
  {
   "cell_type": "code",
   "execution_count": null,
   "metadata": {},
   "outputs": [],
   "source": [
    "M<---copy and paste output of write_M_m2(M)\n",
    "M=transpose(M);\n",
    "installPackage \"FourTiTwo\";\n",
    "R=toricMarkov(M);\n"
   ]
  }
 ],
 "metadata": {
  "kernelspec": {
   "display_name": "Julia 1.7.2",
   "language": "julia",
   "name": "julia-1.7"
  },
  "language_info": {
   "file_extension": ".jl",
   "mimetype": "application/julia",
   "name": "julia",
   "version": "1.7.2"
  }
 },
 "nbformat": 4,
 "nbformat_minor": 4
}
