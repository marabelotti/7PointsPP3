{
 "cells": [
  {
   "cell_type": "markdown",
   "metadata": {},
   "source": [
    "## Quadratic generation (Theorem 4)"
   ]
  },
  {
   "cell_type": "markdown",
   "metadata": {},
   "source": [
    "Let's install all necessary dependencies required by this project"
   ]
  },
  {
   "cell_type": "code",
   "execution_count": 1,
   "metadata": {},
   "outputs": [
    {
     "name": "stderr",
     "output_type": "stream",
     "text": [
      "\u001b[32m\u001b[1m  Activating\u001b[22m\u001b[39m project at `~/Desktop/7PointsPP3`\n",
      "\u001b[32m\u001b[1m    Updating\u001b[22m\u001b[39m registry at `~/.julia/registries/General.toml`\n",
      "\u001b[32m\u001b[1m  No Changes\u001b[22m\u001b[39m to `~/Desktop/7PointsPP3/Project.toml`\n",
      "\u001b[32m\u001b[1m  No Changes\u001b[22m\u001b[39m to `~/Desktop/7PointsPP3/Manifest.toml`\n"
     ]
    }
   ],
   "source": [
    "using Pkg\n",
    "Pkg.activate(\".\")\n",
    "Pkg.update()"
   ]
  },
  {
   "cell_type": "markdown",
   "metadata": {},
   "source": [
    "Let's first include all of our code in the jupyter notebook"
   ]
  },
  {
   "cell_type": "code",
   "execution_count": 9,
   "metadata": {},
   "outputs": [],
   "source": [
    "include(\"./src/is_khovanskii.jl\")\n",
    "include(\"./src/mukai_edge_graph.jl\");"
   ]
  },
  {
   "cell_type": "markdown",
   "metadata": {},
   "source": [
    "We define the ring in which our computations will take place, which is also the polynomial ring that appears in the paper, of which our Cox Ring is a subalgebra"
   ]
  },
  {
   "cell_type": "code",
   "execution_count": 3,
   "metadata": {},
   "outputs": [
    {
     "data": {
      "text/plain": [
       "(Multivariate Polynomial Ring in 8 variables t, z[1], z[2], z[3], ..., z[7] over Rational Field, fmpq_mpoly[t, z[1], z[2], z[3], z[4], z[5], z[6], z[7]])"
      ]
     },
     "execution_count": 3,
     "metadata": {},
     "output_type": "execute_result"
    }
   ],
   "source": [
    "KS, (t,z...)=PolynomialRing(QQ, [\"t\",[\"z[$i]\" for i in 1:7]...])"
   ]
  },
  {
   "cell_type": "code",
   "execution_count": 4,
   "metadata": {},
   "outputs": [
    {
     "data": {
      "text/plain": [
       "4×7 Matrix{fmpq_mpoly}:\n",
       " t^59  t^44  t^79  t^20  t^12  t^81  t^36\n",
       " t^8   t^72  t^49  t^39  t^58  t^23  t^64\n",
       " t^44  t^58  t^12  t^52  t^57  t^49  t^51\n",
       " t^25  t^23  t^60  t^72  t^45  t^51  t^6"
      ]
     },
     "execution_count": 4,
     "metadata": {},
     "output_type": "execute_result"
    }
   ],
   "source": [
    "P=[t^59 t^44 t^79 t^20 t^12 t^81 t^36; t^8 t^72 t^49 t^39 t^58 t^23 t^64; t^44 t^58 t^12 t^52 t^57 t^49 t^51; t^25 t^23 t^60 t^72 t^45 t^51 t^6]"
   ]
  },
  {
   "cell_type": "markdown",
   "metadata": {},
   "source": [
    "This is just an example of a matrix for which things work out, but we have others"
   ]
  },
  {
   "cell_type": "code",
   "execution_count": 5,
   "metadata": {},
   "outputs": [],
   "source": [
    "#A=[t^136 t^47 t^28 t^101 t^64 t^193 t^83; t^67 t^158 t^46 t^128 t^122 t^133 t^82; t^78 t^183 t^106 t^95 t^78 t^154 t^9; t^98 t^166 t^148 t^35 t^26 t^193 t^95]\n",
    "#A=[t^13 t^68 t^70 t^27 t^68 t^90 t^10; t^45 t^32 t^9 t^29 t^15 t^13 t^61; t^45 t^82 t^26 t^22 t^9 t^54 t^45; t^2 t^36 t^32 t^25 t^16 t^87 t^68]\n",
    "#A=[t^96 t^77 t^27 t^21 t^20 t^63 t^76; t^35 t^98 t^80 t^81 t^60 t^85 t^53; t^23 t^22 t^76 t^53 t^99 t^31 t^97; t^27 t^84 t^30 t^79 t^56 t^21 t^74]\n",
    "#A=[t^58 t^100 t^61 t^11 t^18 t^40 t^100; t^23 t^38 t^40 t^89 t^63 t^56 t^66; t^92 t^25 t^76 t^27 t^67 t^36 t^73; t^18 t^90 t^92 t^73 t^54 t^8 t^18]\n",
    "#A=[t^178 t^93 t^185 t^97 t^103 t^22 t^32; t^38 t^84 t^177 t^188 t^150 t^192 t^26; t^127 t^14 t^192 t^134 t^23 t^91 t^132; t^173 t^78 t^18 t^155 t^189 t^161 t^19]"
   ]
  },
  {
   "cell_type": "markdown",
   "metadata": {},
   "source": [
    "The function ``generalposition_monomeric_check`` produces the polynomials which are the images of $\\phi_{7,3}(t)(G_{7,3})$, where the map $\\phi_{7,3}$ is described in Section $3$ of the paper and the matrix $P$ is exactly the $P$ appearing in the above cell. The output of the function is:\n",
    "\n",
    "* A boolean ``bool`` which is true if and only if the seven points given by the columns of P are in general position as described in Section 3 of the article and the initial forms are monomeric\n",
    "\n",
    "\n",
    "* If bool is true, a vector of integers ``deg_mon`` which gives the multidegree of the 129 generators\n",
    "\n",
    "* If bool is true, a vector of monomials in KS which are the initial forms of the images $\\phi_{7,3}(t)(G_{7,3})$ but with the x coordinates evaluated at one and the y called z. This is just a raw version of the initial forms which we will obtained later by calling the function ``initial_forms_of_sections``\n"
   ]
  },
  {
   "cell_type": "code",
   "execution_count": 6,
   "metadata": {},
   "outputs": [
    {
     "name": "stdout",
     "output_type": "stream",
     "text": [
      "Hyperplanes check \n",
      "Quad check \n",
      "Cub check \n",
      "Strange check\n",
      "Quartics check\n"
     ]
    }
   ],
   "source": [
    "bool,deg_mon,equations_mon=generalposition_monomeric_check(P);"
   ]
  },
  {
   "cell_type": "markdown",
   "metadata": {},
   "source": [
    "The function ``degree_two_check`` takes the vector eq_mon and equations_mon obtained as outputs of the above functions and returns a boolean which is true if and only if the Hilbert function of the algebra generated by the initial forms of $\\phi_{7,3}(t)(G_{7,3})$ is equal to the Hilbert function of the the Cox ring in degree two."
   ]
  },
  {
   "cell_type": "code",
   "execution_count": 7,
   "metadata": {},
   "outputs": [
    {
     "name": "stdout",
     "output_type": "stream",
     "text": [
      "--------------------------- 1 out of 15. Check of degree [1, 1, 0, 0, 1, 1, 1, 1]\n",
      "--------------------------- 2 out of 15. Check of degree [2, 1, 2, 1, 1, 1, 1, 1]\n",
      "--------------------------- 3 out of 15. Check of degree [2, 2, 2, 0, 1, 1, 1, 1]\n",
      "--------------------------- 4 out of 15. Check of degree [3, 3, 2, 2, 1, 1, 1, 1]\n",
      "--------------------------- 5 out of 15. Check of degree [3, 2, 2, 2, 2, 1, 1, 1]\n",
      "--------------------------- 6 out of 15. Check of degree [4, 2, 2, 2, 2, 2, 2, 2]\n",
      "--------------------------- 7 out of 15. Check of degree [4, 3, 1, 2, 2, 2, 2, 2]\n",
      "--------------------------- 8 out of 15. Check of degree [3, 2, 0, 1, 2, 2, 2, 2]\n",
      "--------------------------- 9 out of 15. Check of degree [4, 2, 1, 1, 3, 3, 2, 2]\n",
      "--------------------------- 10 out of 15. Check of degree [5, 1, 2, 2, 3, 3, 3, 3]\n",
      "--------------------------- 11 out of 15. Check of degree [5, 2, 2, 2, 2, 3, 3, 3]\n",
      "--------------------------- 12 out of 15. Check of degree [5, 4, 2, 3, 2, 2, 2, 2]\n",
      "--------------------------- 13 out of 15. Check of degree [6, 3, 2, 3, 3, 3, 3, 3]\n",
      "--------------------------- 14 out of 15. Check of degree [6, 4, 2, 2, 3, 3, 3, 3]\n",
      "--------------------------- 15 out of 15. Check of degree [7, 3, 4, 4, 3, 3, 3, 3]\n"
     ]
    }
   ],
   "source": [
    "bol_degree2=degree_two_check(deg_mon,equations_mon);"
   ]
  },
  {
   "cell_type": "markdown",
   "metadata": {},
   "source": [
    "We now compute the actual initial forms as monomials in $\\mathbb{C}[x_1,\\dots,x_7,y_1,\\dots,y_7]$ using the function ``initial_forms_of_sections``"
   ]
  },
  {
   "cell_type": "code",
   "execution_count": 10,
   "metadata": {},
   "outputs": [
    {
     "data": {
      "text/plain": [
       "129-element Vector{fmpq_mpoly}:\n",
       " x1\n",
       " x2\n",
       " x3\n",
       " x4\n",
       " x5\n",
       " x6\n",
       " x7\n",
       " -x4*x6*x7*y5\n",
       " x5*x6*x7*y3\n",
       " x4*x6*x7*y3\n",
       " -x3*x4*x7*y5\n",
       " -x4*x5*x6*y3\n",
       " -x2*x5*x6*y7\n",
       " ⋮\n",
       " -x2*x3*x4^2*x6^2*x7*y1*y5*y7\n",
       " -x2*x3*x4*x5*x6^2*x7*y1*y5*y7\n",
       " 4*x1*x2^2*x4^2*x5*x6^2*x7*y3^2*y5*y7\n",
       " -4*x1*x2*x4^2*x5*x6^2*x7^2*y1*y3^2*y5\n",
       " -4*x1*x2^2*x4^2*x5*x6^2*x7*y1*y3*y5*y7\n",
       " -4*x1*x2^2*x4*x5^2*x6^2*x7*y1*y3^2*y7\n",
       " 4*x1*x2^2*x4^2*x5*x6^2*x7*y1*y3^2*y7\n",
       " -4*x1^2*x2^2*x4^2*x5*x6*x7*y3^2*y5*y7\n",
       " 4*x1*x2^2*x4^2*x5*x6^2*x7*y1*y3^2*y5\n",
       " x2*x4*x5*x6*x7*y1*y3\n",
       " x1*x2*x4*x5*x6*y3*y7\n",
       " x1*x2*x4*x6*x7*y3*y5"
      ]
     },
     "execution_count": 10,
     "metadata": {},
     "output_type": "execute_result"
    }
   ],
   "source": [
    "equations_mon_complete=initial_forms_of_sections(equations_mon)"
   ]
  },
  {
   "cell_type": "markdown",
   "metadata": {},
   "source": [
    "We now want to verify that the relations between the initial forms are actually generated by binomials of degree two, since this is the only missing step in proving that the polynomials $\\phi_{7,3}(t)(G_{7,3})$ are a Khovanskii basis for the algebra they generate. "
   ]
  },
  {
   "cell_type": "markdown",
   "metadata": {},
   "source": [
    "First, we use the ``matrix_of_exponents`` that takes as an input the vector of monomials of initial forms and compute the $129\\times 14$ matrix of exponents."
   ]
  },
  {
   "cell_type": "code",
   "execution_count": 11,
   "metadata": {},
   "outputs": [
    {
     "data": {
      "text/plain": [
       "[1   0   0   0   0   0   0   0   0   0   0   0   0   0]\n",
       "[0   1   0   0   0   0   0   0   0   0   0   0   0   0]\n",
       "[0   0   1   0   0   0   0   0   0   0   0   0   0   0]\n",
       "[0   0   0   1   0   0   0   0   0   0   0   0   0   0]\n",
       "[0   0   0   0   1   0   0   0   0   0   0   0   0   0]\n",
       "[0   0   0   0   0   1   0   0   0   0   0   0   0   0]\n",
       "[0   0   0   0   0   0   1   0   0   0   0   0   0   0]\n",
       "[0   0   0   1   0   1   1   0   0   0   0   1   0   0]\n",
       "[0   0   0   0   1   1   1   0   0   1   0   0   0   0]\n",
       "[0   0   0   1   0   1   1   0   0   1   0   0   0   0]\n",
       "[0   0   1   1   0   0   1   0   0   0   0   1   0   0]\n",
       "[0   0   0   1   1   1   0   0   0   1   0   0   0   0]\n",
       "[0   1   0   0   1   1   0   0   0   0   0   0   0   1]\n",
       "[0   1   0   1   0   1   0   0   0   0   0   0   0   1]\n",
       "[0   1   0   1   0   0   1   0   0   0   0   1   0   0]\n",
       "[0   1   0   1   0   1   0   0   0   0   0   1   0   0]\n",
       "[0   1   1   0   0   1   0   0   0   0   0   0   0   1]\n",
       "[0   1   0   0   1   0   1   0   0   1   0   0   0   0]\n",
       "[0   1   0   0   1   1   0   0   0   1   0   0   0   0]\n",
       "[0   1   0   1   0   0   1   0   0   1   0   0   0   0]\n",
       "[0   1   0   1   0   1   0   0   0   1   0   0   0   0]\n",
       "[0   1   1   1   0   0   0   0   0   0   0   1   0   0]\n",
       "[0   0   0   0   1   1   1   1   0   0   0   0   0   0]\n",
       "[0   0   0   1   0   1   1   1   0   0   0   0   0   0]\n",
       "[1   0   0   1   0   0   1   0   0   0   0   1   0   0]\n",
       "[0   0   0   1   1   1   0   1   0   0   0   0   0   0]\n",
       "[1   0   0   0   0   1   1   0   0   1   0   0   0   0]\n",
       "[1   0   0   0   1   0   1   0   0   1   0   0   0   0]\n",
       "[0   0   1   0   1   1   0   1   0   0   0   0   0   0]\n",
       "[1   0   0   1   0   0   1   0   0   1   0   0   0   0]\n",
       "[0   0   1   1   0   1   0   1   0   0   0   0   0   0]\n",
       "[1   0   0   1   1   0   0   0   0   1   0   0   0   0]\n",
       "[1   1   0   0   0   1   0   0   0   0   0   0   0   1]\n",
       "[1   1   0   0   1   0   0   0   0   0   0   0   0   1]\n",
       "[0   1   0   0   1   1   0   1   0   0   0   0   0   0]\n",
       "[1   1   0   1   0   0   0   0   0   0   0   0   0   1]\n",
       "[0   1   0   1   0   1   0   1   0   0   0   0   0   0]\n",
       "[1   1   0   1   0   0   0   0   0   0   0   1   0   0]\n",
       "[1   1   1   0   0   0   0   0   0   0   0   0   0   1]\n",
       "[1   1   0   0   0   1   0   0   0   1   0   0   0   0]\n",
       "[1   1   0   0   1   0   0   0   0   1   0   0   0   0]\n",
       "[1   1   0   1   0   0   0   0   0   1   0   0   0   0]\n",
       "[1   0   0   1   1   1   1   1   0   1   0   0   0   0]\n",
       "[1   1   0   1   1   1   0   1   0   0   0   0   0   1]\n",
       "[1   1   1   0   1   1   0   1   0   0   0   0   0   1]\n",
       "[1   1   1   1   0   1   0   1   0   0   0   0   0   1]\n",
       "[2   1   0   1   1   0   0   0   0   1   0   0   0   1]\n",
       "[1   1   0   1   1   1   0   1   0   1   0   0   0   0]\n",
       "[0   2   1   1   0   1   0   0   0   0   0   1   0   1]\n",
       "[1   2   0   1   0   1   0   0   0   0   0   1   0   1]\n",
       "[1   2   0   0   1   1   0   0   0   1   0   0   0   1]\n",
       "[1   2   0   1   0   1   0   0   0   1   0   0   0   1]\n",
       "[1   2   1   1   0   0   0   0   0   0   0   1   0   1]\n",
       "[1   2   0   1   0   1   0   0   0   1   0   1   0   0]\n",
       "[0   1   0   1   1   1   1   0   0   2   0   0   0   0]\n",
       "[1   0   0   1   1   1   1   0   0   2   0   0   0   0]\n",
       "[1   1   0   0   1   1   1   0   0   2   0   0   0   0]\n",
       "[1   1   0   1   0   1   1   0   0   2   0   0   0   0]\n",
       "[1   1   0   1   1   0   1   0   0   2   0   0   0   0]\n",
       "[1   1   0   1   1   1   0   0   0   2   0   0   0   0]\n",
       "[0   1   0   2   0   1   1   0   0   1   0   1   0   0]\n",
       "[0   0   1   2   0   1   1   1   0   0   0   1   0   0]\n",
       "[0   1   0   2   0   1   1   1   0   0   0   1   0   0]\n",
       "[0   1   0   2   0   1   1   1   0   1   0   0   0   0]\n",
       "[1   1   0   2   0   0   1   0   0   1   0   1   0   0]\n",
       "[0   1   1   2   0   1   0   1   0   0   0   1   0   0]\n",
       "[0   1   0   1   1   1   1   0   0   1   0   1   0   0]\n",
       "[0   0   1   1   1   1   1   1   0   0   0   1   0   0]\n",
       "[0   1   0   1   1   1   1   1   0   0   0   1   0   0]\n",
       "[0   1   0   0   2   1   1   1   0   1   0   0   0   0]\n",
       "[1   1   0   1   1   0   1   0   0   1   0   1   0   0]\n",
       "[0   1   1   1   1   1   0   1   0   0   0   1   0   0]\n",
       "[0   1   0   1   1   2   0   0   0   1   0   0   0   1]\n",
       "[0   0   0   1   1   2   1   1   0   1   0   0   0   0]\n",
       "[0   1   0   1   1   2   0   1   0   0   0   0   0   1]\n",
       "[0   1   1   0   1   2   0   1   0   0   0   0   0   1]\n",
       "[0   1   1   1   0   2   0   1   0   0   0   0   0   1]\n",
       "[0   1   0   1   1   2   0   1   0   1   0   0   0   0]\n",
       "[0   1   1   1   0   1   1   0   0   0   0   1   0   1]\n",
       "[1   0   0   1   0   1   2   0   0   1   0   1   0   0]\n",
       "[1   1   0   1   0   1   1   0   0   0   0   1   0   1]\n",
       "[1   1   0   0   1   1   1   0   0   1   0   0   0   1]\n",
       "[1   1   0   1   0   1   1   0   0   1   0   0   0   1]\n",
       "[1   1   1   1   0   0   1   0   0   0   0   1   0   1]\n",
       "[2   2   0   1   1   1   0   0   0   2   0   0   0   1]\n",
       "[1   2   1   2   0   1   0   1   0   0   0   1   0   1]\n",
       "[1   1   0   2   1   1   1   1   0   2   0   0   0   0]\n",
       "[1   2   0   2   0   1   1   0   0   2   0   1   0   0]\n",
       "[1   2   1   1   1   1   0   1   0   0   0   1   0   1]\n",
       "[1   1   0   1   2   1   1   1   0   2   0   0   0   0]\n",
       "[1   2   0   1   1   1   1   0   0   2   0   1   0   0]\n",
       "[1   1   0   2   1   1   1   1   0   1   0   1   0   0]\n",
       "[1   2   0   2   0   1   1   0   0   1   0   2   0   0]\n",
       "[1   1   0   2   1   1   1   0   0   2   0   1   0   0]\n",
       "[1   2   0   1   1   2   0   1   0   1   0   0   0   1]\n",
       "[1   1   0   1   1   2   1   1   0   2   0   0   0   0]\n",
       "[1   2   0   1   1   2   0   0   0   2   0   0   0   1]\n",
       "[0   1   0   2   1   2   1   2   0   1   0   0   0   0]\n",
       "[0   2   1   2   0   2   0   1   0   0   0   1   0   1]\n",
       "[0   1   0   2   1   2   1   1   0   2   0   0   0   0]\n",
       "[0   1   0   1   2   2   1   2   0   1   0   0   0   0]\n",
       "[0   2   1   1   1   2   0   1   0   0   0   1   0   1]\n",
       "[0   1   0   1   2   2   1   1   0   2   0   0   0   0]\n",
       "[0   1   0   2   1   2   1   1   0   1   0   1   0   0]\n",
       "[2   2   0   1   1   1   0   0   0   1   0   0   0   2]\n",
       "[2   1   0   1   1   1   1   0   0   2   0   0   0   1]\n",
       "[1   2   0   1   1   1   1   0   0   2   0   0   0   1]\n",
       "[1   1   1   2   0   1   1   1   0   0   0   1   0   1]\n",
       "[1   2   0   2   0   1   1   0   0   1   0   1   0   1]\n",
       "[1   1   0   2   0   1   2   0   0   2   0   1   0   0]\n",
       "[1   1   1   1   1   1   1   1   0   0   0   1   0   1]\n",
       "[1   2   0   1   1   1   1   0   0   1   0   1   0   1]\n",
       "[1   1   0   1   1   1   2   0   0   2   0   1   0   0]\n",
       "[1   1   0   2   0   1   2   0   0   1   0   2   0   0]\n",
       "[1   1   0   1   1   2   1   1   0   1   0   0   0   1]\n",
       "[1   2   0   1   1   2   0   0   0   1   0   0   0   2]\n",
       "[1   1   0   1   1   2   1   0   0   2   0   0   0   1]\n",
       "[0   1   1   2   0   2   1   1   0   0   0   1   0   1]\n",
       "[0   1   1   1   1   2   1   1   0   0   0   1   0   1]\n",
       "[1   2   0   2   1   2   1   0   0   2   0   1   0   1]\n",
       "[1   1   0   2   1   2   2   1   0   2   0   1   0   0]\n",
       "[1   2   0   2   1   2   1   1   0   1   0   1   0   1]\n",
       "[1   2   0   1   2   2   1   1   0   2   0   0   0   1]\n",
       "[1   2   0   2   1   2   1   1   0   2   0   0   0   1]\n",
       "[2   2   0   2   1   1   1   0   0   2   0   1   0   1]\n",
       "[1   2   0   2   1   2   1   1   0   2   0   1   0   0]\n",
       "[0   1   0   1   1   1   1   1   0   1   0   0   0   0]\n",
       "[1   1   0   1   1   1   0   0   0   1   0   0   0   1]\n",
       "[1   1   0   1   0   1   1   0   0   1   0   1   0   0]"
      ]
     },
     "execution_count": 11,
     "metadata": {},
     "output_type": "execute_result"
    }
   ],
   "source": [
    "S=MatrixSpace(ZZ,129,14)\n",
    "M=S(matrix_of_exponents(equations_mon_complete))"
   ]
  },
  {
   "cell_type": "markdown",
   "metadata": {},
   "source": [
    "Using the command ``markov4ti2`` imported in Oscar from the software 4ti2 we compute generators for the toric ideal that gives the relations between the initial forms"
   ]
  },
  {
   "cell_type": "code",
   "execution_count": 11,
   "metadata": {},
   "outputs": [
    {
     "name": "stdout",
     "output_type": "stream",
     "text": [
      "Constructing initial basis...\n",
      "Size of triangular part is 118\n",
      "Constructing initial basis...\n",
      "Size of triangular part is 118\n",
      "Constructing initial basis...\n",
      "Size of triangular part is 118\n",
      "Constructing initial basis...\n",
      "Size of triangular part is 118\n",
      "Constructing initial basis...\n",
      "Size of triangular part is 118\n",
      "Constructing initial basis...\n",
      "Size of triangular part is 118\n",
      "Constructing initial basis...\n",
      "Size of triangular part is 118\n",
      "Constructing initial basis...\n",
      "Size of triangular part is 118\n",
      "Constructing initial basis...\n",
      "Size of triangular part is 118\n",
      "Constructing initial basis...\n",
      "Size of triangular part is 118\n",
      "Constructing initial basis...\n",
      "Size of triangular part is 118\n",
      "Constructing initial basis...\n",
      "Size of triangular part is 118\n",
      "Constructing initial basis...\n",
      "Size of triangular part is 118\n"
     ]
    },
    {
     "data": {
      "text/plain": [
       "4220×129 Matrix{Int64}:\n",
       " 0  0  0  0  0  0  0  0  0  0  0  0  …  0   0   0   1  -1   0  0  0   0   0\n",
       " 0  0  0  0  0  0  0  0  0  0  0  0     1  -1   0   0   0   0  0  0   0   0\n",
       " 0  0  0  0  0  0  0  0  0  0  0  0     1   0  -1   0   0   0  0  0   0   0\n",
       " 0  0  0  0  0  0  0  0  0  0  0  0     0   1  -1   0   0   0  0  0   0   0\n",
       " 0  0  0  0  0  0  0  0  0  0  0  0     0   1   0  -1   0   0  0  0   0   0\n",
       " 0  0  0  0  0  0  0  0  0  0  0  0  …  1   0   0   0   0  -1  0  0   0   0\n",
       " 0  0  0  0  0  0  0  0  0  0  0  0     0   0   0   1  -1   0  0  0   0   0\n",
       " 0  0  0  0  0  0  0  0  0  0  0  0     0   0   1   0  -1   0  0  0   0   0\n",
       " 0  0  0  0  0  0  0  0  0  0  0  0     0   0   0   1  -1   0  0  0   0   0\n",
       " 0  0  0  0  0  0  0  0  0  0  0  0     0   1   0   0  -1   0  0  0   0   0\n",
       " 0  0  0  0  0  0  0  0  0  0  0  0  …  0   0   0   0   0   0  0  0   0   0\n",
       " 0  0  0  0  0  0  0  0  0  0  0  0     0   0   0   1  -1   0  0  0   0   0\n",
       " 0  0  0  0  0  0  0  0  0  0  0  0     1   0   0   0   0  -1  0  0   0   0\n",
       " ⋮              ⋮              ⋮     ⋱      ⋮                  ⋮         \n",
       " 1  0  0  0  0  0  0  0  0  0  0  0     0   0   0   1   0   0  0  0   0   0\n",
       " 1  0  0  0  0  0  0  0  0  0  0  0     0   0   0   0   1   0  0  0   0   0\n",
       " 1  0  0  0  0  0  0  0  0  0  0  0  …  0   0   1   0   0   0  0  0   0  -1\n",
       " 1  0  0  0  0  0  0  0  0  0  0  0     0   0   0   0   0   1  0  0   0  -1\n",
       " 1  0  0  0  0  0  0  0  0  0  0  0     0   1   0   0   0   0  0  0   0   0\n",
       " 1  0  0  0  0  0  0  0  0  0  0  0     0   0   1   0   0   0  0  0   0   0\n",
       " 1  0  0  0  0  0  0  0  0  0  0  0     0   0   0   1   0   0  0  0   0   0\n",
       " 1  0  0  0  0  0  0  0  0  0  0  0  …  0   0   0   0   1   0  0  0   0   0\n",
       " 1  0  0  0  0  0  0  0  0  0  0  0     0   0   0   0   0   0  1  0   0  -1\n",
       " 1  0  0  0  0  0  0  0  0  0  0  0     1   0   0   0   0   0  0  0   0   0\n",
       " 1  0  0  0  0  0  0  0  0  0  0  0     1   0   0   0   0   0  0  0   0   0\n",
       " 1  0  0  0  0  0  0  0  0  0  0  0     1   0   0   0   0   0  0  0  -1  -1"
      ]
     },
     "execution_count": 11,
     "metadata": {},
     "output_type": "execute_result"
    }
   ],
   "source": [
    "markov_basis=Oscar.markov4ti2(transpose(kernel(transpose(M))[2]))"
   ]
  },
  {
   "cell_type": "code",
   "execution_count": 13,
   "metadata": {},
   "outputs": [
    {
     "data": {
      "text/plain": [
       "Matrix{Int64} (alias for Array{Int64, 2})"
      ]
     },
     "execution_count": 13,
     "metadata": {},
     "output_type": "execute_result"
    }
   ],
   "source": [
    "typeof(markov_basis)"
   ]
  },
  {
   "cell_type": "code",
   "execution_count": 19,
   "metadata": {},
   "outputs": [
    {
     "data": {
      "text/plain": [
       "ideal(C653*Qr3 - C654*Qr4, C650*Qr0 - C651*Qr1, C650*Qr0 - C652*Qr2, C641*Qr1 - C642*Qr2, C641*Qr1 - C643*Qr3, C640*Qr0 - C654*Qr5, C632*Qr3 - C642*Qr4, C632*Qr2 - C643*Qr4, C631*Qr3 - C641*Qr4, C631*Qr1 - C643*Qr4, C630*C654 - C640*C653, C630*Qr3 - C640*Qr4, C630*Qr0 - C653*Qr5, C621*C643 - C631*C642, C621*C643 - C632*C641, C621*Qr2 - C641*Qr4, C621*Qr1 - C642*Qr4, C620*C653 - C630*C652, C620*C654 - C640*C652, C620*Qr0 - C652*Qr5, C610*C652 - C620*C651, C610*Qr1 - C620*Qr2, C610*C653 - C630*C651, C610*C654 - C640*C651, C610*Qr1 - C650*Qr5, C610*Qr0 - C651*Qr5, C541*Qr1 - C654*Qr6, C540*Qr0 - C542*Qr2, C540*Qr0 - C543*Qr3, C532*C654 - C542*C653, C532*Qr3 - C542*Qr4, C532*Qr2 - C543*Qr4, C532*C610 - Qr4*S1, C531*C542 - C532*C541, C531*C654 - C541*C653, C531*Qr3 - C541*Qr4, C531*Qr1 - C653*Qr6, C530*C541 - C531*C540, C530*C542 - C532*C540, C530*C640 - C540*C630, C530*C642 - C540*C632, C530*C654 - C540*C653, C530*Qr3 - C540*Qr4, C530*Qr0 - C543*Qr4, C530*C642 - Qr1*S0, C530*C621 - Qr4*S0, C520*Qr0 - C521*Qr1, C520*Qr0 - C652*Qr6, C520*C631 - Qr4*S2, C510*C652 - C520*C651, C510*Qr1 - C520*Qr2, C510*C652 - C521*C650, C510*Qr0 - C521*Qr2, C510*Qr1 - C650*Qr6, C510*Qr0 - C651*Qr6, C510*C632 - Qr4*S2, C432*Qr4 - C532*Qr5, C431*C652 - C521*C643, C431*C653 - C531*C643, C431*C654 - C541*C643, C431*Qr4 - C631*Qr6, C431*Qr1 - C643*Qr6, C431*C652 - Qr0*S2, C430*Qr0 - C432*Qr2, C430*Qr4 - C530*Qr5, C430*Qr0 - C543*Qr5, C421*C643 - C431*C642, C421*Qr2 - C431*Qr3, C421*C654 - C541*C642, C421*Qr4 - C621*Qr6, C421*Qr2 - C641*Qr6, C421*Qr1 - C642*Qr6, C420*C543 - C430*C542, C420*Qr2 - C430*Qr3, C420*C543 - C432*C540, C420*Qr0 - C432*Qr3, C420*Qr2 - C540*Qr5, C420*C651 - C542*C610, C420*Qr0 - C542*Qr5, C420*C651 - Qr3*S1, C410*C642 - C421*C640, C410*C643 - C431*C640, C410*C651 - C541*C610, C410*C654 - C541*C640, C410*Qr0 - C541*Qr5, C410*Qr1 - C640*Qr6, C321*C540 - C421*C530, C321*C641 - C421*C631, C321*C642 - C421*C632, C321*Qr3 - C421*Qr4, C321*C641 - C431*C621, C321*C643 - C431*C632, C321*Qr2 - C431*Qr4, C321*C653 - C531*C632, C321*Qr1 - C632*Qr6, C321*C650 - Qr4*S2, C321*C540 - Qr6*S0, C320*C540 - C420*C530, C320*C542 - C420*C532, C320*C640 - C420*C630, C320*Qr3 - C420*Qr4, C320*C543 - C430*C532, C320*Qr2 - C430*Qr4, C320*C543 - C432*C530, C320*Qr0 - C432*Qr4, C320*C651 - Qr4*S1, C310*C420 - C320*C410, C310*C632 - C321*C630, C310*C540 - C410*C530, C310*C541 - C410*C531, C310*C640 - C410*C630, C310*C654 - C410*C653, C310*Qr3 - C410*Qr4, C310*C643 - C431*C630, C310*C651 - C531*C610, C310*C653 - C531*C630, C310*C654 - C531*C640, C310*Qr0 - C531*Qr5, C310*C654 - C541*C630, C310*Qr1 - C630*Qr6, C210*C531 - C310*C521, C210*C541 - C410*C521, C210*C643 - C431*C620, C210*C650 - C510*C620, C210*Qr2 - C510*Qr5, C210*C650 - C520*C610, C210*Qr1 - C520*Qr5, C210*C651 - C521*C610, C210*C652 - C521*C620, C210*Qr0 - C521*Qr5, C210*Qr2 - C610*Qr6, C210*Qr1 - C620*Qr6, C210*C643 - Qr5*S2, Q65*Qr4 - C621*C630, Q65*Qr3 - C621*C640, Q65*Qr2 - C630*C641, Q65*Qr1 - C630*C642, Q65*Qr2 - C631*C640, Q65*Qr1 - C632*C640, Q64*Qr5 - C610*C632, Q64*Qr5 - C620*C631, Q64*Qr0 - C631*C652, Q64*Qr0 - C632*C651, Q64*Qr6 - Qr4*S2, Q63*Qr4 - Q64*Qr3, Q63*C630 - Q64*C640, Q63*C630 - Q65*C650, Q63*Qr5 - C610*C642, Q63*Qr5 - C620*C641, Q63*Qr4 - C621*C650, Q63*Qr0 - C641*C652, Q63*Qr0 - C642*C651, Q62*Qr3 - Q63*Qr2, Q62*C621 - Q63*C631, Q62*Qr4 - Q64*Qr2, Q62*C621 - Q64*C641, Q62*Qr5 - C610*C643, Q62*Qr4 - C631*C650, Q62*Qr3 - C641*C650, Q62*Qr0 - C643*C651, Q61*Qr2 - Q62*Qr1, Q61*C651 - Q62*C652, Q61*C641 - Q62*C642, Q61*C631 - Q62*C632, Q61*C610 - Q62*C620, Q61*Qr3 - Q63*Qr1, Q61*C641 - Q63*C643, Q61*C621 - Q63*C632, Q61*Qr4 - Q64*Qr1, Q61*C631 - Q64*C643, Q61*C621 - Q64*C642, Q61*Qr6 - C520*C643, Q61*Qr5 - C620*C643, Q61*Qr4 - C632*C650, Q61*Qr3 - C642*C650, Q61*Qr2 - C643*C650, Q61*Qr0 - C643*C652, Q61*Qr6 - Qr1*S2, Q61*C431 - C643*S2, Q60*C650 - Q63*C653, Q60*C650 - Q64*C654, Q60*Qr5 - Q65*Qr0, Q60*C640 - Q65*C654, Q60*C630 - Q65*C653, Q60*C620 - Q65*C652, Q60*C610 - Q65*C651, Q60*Qr4 - C621*C653, Q60*Qr3 - C621*C654, Q60*Qr2 - C631*C654, Q60*Qr1 - C632*C654, Q60*Qr2 - C641*C653, Q60*Qr1 - C642*C653, Q56*Qr4 - C510*C532, Q56*Qr3 - C510*C542, Q56*Qr4 - C521*C530, Q56*Qr3 - C521*C540, Q54*C643 - Q61*C531, Q54*Qr2 - C510*C653, Q54*Qr6 - C520*C531, Q54*Qr1 - C520*C653, Q54*Qr0 - C521*C653, Q54*Qr2 - C531*C650, Q54*Qr0 - C531*C652, Q54*C643 - C653*S2, Q53*Qr4 - Q54*Qr3, Q53*C653 - Q54*C654, Q53*C532 - Q54*C542, Q53*C531 - Q54*C541, Q53*C530 - Q54*C540, Q53*C643 - Q61*C541, Q53*Qr2 - C510*C654, Q53*Qr6 - C520*C541, Q53*Qr1 - C520*C654, Q53*Qr0 - C521*C654, Q53*Qr2 - C541*C650, Q53*Qr0 - C541*C652, Q53*C643 - C654*S2, Q52*Qr6 - Q56*Qr2, Q52*Qr6 - C510*C543, Q52*Qr4 - C530*C651, Q52*Qr3 - C540*C651, Q51*Qr2 - Q52*Qr1, Q51*C510 - Q52*C520, Q51*C541 - Q53*C543, Q51*C531 - Q54*C543, Q51*Qr6 - Q56*Qr1, Q51*C541 - Q56*C654, Q51*C531 - Q56*C653, Q51*C510 - Q56*C650, Q51*Qr6 - C520*C543, Q51*Qr4 - C530*C652, Q51*Qr4 - C532*C650, Q51*Qr3 - C540*C652, Q51*Qr3 - C542*C650, Q51*Qr2 - C543*C650, Q50*Qr1 - Q51*Qr0, Q50*C650 - Q51*C651, Q50*C520 - Q51*C521, Q50*Qr2 - Q52*Qr0, Q50*C650 - Q52*C652, Q50*C540 - Q52*C542, Q50*C530 - Q52*C532, Q50*C510 - Q52*C521, Q50*Qr6 - Q56*Qr0, Q50*C520 - Q56*C652, Q50*C510 - Q56*C651, Q50*Qr5 - C432*C651, Q50*Qr6 - C521*C543, Q50*Qr4 - C532*C651, Q50*Qr3 - C542*C651, Q50*Qr2 - C543*C651, Q50*Qr1 - C543*C652, Q50*Qr5 - Qr0*S1, Q50*C610 - C651*S1, Q46*C651 - Q50*C410, Q46*Qr4 - C310*C542, Q46*Qr4 - C320*C541, Q46*Qr5 - C410*C432, Q46*Qr4 - C410*C532, Q46*Qr3 - C410*C542, Q46*Qr2 - C410*C543, Q46*Qr4 - C420*C531, Q46*Qr3 - C420*C541, Q46*Qr2 - C430*C541, Q46*Qr0 - C432*C541, Q46*C651 - C541*S1, Q45*Qr4 - C320*C641, Q45*Qr6 - C420*C431, Q45*Qr4 - C420*C631, Q45*Qr1 - C420*C643, Q45*Qr6 - C421*C430, Q45*Qr4 - C430*C621, Q45*Qr1 - C430*C642, Q45*Qr4 - Qr5*S0, Q43*Qr5 - Q45*Qr3, Q43*C653 - Q60*C540, Q43*C630 - Q65*C540, Q43*Qr5 - C420*C641, Q43*Qr6 - C421*C540, Q43*Qr4 - C540*C621, Q43*Qr1 - C540*C642, Q43*Qr4 - Qr3*S0, Q43*C653 - C654*S0, Q43*C630 - C640*S0, Q43*C530 - C540*S0, Q42*Qr3 - Q43*Qr2, Q42*C642 - Q43*C643, Q42*C421 - Q43*C431, Q42*C420 - Q43*C430, Q42*Qr5 - Q45*Qr2, Q42*C420 - Q45*C540, Q42*Qr5 - C430*C641, Q42*Qr6 - C431*C540, Q42*Qr4 - C530*C641, Q42*Qr4 - C540*C631, Q42*Qr3 - C540*C641, Q42*Qr1 - C540*C643, Q42*Qr4 - Qr2*S0, Q41*Qr6 - Q46*Qr1, Q41*C541 - Q46*C654, Q41*C431 - Q46*C643, Q41*C421 - Q46*C642, Q41*C410 - Q46*C640, Q41*C651 - Q50*C640, Q41*Qr4 - C320*C654, Q41*Qr4 - C420*C653, Q41*Qr3 - C420*C654, Q41*Qr2 - C430*C654, Q41*Qr5 - C432*C640, Q41*Qr0 - C432*C654, Q41*Qr4 - C532*C640, Q41*Qr4 - C542*C630, Q41*Qr3 - C542*C640, Q41*Qr2 - C543*C640, Q41*C651 - C654*S1, Q40*C640 - Q41*C641, Q40*Qr2 - Q42*Qr0, Q40*C540 - Q42*C542, Q40*C430 - Q42*C432, Q40*Qr3 - Q43*Qr0, Q40*C540 - Q43*C543, Q40*C420 - Q43*C432, Q40*Qr5 - Q45*Qr0, Q40*C640 - Q45*C654, Q40*C430 - Q45*C543, Q40*C420 - Q45*C542, Q40*C410 - Q45*C541, Q40*C410 - Q46*C641, Q40*Qr6 - C421*C543, Q40*Qr6 - C431*C542, Q40*Qr5 - C432*C641, Q40*Qr4 - C532*C641, Q40*Qr4 - C542*C631, Q40*Qr3 - C542*C641, Q40*Qr1 - C542*C643, Q40*Qr4 - C543*C621, Q40*Qr2 - C543*C641, Q40*Qr1 - C543*C642, Q40*Qr4 - Qr0*S0, Q36*C410 - Q46*C310, Q36*C420 - Q46*C320, Q36*C540 - Q46*C530, Q36*C541 - Q46*C531, Q36*C542 - Q46*C532, Q36*Qr3 - Q46*Qr4, Q36*C651 - Q50*C310, Q36*Qr5 - C310*C432, Q36*Qr4 - C310*C532, Q36*Qr2 - C310*C543, Q36*Qr4 - C320*C531, Q36*Qr2 - C430*C531, Q36*Qr0 - C432*C531, Q36*C651 - C531*S1, Q35*C640 - Q45*C630, Q35*Qr3 - Q45*Qr4, Q35*C640 - Q65*C430, Q35*Qr6 - C320*C431, Q35*Qr4 - C320*C631, Q35*Qr1 - C320*C643, Q35*Qr6 - C321*C430, Q35*Qr1 - C430*C632, Q34*Qr5 - Q35*Qr4, Q34*C654 - Q60*C530, Q34*C640 - Q65*C530, Q34*Qr6 - C321*C530, Q34*Qr1 - C530*C632, Q34*C540 - C530*S0, Q34*C640 - C630*S0, Q34*C654 - C653*S0, Q34*Qr3 - Qr4*S0, Q32*Qr4 - Q34*Qr2, Q32*C632 - Q34*C643, Q32*C321 - Q34*C431, Q32*C320 - Q34*C430, Q32*Qr5 - Q35*Qr2, Q32*C420 - Q35*C540, Q32*C320 - Q35*C530, Q32*Q46 - Q36*Q42, Q32*C410 - Q42*C310, Q32*C420 - Q42*C320, Q32*C540 - Q42*C530, Q32*C541 - Q42*C531, Q32*C640 - Q42*C630, Q32*C654 - Q42*C653, Q32*Qr3 - Q42*Qr4, Q32*C420 - Q45*C530, Q32*Qr5 - C430*C631, Q32*Qr6 - C431*C530, Q32*Qr4 - C530*C631, Q32*Qr1 - C530*C643, Q32*C420 - C430*S0, Q31*Q42 - Q32*Q41, Q31*Q46 - Q36*Q41, Q31*Qr6 - Q36*Qr1, Q31*C541 - Q36*C654, Q31*C531 - Q36*C653, Q31*C431 - Q36*C643, Q31*C410 - Q36*C640, Q31*C321 - Q36*C632, Q31*C310 - Q36*C630, Q31*C410 - Q41*C310, Q31*C420 - Q41*C320, Q31*C540 - Q41*C530, Q31*C541 - Q41*C531, Q31*C542 - Q41*C532, Q31*C640 - Q41*C630, Q31*C654 - Q41*C653, Q31*Qr3 - Q41*Qr4, Q31*C541 - Q46*C653, Q31*C410 - Q46*C630, Q31*C651 - Q50*C630, Q31*Qr4 - C320*C653, Q31*Qr2 - C430*C653, Q31*Qr5 - C432*C630, Q31*Qr0 - C432*C653, Q31*Qr4 - C532*C630, Q31*Qr2 - C543*C630, Q31*C651 - C653*S1, Q30*C630 - Q31*C631, Q30*Qr2 - Q32*Qr0, Q30*C540 - Q32*C542, Q30*C530 - Q32*C532, Q30*C430 - Q32*C432, Q30*Qr4 - Q34*Qr0, Q30*C530 - Q34*C543, Q30*C320 - Q34*C432, Q30*Qr5 - Q35*Qr0, Q30*C630 - Q35*C653, Q30*C430 - Q35*C543, Q30*C320 - Q35*C532, Q30*C310 - Q35*C531, Q30*C310 - Q36*C631, Q30*C540 - Q40*C530, Q30*C654 - Q40*C653, Q30*Qr3 - Q40*Qr4, Q30*C540 - Q42*C532, Q30*C654 - Q60*C543, Q30*Qr6 - C321*C543, Q30*Qr6 - C431*C532, Q30*Qr5 - C432*C631, Q30*Qr4 - C532*C631, Q30*Qr1 - C532*C643, Q30*Qr2 - C543*C631, Q30*Qr1 - C543*C632, Q30*C540 - C543*S0, Q26*C310 - Q36*C210, Q26*C531 - Q36*C521, Q26*C410 - Q46*C210, Q26*C541 - Q46*C521, Q26*C651 - Q50*C210, Q26*Qr5 - C210*C432, Q26*Qr4 - C210*C532, Q26*Qr3 - C210*C542, Q26*Qr4 - C320*C521, Q26*Qr3 - C420*C521, Q26*Qr0 - C432*C521, Q26*C651 - C521*S1, Q25*C530 - Q34*C420, Q25*C430 - Q35*C420, Q25*C431 - Q35*C421, Q25*C643 - Q35*C642, Q25*C540 - Q43*C320, Q25*C430 - Q45*C320, Q25*C431 - Q45*C321, Q25*C643 - Q45*C632, Q25*Qr2 - Q45*Qr4, Q25*C630 - Q65*C320, Q25*C640 - Q65*C420, Q25*Qr6 - C320*C421, Q25*Qr4 - C320*C621, Q25*Qr1 - C320*C642, Q25*C530 - C320*S0, Q25*Qr6 - C321*C420, Q25*Qr3 - C420*C621, Q25*Qr1 - C420*C632, Q25*C540 - C420*S0, Q24*C530 - Q34*C520, Q24*C531 - Q54*C321, Q24*C653 - Q54*C632, Q24*C643 - Q61*C321, Q24*Qr5 - C210*C632, Q24*Qr6 - C321*C520, Q24*Qr5 - C321*C620, Q24*Qr0 - C321*C652, Q24*Qr1 - C520*C632, Q24*Qr0 - C521*C632, Q24*C643 - C632*S2, Q24*Qr2 - Qr4*S2, Q23*Qr4 - Q24*Qr3, Q23*C632 - Q24*C642, Q23*C530 - Q24*C540, Q23*C321 - Q24*C421, Q23*C320 - Q24*C420, Q23*C320 - Q25*C520, Q23*C540 - Q43*C520, Q23*C541 - Q53*C421, Q23*C654 - Q53*C642, Q23*C643 - Q61*C421, Q23*Qr5 - C210*C642, Q23*Qr6 - C421*C520, Q23*Qr5 - C421*C620, Q23*Qr0 - C421*C652, Q23*Qr4 - C520*C621, Q23*Qr1 - C520*C642, Q23*C530 - C520*S0, Q23*Qr0 - C521*C642, Q23*C643 - C642*S2, Q21*C421 - Q23*C432, Q21*C321 - Q24*C432, Q21*Qr6 - Q26*Qr1, Q21*C521 - Q26*C652, Q21*C431 - Q26*C643, Q21*C421 - Q26*C642, Q21*C321 - Q26*C632, Q21*C210 - Q26*C620, Q21*C630 - Q31*C620, Q21*C653 - Q31*C652, Q21*C640 - Q41*C620, Q21*C654 - Q41*C652, Q21*C651 - Q50*C620, Q21*C643 - Q61*C432, Q21*Qr4 - C320*C652, Q21*Qr3 - C420*C652, Q21*Qr6 - C432*C520, Q21*Qr5 - C432*C620, Q21*Qr0 - C432*C652, Q21*Qr4 - C532*C620, Q21*Qr3 - C542*C620, Q21*C651 - C652*S1, Q21*C431 - C432*S2, Q20*C620 - Q21*C621, Q20*C520 - Q23*C532, Q20*C520 - Q24*C542, Q20*Qr5 - Q25*Qr0, Q20*C620 - Q25*C652, Q20*C610 - Q25*C651, Q20*C430 - Q25*C543, Q20*C420 - Q25*C542, Q20*C320 - Q25*C532, Q20*C210 - Q25*C521, Q20*C210 - Q26*C621, Q20*C430 - Q30*C420, Q20*C431 - Q30*C421, Q20*C543 - Q30*C542, Q20*C643 - Q30*C642, Q20*C530 - Q34*C542, Q20*C430 - Q35*C542, Q20*C430 - Q40*C320, Q20*C431 - Q40*C321, Q20*C543 - Q40*C532, Q20*C643 - Q40*C632, Q20*Qr2 - Q40*Qr4, Q20*C540 - Q43*C532, Q20*C430 - Q45*C532, Q20*C651 - Q50*C621, Q20*C653 - Q60*C532, Q20*C654 - Q60*C542, Q20*Qr6 - C321*C542, Q20*Qr6 - C421*C532, Q20*Qr5 - C432*C621, Q20*Qr4 - C532*C621, Q20*Qr1 - C532*C642, Q20*Qr3 - C542*C621, Q20*Qr1 - C542*C632, Q20*C610 - C621*S1, Q20*C540 - C542*S0, Q20*C530 - C532*S0, Q20*C430 - C432*S0, Q16*C642 - Q23*C431, Q16*C632 - Q24*C431, Q16*C432 - Q26*C431, Q16*C654 - Q53*C431, Q16*C653 - Q54*C431, Q16*Qr5 - C210*C431, Q16*Qr4 - C321*C510, Q16*C632 - C321*S2, Q16*C642 - C421*S2, Q16*Qr1 - C431*C520, Q16*Qr0 - C431*C521, Q16*C643 - C431*S2, Q16*C653 - C531*S2, Q16*C654 - C541*S2, Q16*Qr1 - Qr6*S2, Q15*C320 - Q25*C310, Q15*C420 - Q25*C410, Q15*C530 - Q34*C410, Q15*C430 - Q35*C410, Q15*C540 - Q43*C310, Q15*C430 - Q45*C310, Q15*C630 - Q65*C310, Q15*C632 - Q65*C321, Q15*C640 - Q65*C410, Q15*C642 - Q65*C421, Q15*C643 - Q65*C431, Q15*Qr1 - Q65*Qr6, Q15*Qr6 - C310*C421, Q15*Qr4 - C310*C621, Q15*Qr2 - C310*C641, Q15*Qr1 - C310*C642, Q15*C530 - C310*S0, Q15*Qr6 - C321*C410, Q15*Qr1 - C321*C640, Q15*Qr3 - C410*C621, Q15*Qr2 - C410*C631, Q15*Qr1 - C410*C632, Q15*C540 - C410*S0, Q15*Qr1 - C421*C630, Q14*Qr6 - Q16*Qr4, Q14*C620 - Q24*C610, Q14*C632 - Q24*C631, Q14*C652 - Q24*C651, Q14*C653 - Q54*C631, Q14*C620 - Q64*C210, Q14*C632 - Q64*C321, Q14*C652 - Q64*C521, Q14*C653 - Q64*C531, Q14*Qr5 - C210*C631, Q14*Qr5 - C321*C610, Q14*Qr0 - C321*C651, Q14*Qr0 - C521*C631, Q14*Qr1 - Qr4*S2, Q13*Qr4 - Q14*Qr3, Q13*C632 - Q14*C642, Q13*C321 - Q14*C421, Q13*C310 - Q14*C410, Q13*C310 - Q15*C510, Q13*Qr6 - Q16*Qr3, Q13*C321 - Q16*C621, Q13*C620 - Q23*C610, Q13*C632 - Q23*C631, Q13*C642 - Q23*C641, Q13*C652 - Q23*C651, Q13*Qr1 - Q23*Qr2, Q13*C632 - Q24*C641, Q13*C654 - Q53*C641, Q13*C620 - Q63*C210, Q13*C632 - Q63*C321, Q13*C642 - Q63*C421, Q13*C652 - Q63*C521, Q13*C654 - Q63*C541, Q13*Qr1 - Q63*Qr6, Q13*C632 - Q64*C421, Q13*Qr5 - C210*C641, Q13*Qr6 - C421*C510, Q13*Qr5 - C421*C610, Q13*Qr1 - C421*C650, Q13*Qr0 - C421*C651, Q13*Qr4 - C510*C621, Q13*Qr1 - C510*C642, Q13*Qr1 - C520*C641, Q13*Qr0 - C521*C641, Q13*C632 - C621*S2, Q13*Qr1 - Qr3*S2, Q12*Qr3 - Q13*Qr2, Q12*C642 - Q13*C643, Q12*C621 - Q13*C631, Q12*C421 - Q13*C431, Q12*Qr4 - Q14*Qr2, Q12*C632 - Q14*C643, Q12*C621 - Q14*C641, Q12*C321 - Q14*C431, Q12*Q65 - Q15*Q62, Q12*Qr6 - Q16*Qr2, Q12*C521 - Q16*C651, Q12*C421 - Q16*C641, Q12*C321 - Q16*C631, Q12*C210 - Q16*C610, Q12*C630 - Q62*C310, Q12*C632 - Q62*C321, Q12*C640 - Q62*C410, Q12*C642 - Q62*C421, Q12*C643 - Q62*C431, Q12*C653 - Q62*C531, Q12*C654 - Q62*C541, Q12*Qr1 - Q62*Qr6, Q12*C642 - Q63*C431, Q12*C632 - Q64*C431, Q12*Qr6 - C431*C510, Q12*Qr5 - C431*C610, Q12*Qr1 - C431*C650, Q12*Qr0 - C431*C651, Q12*Qr4 - C510*C631, Q12*Qr3 - C510*C641, Q12*Qr1 - C510*C643, Q12*C632 - C631*S2, Q12*C642 - C641*S2, Q12*Qr1 - Qr2*S2, Q10*Q62 - Q12*Q60, Q10*C510 - Q13*C531, Q10*C510 - Q14*C541, Q10*Q65 - Q15*Q60, Q10*Qr5 - Q15*Qr0, Q10*C640 - Q15*C654, Q10*C630 - Q15*C653, Q10*C610 - Q15*C651, Q10*C410 - Q15*C541, Q10*C310 - Q15*C531, Q10*C210 - Q15*C521, Q10*C532 - Q20*C531, Q10*C542 - Q20*C541, Q10*C543 - Q30*C541, Q10*C530 - Q34*C541, Q10*C543 - Q40*C531, Q10*C540 - Q43*C531, Q10*C630 - Q60*C310, Q10*C632 - Q60*C321, Q10*C640 - Q60*C410, Q10*C642 - Q60*C421, Q10*C643 - Q60*C431, Q10*C653 - Q60*C531, Q10*C654 - Q60*C541, Q10*Qr1 - Q60*Qr6, Q10*C630 - Q65*C531, Q10*C640 - Q65*C541, Q10*Qr6 - C321*C541, Q10*Qr1 - C321*C654, Q10*Qr6 - C421*C531, Q10*Qr1 - C421*C653, Q10*Qr4 - C531*C621, Q10*Qr2 - C531*C641, Q10*Qr1 - C531*C642, Q10*Qr3 - C541*C621, Q10*Qr2 - C541*C631, Q10*Qr1 - C541*C632, Q10*C540 - C541*S0, Q10*C530 - C531*S0, Q06*C521 - Q26*C510, Q06*C532 - Q26*C530, Q06*C542 - Q26*C540, Q06*Qr0 - Q26*Qr2, Q06*C531 - Q36*C510, Q06*C541 - Q46*C510, Q06*C521 - Q56*C210, Q06*C531 - Q56*C310, Q06*C532 - Q56*C320, Q06*C541 - Q56*C410, Q06*C542 - Q56*C420, Q06*Qr0 - Q56*Qr5, Q06*Qr4 - C210*C530, Q06*Qr3 - C210*C540, Q06*Qr0 - C210*C543, Q06*Qr4 - C320*C510, Q06*Qr3 - C420*C510, Q06*Qr0 - C430*C521, Q06*Qr0 - C432*C510, Q06*Qr0 - Qr6*S1, Q05*Qr6 - Q06*Qr5, Q05*C652 - Q21*C610, Q05*C621 - Q25*C610, Q05*C521 - Q26*C610, Q05*C653 - Q31*C610, Q05*C531 - Q36*C610, Q05*C654 - Q41*C610, Q05*C541 - Q46*C610, Q05*Qr6 - C210*C430, Q05*C521 - C210*S1, Q05*C531 - C310*S1, Q05*Qr4 - C320*C610, Q05*C541 - C410*S1, Q05*Qr3 - C420*C610, Q05*Qr0 - C432*C610, Q05*C651 - C610*S1, Q05*C652 - C620*S1, Q05*C653 - C630*S1, Q05*C654 - C640*S1, Q05*Qr0 - Qr5*S1, Q04*C631 - Q14*C630, Q04*C431 - Q16*C630, Q04*C321 - Q24*C310, Q04*C632 - Q24*C630, Q04*C521 - Q54*C210, Q04*C531 - Q54*C310, Q04*C651 - Q54*C610, Q04*C652 - Q54*C620, Q04*C653 - Q54*C630, Q04*Qr0 - Q54*Qr5, Q04*C643 - Q61*C310, Q04*C631 - Q64*C310, Q04*Qr5 - C210*C630, Q04*Qr0 - C210*C653, Q04*Qr6 - C310*C520, Q04*Qr5 - C310*C620, Q04*Qr2 - C310*C650, Q04*Qr0 - C310*C652, Q04*C431 - C310*S2, Q04*Qr2 - C510*C630, Q04*Qr1 - C520*C630, Q04*Qr0 - C521*C630, Q04*Qr0 - C531*C620, Q04*C643 - C630*S2, Q03*Q54 - Q04*Q53, Q03*Qr4 - Q04*Qr3, Q03*C653 - Q04*C654, Q03*C630 - Q04*C640, Q03*C531 - Q04*C541, Q03*C530 - Q04*C540, Q03*C320 - Q04*C420, Q03*C310 - Q04*C410, Q03*C641 - Q13*C640, Q03*C431 - Q16*C640, Q03*C421 - Q23*C410, Q03*C642 - Q23*C640, Q03*C521 - Q53*C210, Q03*C531 - Q53*C310, Q03*C541 - Q53*C410, Q03*C651 - Q53*C610, Q03*C652 - Q53*C620, Q03*C653 - Q53*C630, Q03*C654 - Q53*C640, Q03*Qr0 - Q53*Qr5, Q03*C531 - Q54*C410, Q03*C653 - Q54*C640, Q03*C643 - Q61*C410, Q03*C641 - Q63*C410, Q03*Qr5 - C210*C640, Q03*Qr0 - C210*C654, Q03*Qr6 - C410*C520, Q03*Qr5 - C410*C620, Q03*Qr2 - C410*C650, Q03*Qr0 - C410*C652, Q03*C431 - C410*S2, Q03*Qr2 - C510*C640, Q03*Qr1 - C520*C640, Q03*Qr0 - C521*C640, Q03*Qr0 - C541*C620, Q03*C643 - C640*S2, Q02*Q53 - Q03*Q52, Q02*Q54 - Q04*Q52, Q02*Qr5 - Q05*Qr2, Q02*C420 - Q05*C540, Q02*C320 - Q05*C530, Q02*C210 - Q05*C510, Q02*Qr6 - Q06*Qr2, Q02*C521 - Q06*C651, Q02*C210 - Q06*C610, Q02*C521 - Q52*C210, Q02*C531 - Q52*C310, Q02*C541 - Q52*C410, Q02*C651 - Q52*C610, Q02*C653 - Q52*C630, Q02*C654 - Q52*C640, Q02*Qr0 - Q52*Qr5, Q02*C521 - Q56*C610, Q02*Qr6 - C430*C510, Q02*Qr5 - C430*C610, Q02*Qr0 - C430*C651, Q02*C521 - C510*S1, Q02*Qr4 - C530*C610, Q02*Qr3 - C540*C610, Q02*Qr0 - C543*C610, Q02*Qr0 - Qr2*S1, Q01*Qr2 - Q02*Qr1, Q01*C651 - Q02*C652, Q01*C610 - Q02*C620, Q01*C510 - Q02*C520, Q01*C410 - Q03*C430, Q01*C310 - Q04*C430, Q01*Qr5 - Q05*Qr1, Q01*C610 - Q05*C650, Q01*C210 - Q05*C520, Q01*Qr6 - Q06*Qr1, Q01*C521 - Q06*C652, Q01*C510 - Q06*C650, Q01*C410 - Q06*C640, Q01*C310 - Q06*C630, Q01*C210 - Q06*C620, Q01*C521 - Q21*C510, Q01*C532 - Q21*C530, Q01*C542 - Q21*C540, Q01*C652 - Q21*C650, Q01*Qr0 - Q21*Qr2, Q01*C521 - Q26*C650, Q01*C653 - Q31*C650, Q01*C654 - Q41*C650, Q01*C521 - Q51*C210, Q01*C532 - Q51*C320, Q01*C542 - Q51*C420, Q01*C651 - Q51*C610, Q01*C652 - Q51*C620, Q01*C653 - Q51*C630, Q01*C654 - Q51*C640, Q01*Qr0 - Q51*Qr5, Q01*C651 - Q52*C620, Q01*C521 - Q56*C620, Q01*Qr4 - C320*C650, Q01*Qr3 - C420*C650, Q01*Qr6 - C430*C520, Q01*Qr5 - C430*C620, Q01*Qr2 - C430*C650, Q01*Qr0 - C430*C652, Q01*Qr0 - C432*C650, Q01*C521 - C520*S1, Q01*Qr4 - C530*C620, Q01*Qr3 - C540*C620, Q01*Qr0 - C543*C620, Q01*C651 - C650*S1, Q01*Qr0 - Qr1*S1, H456*Qr5 - Q05*C321, H456*Qr6 - Q06*C321, H456*Qr4 - Q14*C320, H456*Qr6 - Q16*C320, H456*Qr4 - Q34*C210, H456*Qr5 - Q35*C210, H356*Qr4 - H456*Qr3, H356*C321 - H456*C421, H356*C320 - H456*C420, H356*C310 - H456*C410, H356*Qr5 - Q05*C421, H356*C310 - Q06*Q15, H356*C320 - Q06*Q25, H356*Qr6 - Q06*C421, H356*Qr4 - Q06*C621, H356*Qr4 - Q13*C320, H356*Qr3 - Q13*C420, H356*Qr4 - Q14*C420, H356*C321 - Q16*Q25, H356*Qr6 - Q16*C420, H356*Qr4 - Q25*C510, H356*Qr3 - Q43*C210, H356*Qr5 - Q45*C210, H356*Qr4 - C210*S0, H346*Q25 - H356*Q24, H346*C420 - H356*C520, H346*Q25 - H456*Q23, H346*C320 - H456*C520, H346*C410 - Q03*Q16, H346*C310 - Q04*Q16, H346*C420 - Q06*Q23, H346*C320 - Q06*Q24, H346*C621 - Q13*Q24, H346*Qr3 - Q13*C520, H346*C621 - Q14*Q23, H346*Qr4 - Q14*C520, H346*C432 - Q16*Q21, H346*C421 - Q16*Q23, H346*C321 - Q16*Q24, H346*C541 - Q16*Q53, H346*C531 - Q16*Q54, H346*Qr6 - Q16*C520, H346*Qr5 - Q16*C620, H346*Qr0 - Q16*C652, H346*C431 - Q16*S2, H346*Qr3 - Q23*C510, H346*Qr4 - Q24*C510, H346*C432 - Q26*S2, H346*Qr5 - C210*S2, H346*Qr0 - C521*S2, H345*Q16 - H346*Q15, H345*Q06 - H356*Q04, H345*Q06 - H456*Q03, H345*C510 - Q03*Q14, H345*C410 - Q03*Q15, H345*C520 - Q03*Q24, H345*C420 - Q03*Q25, H345*C530 - Q03*Q34, H345*C650 - Q03*Q64, H345*C640 - Q03*Q65, H345*Qr6 - Q03*C321, H345*Qr3 - Q03*C621, H345*Qr2 - Q03*C631, H345*Qr1 - Q03*C632, H345*C540 - Q03*S0, H345*C510 - Q04*Q13, H345*C310 - Q04*Q15, H345*C520 - Q04*Q23, H345*C320 - Q04*Q25, H345*C540 - Q04*Q43, H345*C650 - Q04*Q63, H345*C630 - Q04*Q65, H345*Qr6 - Q04*C421, H345*Qr4 - Q04*C621, H345*Qr2 - Q04*C641, H345*Qr1 - Q04*C642, H345*C530 - Q04*S0, H345*C641 - Q13*Q65, H345*Qr2 - Q13*C630, H345*C631 - Q14*Q65, H345*Qr2 - Q14*C640, H345*C421 - Q15*Q23, H345*C321 - Q15*Q24, H345*C643 - Q15*Q61, H345*C641 - Q15*Q63, H345*C631 - Q15*Q64, H345*Qr6 - Q15*C520, H345*Qr5 - Q15*C620, H345*Qr2 - Q15*C650, H345*C431 - Q15*S2, H345*C431 - Q16*Q65, H345*C642 - Q23*Q65, H345*Qr6 - Q23*C310, H345*Qr1 - Q23*C630, H345*C632 - Q24*Q65, H345*Qr6 - Q24*C410, H345*Qr1 - Q24*C640, H345*Qr2 - Q63*C310, H345*Qr2 - Q64*C410, H345*Qr5 - Q65*C210, H345*Qr2 - Q65*C510, H345*Qr1 - Q65*C520, H345*C643 - Q65*S2, H256*C421 - H356*C431, H256*C420 - H356*C430, H256*Q25 - H356*Q35, H256*Qr4 - H456*Qr2, H256*C321 - H456*C431, H256*C320 - H456*C430, H256*Q25 - H456*Q45, H256*C510 - Q02*Q16, H256*Qr4 - Q02*C321, H256*Qr2 - Q02*C431, H256*C610 - Q05*Q12, H256*C210 - Q05*Q16, H256*Qr5 - Q05*C431, H256*C510 - Q06*Q12, H256*C320 - Q06*Q35, H256*C420 - Q06*Q45, H256*Qr6 - Q06*C431, H256*Qr4 - Q06*C631, H256*Qr4 - Q12*C320, H256*Qr2 - Q12*C430, H256*Qr4 - Q14*C430, H256*C321 - Q16*Q35, H256*C421 - Q16*Q45, H256*Qr6 - Q16*C430, H256*Qr4 - Q32*C210, H256*Qr4 - Q35*C510, H246*Q35 - H256*Q34, H246*Qr5 - H256*Qr4, H246*C430 - H256*C530, H246*C520 - H346*C530, H246*Q24 - H346*Q34, H246*Q35 - H456*Q32, H246*C320 - H456*C530, H246*C210 - H456*C510, H246*C210 - Q06*Q14, H246*C430 - Q06*Q32, H246*C320 - Q06*Q34, H246*C631 - Q12*Q34, H246*Qr2 - Q12*C530, H246*C631 - Q14*Q32, H246*Qr4 - Q14*C530, H246*C431 - Q16*Q32, H246*C321 - Q16*Q34, H246*Qr6 - Q16*C530, H246*Qr2 - Q32*C510, H246*Qr4 - Q34*C510, H245*Q06 - H246*Q05, H245*C510 - H246*C610, H245*Q16 - H256*Q14, H245*Qr6 - H256*Qr4, H245*C431 - H256*C631, H245*Q06 - H456*Q02, H245*Q16 - H456*Q12, H245*C321 - H456*C631, H245*C210 - H456*C610, H245*C510 - Q02*Q14, H245*C530 - Q02*Q34, H245*C430 - Q02*Q35, H245*Qr2 - Q02*C631, H245*C210 - Q05*Q14, H245*C430 - Q05*Q32, H245*C320 - Q05*Q34, H245*Qr5 - Q05*C631, H245*C431 - Q12*Q35, H245*C321 - Q14*Q35, H245*Qr2 - Q32*C610, H245*Qr4 - Q34*C610, H245*Qr5 - Q35*C610, H236*Q04 - H246*Q03, H236*Q54 - H246*Q53, H236*Qr4 - H246*Qr3, H236*C531 - H246*C541, H236*C530 - H246*C540, H236*C320 - H246*C420, H236*C310 - H246*C410, H236*Q36 - H246*Q46, H236*Q32 - H246*Q42, H236*Q45 - H256*Q43, H236*C430 - H256*C540, H236*C520 - H346*C540, H236*Q23 - H346*Q43, H236*Q45 - H356*Q42, H236*C420 - H356*C540, H236*C320 - H356*C530, H236*C210 - H356*C510, H236*C320 - H456*C540, H236*C210 - Q06*Q13, H236*C430 - Q06*Q42, H236*C420 - Q06*Q43, H236*C320 - Q06*S0, H236*C641 - Q12*Q43, H236*Qr2 - Q12*C540, H236*C641 - Q13*Q42, H236*Qr4 - Q13*C530, H236*Qr3 - Q13*C540, H236*Qr4 - Q14*C540, H236*C431 - Q16*Q42, H236*C421 - Q16*Q43, H236*Qr6 - Q16*C540, H236*Qr2 - Q42*C510, H236*Qr3 - Q43*C510, H236*Qr4 - C510*S0, H235*Q06 - H236*Q05, H235*Qr6 - H236*Qr5, H235*C510 - H236*C610, H235*Q04 - H245*Q03, H235*Qr4 - H245*Qr3, H235*C630 - H245*C640, H235*C530 - H245*C540, H235*C320 - H245*C420, H235*C310 - H245*C410, H235*Q16 - H256*Q13, H235*Qr6 - H256*Qr3, H235*C431 - H256*C641, H235*Q04 - H345*Q02, H235*Q06 - H356*Q02, H235*Q16 - H356*Q12, H235*Qr6 - H356*Qr2, H235*C421 - H356*C641, H235*C210 - H356*C610, H235*C510 - Q02*Q13, H235*C310 - Q02*Q15, H235*C320 - Q02*Q25, H235*C540 - Q02*Q43, H235*C430 - Q02*Q45, H235*C630 - Q02*Q65, H235*Qr6 - Q02*C421, H235*Qr4 - Q02*C621, H235*Qr2 - Q02*C641, H235*C530 - Q02*S0, H235*C210 - Q05*Q13, H235*C430 - Q05*Q42, H235*C420 - Q05*Q43, H235*Qr5 - Q05*C641, H235*C320 - Q05*S0, H235*Qr6 - Q06*C641, H235*C431 - Q12*Q45, H235*Qr6 - Q12*C420, H235*C421 - Q13*Q45, H235*Qr6 - Q13*C430, H235*Qr6 - Q42*C210, H235*Qr2 - Q42*C610, H235*Qr3 - Q43*C610, H235*Qr6 - Q45*C510, H235*Qr5 - Q45*C610, H235*Qr4 - C610*S0, H234*Q15 - H345*Q12, H234*Q65 - H345*Q62, H234*Q16 - H346*Q12, H234*Qr6 - H346*Qr2, H234*C521 - H346*C651, H234*C421 - H346*C641, H234*C321 - H346*C631, H234*C210 - H346*C610, H234*C410 - Q03*Q12, H234*C640 - Q03*Q62, H234*C310 - Q04*Q12, H234*C630 - Q04*Q62, H234*C421 - Q12*Q23, H234*C321 - Q12*Q24, H234*C541 - Q12*Q53, H234*C531 - Q12*Q54, H234*C643 - Q12*Q61, H234*C641 - Q12*Q63, H234*C631 - Q12*Q64, H234*Qr6 - Q12*C520, H234*Qr5 - Q12*C620, H234*Qr2 - Q12*C650, H234*Qr0 - Q12*C652, H234*C431 - Q12*S2, H234*C641 - Q13*Q62, H234*C621 - Q13*Q64, H234*Qr3 - Q13*C650, H234*C421 - Q13*S2, H234*C631 - Q14*Q62, H234*C621 - Q14*Q63, H234*Qr4 - Q14*C650, H234*C321 - Q14*S2, H234*C431 - Q16*Q62, H234*C421 - Q16*Q63, H234*C321 - Q16*Q64, H234*Qr6 - Q16*C650, H234*C654 - Q53*Q62, H234*C653 - Q54*Q62, H234*Qr5 - Q62*C210, H234*Qr2 - Q62*C510, H234*Qr0 - Q62*C521, H234*C643 - Q62*S2, H234*Qr3 - Q63*C510, H234*Qr4 - Q64*C510, H234*Qr6 - C510*S2, H234*Qr5 - C610*S2, H234*Qr0 - C651*S2, H156*C431 - H256*C432, H156*Q16 - H256*Q26, H156*C421 - H356*C432, H156*C321 - H456*C432, H156*C520 - Q01*Q26, H156*Qr1 - Q01*C432, H156*C621 - Q05*Q20, H156*C620 - Q05*Q21, H156*C210 - Q05*Q26, H156*C630 - Q05*Q31, H156*C310 - Q05*Q36, H156*C640 - Q05*Q41, H156*C410 - Q05*Q46, H156*Qr5 - Q05*C432, H156*Qr4 - Q05*C532, H156*Qr3 - Q05*C542, H156*C610 - Q05*S1, H156*C520 - Q06*Q21, H156*Qr6 - Q06*C432, H156*Qr1 - Q21*C430, H156*C621 - Q25*S1, H156*C321 - Q26*Q35, H156*C421 - Q26*Q45, H156*Qr6 - Q26*C430, H156*Qr4 - C320*S1, H156*Qr3 - C420*S1, H146*Q05 - H156*Q04, H146*Q16 - H346*Q36, H146*C430 - Q01*Q36, H146*C650 - Q01*Q54, H146*Qr2 - Q01*C531, H146*C620 - Q04*Q21, H146*C210 - Q04*Q26, H146*C630 - Q04*Q31, H146*C310 - Q04*Q36, H146*C651 - Q04*Q50, H146*C650 - Q04*Q51, H146*C510 - Q04*Q56, H146*Qr5 - Q04*C432, H146*Qr4 - Q04*C532, H146*Qr2 - Q04*C543, H146*C610 - Q04*S1, H146*C610 - Q05*Q54, H146*C430 - Q06*Q31, H146*C510 - Q06*Q54, H146*Qr2 - Q06*C653, H146*C431 - Q16*Q31, H146*C432 - Q21*Q36, H146*C652 - Q21*Q54, H146*Qr5 - Q21*C310, H146*Qr0 - Q21*C531, H146*C632 - Q24*Q31, H146*C321 - Q24*Q36, H146*C432 - Q26*Q31, H146*C521 - Q26*Q54, H146*Qr5 - Q26*C630, H146*Qr0 - Q26*C653, H146*C653 - Q31*Q54, H146*C543 - Q31*Q56, H146*Qr5 - Q31*C210, H146*Qr2 - Q31*C510, H146*Qr1 - Q31*C520, H146*Qr0 - Q31*C521, H146*C643 - Q31*S2, H146*C543 - Q36*Q51, H146*C531 - Q36*Q54, H146*C643 - Q36*Q61, H146*Qr6 - Q36*C520, H146*Qr5 - Q36*C620, H146*Qr2 - Q36*C650, H146*Qr0 - Q36*C652, H146*C431 - Q36*S2, H146*Qr2 - Q51*C310, H146*Qr4 - Q54*C320, H146*Qr2 - Q54*C430, H146*Qr0 - Q54*C432, H146*C651 - Q54*S1, H146*Qr2 - Q56*C630, H145*Q36 - H146*Q35, H145*Q26 - H156*Q24, H145*C432 - H156*C632, H145*C631 - H245*C632, H145*C610 - H245*C620, H145*Q14 - H245*Q24, H145*Q15 - H345*Q35, H145*Q26 - H456*Q21, H145*Q36 - H456*Q31, H145*Qr6 - H456*Qr1, H145*C321 - H456*C632, H145*C310 - H456*C630, H145*C210 - H456*C620, H145*Q15 - H456*Q65, H145*Q14 - H456*Q64, H145*Qr6 - Q01*C321, H145*Qr1 - Q01*C632, H145*C310 - Q04*Q35, H145*C210 - Q05*Q24, H145*C610 - Q05*Q64, H145*Qr5 - Q05*C632, H145*Qr6 - Q06*C632, H145*C432 - Q21*Q35, H145*C321 - Q24*Q35, H145*Qr6 - Q24*C430, H145*Qr4 - Q34*C620, H145*C631 - Q35*Q64, H145*Qr6 - Q35*C520, H145*Qr5 - Q35*C620, H145*Qr1 - Q61*C320, H145*Qr4 - Q64*C320, H145*Qr6 - C320*S2, H136*H246 - H146*H236, H136*Q04 - H146*Q03, H136*Q54 - H146*Q53, H136*Qr4 - H146*Qr3, H136*C653 - H146*C654, H136*C630 - H146*C640, H136*C532 - H146*C542, H136*C531 - H146*C541, H136*C530 - H146*C540, H136*C320 - H146*C420, H136*C310 - H146*C410, H136*Q36 - H146*Q46, H136*Q31 - H146*Q41, H136*Q05 - H156*Q03, H136*Q16 - H346*Q46, H136*C430 - Q01*Q46, H136*C650 - Q01*Q53, H136*Qr2 - Q01*C541, H136*C620 - Q03*Q21, H136*C210 - Q03*Q26, H136*C630 - Q03*Q31, H136*C310 - Q03*Q36, H136*C640 - Q03*Q41, H136*C410 - Q03*Q46, H136*C651 - Q03*Q50, H136*C650 - Q03*Q51, H136*C510 - Q03*Q56, H136*Qr5 - Q03*C432, H136*Qr4 - Q03*C532, H136*Qr3 - Q03*C542, H136*Qr2 - Q03*C543, H136*C610 - Q03*S1, H136*C630 - Q04*Q41, H136*C310 - Q04*Q46, H136*Qr4 - Q04*C542, H136*C610 - Q05*Q53, H136*C430 - Q06*Q41, H136*C510 - Q06*Q53, H136*Qr2 - Q06*C654, H136*C431 - Q16*Q41, H136*C432 - Q21*Q46, H136*C652 - Q21*Q53, H136*Qr5 - Q21*C410, H136*Qr0 - Q21*C541, H136*C642 - Q23*Q41, H136*C421 - Q23*Q46, H136*C432 - Q26*Q41, H136*C521 - Q26*Q53, H136*Qr5 - Q26*C640, H136*Qr0 - Q26*C654, H136*C653 - Q31*Q53, H136*C531 - Q36*Q53, H136*C654 - Q41*Q53, H136*C653 - Q41*Q54, H136*C543 - Q41*Q56, H136*Qr5 - Q41*C210, H136*Qr2 - Q41*C510, H136*Qr1 - Q41*C520, H136*Qr0 - Q41*C521, H136*C643 - Q41*S2, H136*C543 - Q46*Q51, H136*C541 - Q46*Q53, H136*C531 - Q46*Q54, H136*C643 - Q46*Q61, H136*Qr6 - Q46*C520, H136*Qr5 - Q46*C620, H136*Qr2 - Q46*C650, H136*Qr0 - Q46*C652, H136*C431 - Q46*S2, H136*Qr2 - Q51*C410, H136*Qr4 - Q53*C320, H136*Qr3 - Q53*C420, H136*Qr2 - Q53*C430, H136*Qr0 - Q53*C432, H136*C651 - Q53*S1, H136*Qr4 - Q54*C420, H136*Qr2 - Q56*C640, H135*Q46 - H136*Q45, H135*Q04 - H145*Q03, H135*Qr4 - H145*Qr3, H135*C632 - H145*C642, H135*C630 - H145*C640, H135*C321 - H145*C421, H135*C320 - H145*C420, H135*C310 - H145*C410, H135*Q26 - H156*Q23, H135*C432 - H156*C642, H135*C641 - H235*C642, H135*C610 - H235*C620, H135*Q13 - H235*Q23, H135*Q04 - H345*Q01, H135*C310 - H345*C430, H135*Q15 - H345*Q45, H135*Q26 - H356*Q21, H135*Q46 - H356*Q41, H135*Qr6 - H356*Qr1, H135*C421 - H356*C642, H135*C410 - H356*C640, H135*C321 - H356*C632, H135*C310 - H356*C630, H135*C210 - H356*C620, H135*Q15 - H356*Q65, H135*Q13 - H356*Q63, H135*C321 - H456*C642, H135*C310 - H456*C640, H135*C310 - Q01*Q15, H135*C320 - Q01*Q25, H135*C630 - Q01*Q65, H135*Qr6 - Q01*C421, H135*Qr4 - Q01*C621, H135*Qr1 - Q01*C642, H135*C310 - Q03*Q35, H135*C410 - Q03*Q45, H135*C310 - Q04*Q45, H135*C210 - Q05*Q23, H135*C610 - Q05*Q63, H135*Qr5 - Q05*C642, H135*C310 - Q06*Q65, H135*Qr6 - Q06*C642, H135*C432 - Q21*Q45, H135*C321 - Q23*Q35, H135*C421 - Q23*Q45, H135*Qr6 - Q23*C430, H135*C321 - Q24*Q45, H135*C632 - Q25*Q61, H135*Qr4 - Q25*C650, H135*C321 - Q25*S2, H135*Qr3 - Q43*C620, H135*C641 - Q45*Q63, H135*Qr6 - Q45*C520, H135*Qr5 - Q45*C620, H135*Qr1 - Q61*C420, H135*Qr4 - Q63*C320, H135*Qr3 - Q63*C420, H135*Qr4 - Q64*C420, H135*Qr6 - C420*S2, H135*Qr4 - C620*S0, H134*Q25 - H135*Q24, H134*C420 - H135*C520, H134*Q46 - H136*S2, H134*Q41 - H136*Q61, H134*Q25 - H145*Q23, H134*C320 - H145*C520, H134*Q36 - H146*S2, H134*Q31 - H146*Q61, H134*Q62 - H234*Q61, H134*Qr2 - H234*Qr1, H134*C651 - H234*C652, H134*C641 - H234*C642, H134*C631 - H234*C632, H134*C610 - H234*C620, H134*C510 - H234*C520, H134*Q14 - H234*Q24, H134*Q13 - H234*Q23, H134*Q12 - H234*S2, H134*Q65 - H345*Q61, H134*Q15 - H345*S2, H134*Q26 - H346*Q21, H134*Q36 - H346*Q31, H134*Q46 - H346*Q41, H134*S2 - H346*Q61, H134*Qr6 - H346*Qr1, H134*C541 - H346*C654, H134*C531 - H346*C653, H134*C521 - H346*C652, H134*C510 - H346*C650, H134*C431 - H346*C643, H134*C421 - H346*C642, H134*C410 - H346*C640, H134*C321 - H346*C632, H134*C310 - H346*C630, H134*C210 - H346*C620, H134*Q16 - H346*S2, H134*Q15 - H346*Q65, H134*Q14 - H346*Q64, H134*Q13 - H346*Q63, H134*Q12 - H346*Q62, H134*C420 - Q01*Q23, H134*C320 - Q01*Q24, H134*C640 - Q03*Q61, H134*C410 - Q03*S2, H134*C630 - Q04*Q61, H134*C310 - Q04*S2, H134*C641 - Q13*Q61, H134*C631 - Q14*Q61, H134*C431 - Q16*Q61, H134*C432 - Q21*S2, H134*C642 - Q23*Q61, H134*C641 - Q23*Q62, H134*C621 - Q23*Q64, H134*Qr3 - Q23*C650, H134*C421 - Q23*S2, H134*C632 - Q24*Q61, H134*C631 - Q24*Q62, H134*C621 - Q24*Q63, H134*Qr4 - Q24*C650, H134*C321 - Q24*S2, H134*C432 - Q26*Q61, H134*C654 - Q53*Q61, H134*C541 - Q53*S2, H134*C653 - Q54*Q61, H134*C531 - Q54*S2, H134*Qr5 - Q61*C210, H134*Qr2 - Q61*C510, H134*Qr1 - Q61*C520, H134*Qr0 - Q61*C521, H134*C643 - Q61*S2, H134*Qr2 - Q62*C520, H134*Qr3 - Q63*C520, H134*C641 - Q63*S2, H134*Qr4 - Q64*C520, H134*C631 - Q64*S2, H134*Qr6 - C520*S2, H134*Qr5 - C620*S2, H134*Qr2 - C650*S2, H134*Qr0 - C652*S2, H134*C431 - S2^2, H126*Q03 - H136*Q02, H126*Q53 - H136*Q52, H126*Q04 - H146*Q02, H126*Q54 - H146*Q52, H126*Q05 - H156*Q02, H126*Qr5 - H156*Qr2, H126*C620 - H156*C650, H126*C420 - H156*C540, H126*C320 - H156*C530, H126*C210 - H156*C510, H126*C650 - Q01*Q52, H126*C520 - Q01*Q56, H126*Qr1 - Q01*C543, H126*C620 - Q01*S1, H126*C620 - Q02*Q21, H126*C210 - Q02*Q26, H126*C630 - Q02*Q31, H126*C310 - Q02*Q36, H126*C640 - Q02*Q41, H126*C410 - Q02*Q46, H126*C651 - Q02*Q50, H126*C650 - Q02*Q51, H126*C510 - Q02*Q56, H126*Qr5 - Q02*C432, H126*Qr4 - Q02*C532, H126*Qr3 - Q02*C542, H126*Qr2 - Q02*C543, H126*C610 - Q02*S1, H126*C620 - Q05*Q51, H126*C610 - Q05*Q52, H126*C210 - Q05*Q56, H126*Qr5 - Q05*C543, H126*C520 - Q06*Q51, H126*C510 - Q06*Q52, H126*Qr6 - Q06*C543, H126*C210 - Q06*S1, H126*C653 - Q31*Q52, H126*C531 - Q36*Q52, H126*C654 - Q41*Q52, H126*C541 - Q46*Q52, H126*Qr1 - Q51*C430, H126*Qr4 - Q52*C320, H126*Qr3 - Q52*C420, H126*Qr2 - Q52*C430, H126*C651 - Q52*S1, H126*Qr6 - Q56*C430, H126*Qr5 - C430*S1, H126*Qr4 - C530*S1, H126*Qr3 - C540*S1, H125*Q63 - H135*Q62, H125*C642 - H135*C643, H125*C421 - H135*C431, H125*C420 - H135*C430, H125*Q25 - H135*Q35, H125*Q64 - H145*Q62, H125*Qr4 - H145*Qr2, H125*C632 - H145*C643, H125*C321 - H145*C431, H125*C320 - H145*C430, H125*Q25 - H145*Q45, H125*C432 - H156*C643, H125*Q21 - H156*Q61, H125*Q63 - H235*Q61, H125*C641 - H235*C643, H125*Q64 - H245*Q61, H125*Qr4 - H245*Qr1, H125*C631 - H245*C643, H125*Q36 - H256*Q31, H125*Q46 - H256*Q41, H125*Qr6 - H256*Qr1, H125*C431 - H256*C643, H125*C421 - H256*C642, H125*C410 - H256*C640, H125*C321 - H256*C632, H125*C310 - H256*C630, H125*Q15 - H256*Q65, H125*Q12 - H256*Q62, H125*C421 - H356*C643, H125*C321 - H456*C643, H125*C320 - Q01*Q35, H125*C420 - Q01*Q45, H125*C650 - Q01*Q62, H125*Qr6 - Q01*C431, H125*Qr4 - Q01*C631, H125*Qr1 - Q01*C643, H125*C650 - Q02*Q61, H125*Qr4 - Q02*C632, H125*Qr2 - Q02*C643, H125*C620 - Q05*Q61, H125*C610 - Q05*Q62, H125*Qr5 - Q05*C643, H125*Qr6 - Q06*C643, H125*Qr4 - Q32*C620, H125*C632 - Q35*Q61, H125*C631 - Q35*Q62, H125*Qr4 - Q35*C650, H125*C321 - Q35*S2, H125*C642 - Q45*Q61, H125*C641 - Q45*Q62, H125*C421 - Q45*S2, H125*Qr1 - Q61*C430, H125*Qr4 - Q62*C320, H125*Qr2 - Q62*C430, H125*Qr4 - Q64*C430, H125*Qr6 - C430*S2, H124*Q35 - H125*Q34, H124*Qr5 - H125*Qr4, H124*C430 - H125*C530, H124*H346 - H134*H246, H124*S2 - H134*Q32, H124*C520 - H134*C530, H124*Q24 - H134*Q34, H124*Q05 - H145*Q02, H124*Q35 - H145*Q32, H124*C620 - H145*C650, H124*C320 - H145*C530, H124*Q36 - H146*Q32, H124*C510 - H234*C530, H124*Q14 - H234*Q34, H124*Q12 - H234*Q32, H124*Q05 - H245*Q01, H124*C610 - H245*C650, H124*Q36 - H246*Q31, H124*S2 - H246*Q61, H124*Qr6 - H246*Qr1, H124*C531 - H246*C653, H124*C510 - H246*C650, H124*C431 - H246*C643, H124*C321 - H246*C632, H124*C310 - H246*C630, H124*Q16 - H246*S2, H124*Q14 - H246*Q64, H124*Q12 - H246*Q62, H124*Q16 - H346*Q32, H124*C430 - Q01*Q32, H124*C320 - Q01*Q34, H124*C620 - Q01*Q64, H124*C610 - Q02*Q64, H124*C310 - Q04*Q32, H124*C321 - Q24*Q32, H124*C531 - Q32*Q54, H124*C643 - Q32*Q61, H124*C631 - Q32*Q64, H124*Qr6 - Q32*C520, H124*Qr2 - Q32*C650, H124*C431 - Q32*S2, H124*C632 - Q34*Q61, H124*C631 - Q34*Q62, H124*Qr4 - Q34*C650, H124*C321 - Q34*S2, H124*Qr1 - Q61*C530, H124*Qr2 - Q62*C530, H124*Qr4 - Q64*C530, H124*Qr6 - C530*S2, H123*H146 - H124*H136, H123*H246 - H124*H236, H123*Q04 - H124*Q03, H123*Q54 - H124*Q53, H123*Qr4 - H124*Qr3, H123*C653 - H124*C654, H123*C630 - H124*C640, H123*C531 - H124*C541, H123*C530 - H124*C540, H123*C320 - H124*C420, H123*C310 - H124*C410, H123*Q36 - H124*Q46, H123*Q32 - H124*Q42, H123*Q31 - H124*Q41, H123*Q45 - H125*Q43, H123*Qr5 - H125*Qr3, H123*C430 - H125*C540, H123*H346 - H134*H236, H123*S2 - H134*Q42, H123*C520 - H134*C540, H123*Q23 - H134*Q43, H123*Q05 - H135*Q02, H123*Q45 - H135*Q42, H123*Qr5 - H135*Qr2, H123*C620 - H135*C650, H123*C420 - H135*C540, H123*C320 - H135*C530, H123*Q36 - H136*Q32, H123*Q46 - H136*Q42, H123*C320 - H145*C540, H123*Q36 - H146*Q42, H123*C510 - H234*C540, H123*Q13 - H234*Q43, H123*Q12 - H234*Q42, H123*Q05 - H235*Q01, H123*Qr5 - H235*Qr1, H123*C610 - H235*C650, H123*Q36 - H236*Q31, H123*Q46 - H236*Q41, H123*S2 - H236*Q61, H123*Qr6 - H236*Qr1, H123*C541 - H236*C654, H123*C531 - H236*C653, H123*C510 - H236*C650, H123*C431 - H236*C643, H123*C421 - H236*C642, H123*C410 - H236*C640, H123*C310 - H236*C630, H123*Q16 - H236*S2, H123*Q13 - H236*Q63, H123*Q12 - H236*Q62, H123*C531 - H246*C654, H123*C310 - H246*C640, H123*Q36 - H246*Q41, H123*Q16 - H346*Q42, H123*C430 - Q01*Q42, H123*C420 - Q01*Q43, H123*C620 - Q01*Q63, H123*Qr5 - Q01*C641, H123*C320 - Q01*S0, H123*C610 - Q02*Q63, H123*Qr5 - Q02*C642, H123*C310 - Q03*Q32, H123*C410 - Q03*Q42, H123*C310 - Q04*Q42, H123*C421 - Q23*Q42, H123*C531 - Q32*Q53, H123*C541 - Q42*Q53, H123*C531 - Q42*Q54, H123*C643 - Q42*Q61, H123*C641 - Q42*Q63, H123*Qr6 - Q42*C520, H123*Qr5 - Q42*C620, H123*Qr2 - Q42*C650, H123*C431 - Q42*S2, H123*C642 - Q43*Q61, H123*C641 - Q43*Q62, H123*Qr3 - Q43*C650, H123*C421 - Q43*S2, H123*Qr5 - Q45*C650, H123*Qr1 - Q61*C540, H123*Qr5 - Q62*C420, H123*Qr2 - Q62*C540, H123*Qr5 - Q63*C430, H123*Qr4 - Q63*C530, H123*Qr3 - Q63*C540, H123*Qr4 - Q64*C540, H123*Qr6 - C540*S2, H123*Qr4 - C650*S0, H056*Q05 - H156*Q15, H056*Q06 - H356*Q36, H056*Q06 - H456*Q46, H056*C610 - Q05*Q10, H056*C621 - Q10*Q25, H056*C521 - Q10*Q26, H056*C631 - Q10*Q35, H056*C531 - Q10*Q36, H056*C641 - Q10*Q45, H056*C541 - Q10*Q46, H056*Qr4 - Q10*C320, H056*Qr3 - Q10*C420, H056*Qr2 - Q10*C430, H056*Qr0 - Q10*C432, H056*C651 - Q10*S1, H056*C621 - Q15*Q20, H056*C210 - Q15*Q26, H056*C631 - Q15*Q30, H056*C310 - Q15*Q36, H056*C641 - Q15*Q40, H056*C410 - Q15*Q46, H056*C651 - Q15*Q50, H056*Qr5 - Q15*C432, H056*Qr4 - Q15*C532, H056*Qr3 - Q15*C542, H056*Qr2 - Q15*C543, H056*C610 - Q15*S1, H056*C532 - Q20*Q36, H056*C542 - Q20*Q46, H056*Qr4 - Q20*C310, H056*Qr3 - Q20*C410, H056*C320 - Q25*Q36, H056*C420 - Q25*Q46, H056*Qr4 - Q25*C531, H056*Qr3 - Q25*C541, H056*C543 - Q30*Q46, H056*Qr2 - Q30*C410, H056*C530 - Q34*Q46, H056*C430 - Q35*Q46, H056*Qr2 - Q35*C541, H056*C543 - Q36*Q40, H056*C540 - Q36*Q43, H056*C430 - Q36*Q45, H056*Qr6 - Q36*C421, H056*Qr4 - Q36*C621, H056*Qr2 - Q36*C641, H056*C530 - Q36*S0, H056*Qr2 - Q40*C310, H056*Qr2 - Q45*C531, H056*Qr6 - Q46*C321, H056*Qr3 - Q46*C621, H056*Qr2 - Q46*C631, H056*C540 - Q46*S0, H046*Q15 - H056*Q14, H046*Q04 - H146*Q14, H046*C530 - H246*C532, H046*C510 - H246*C521, H046*Q06 - H246*Q26, H046*C520 - H346*C532, H046*Q15 - H456*Q10, H046*Qr5 - H456*Qr0, H046*C320 - H456*C532, H046*C310 - H456*C531, H046*C210 - H456*C521, H046*Q06 - H456*Q56, H046*Q04 - H456*Q54, H046*C210 - Q14*Q26, H046*C310 - Q14*Q36, H046*C510 - Q14*Q56, H046*Qr5 - Q14*C432, H046*Qr4 - Q14*C532, H046*Qr6 - Q16*C532, H046*C520 - Q24*Q56, H046*C320 - Q26*Q34, H046*Qr5 - Q26*C631, H046*Qr5 - Q30*C210, H046*Qr0 - Q30*C521, H046*C530 - Q34*Q56, H046*Qr4 - Q34*C521, H046*Qr5 - Q35*C521, H046*Qr0 - Q50*C321, H046*Qr6 - Q56*C321, H046*Qr5 - C321*S1, H045*Q26 - H046*Q25, H045*C521 - H046*C621, H045*Q36 - H056*Q34, H045*C620 - H145*C621, H045*Q02 - H235*Q34, H045*C610 - H245*C621, H045*Q05 - H245*Q25, H045*Q02 - H245*S0, H045*Q04 - H345*Q34, H045*Q26 - H456*Q20, H045*C210 - H456*C621, H045*C531 - Q10*Q34, H045*C521 - Q14*Q20, H045*C210 - Q14*Q25, H045*C310 - Q15*Q34, H045*C532 - Q20*Q34, H045*C432 - Q20*Q35, H045*Qr0 - Q20*C631, H045*C520 - Q23*Q34, H045*C520 - Q24*S0, H045*C432 - Q25*Q30, H045*C320 - Q25*Q34, H045*C620 - Q25*Q64, H045*Qr5 - Q25*C631, H045*Qr0 - Q30*C621, H045*C653 - Q34*Q60, H045*C630 - Q34*Q65, H045*Qr6 - Q34*C421, H045*Qr4 - Q34*C621, H045*Qr1 - Q34*C642, H045*C530 - Q34*S0, H045*Qr5 - Q35*C621, H045*Qr6 - C321*S0, H045*Qr1 - C632*S0, H036*Q24 - H046*Q23, H036*Qr4 - H046*Qr3, H036*C532 - H046*C542, H036*C531 - H046*C541, H036*C530 - H046*C540, H036*C321 - H046*C421, H036*C320 - H046*C420, H036*C310 - H046*C410, H036*Q36 - H046*Q46, H036*Q15 - H056*Q13, H036*C310 - H056*C510, H036*Q36 - H056*Q56, H036*Q03 - H136*Q13, H036*C540 - H236*C542, H036*C530 - H236*C532, H036*C510 - H236*C521, H036*Q06 - H236*Q26, H036*C530 - H246*C542, H036*Q24 - H346*Q20, H036*C520 - H346*C542, H036*Q15 - H356*Q10, H036*Qr5 - H356*Qr0, H036*C420 - H356*C542, H036*C410 - H356*C541, H036*C320 - H356*C532, H036*C310 - H356*C531, H036*C210 - H356*C521, H036*Q06 - H356*Q56, H036*Q03 - H356*Q53, H036*C320 - H456*C542, H036*C310 - H456*C541, H036*C310 - Q06*Q10, H036*C320 - Q06*Q20, H036*C531 - Q10*Q56, H036*C210 - Q13*Q26, H036*C310 - Q13*Q36, H036*C410 - Q13*Q46, H036*C510 - Q13*Q56, H036*Qr5 - Q13*C432, H036*Qr4 - Q13*C532, H036*Qr3 - Q13*C542, H036*C310 - Q14*Q46, H036*Qr4 - Q14*C542, H036*C310 - Q15*Q56, H036*C321 - Q16*Q20, H036*Qr6 - Q16*C542, H036*C532 - Q20*Q56, H036*Qr4 - Q20*C510, H036*C520 - Q23*Q56, H036*C320 - Q25*Q56, H036*C420 - Q26*Q43, H036*Qr5 - Q26*C641, H036*C320 - Q26*S0, H036*Qr5 - Q40*C210, H036*Qr0 - Q40*C521, H036*C540 - Q43*Q56, H036*Qr3 - Q43*C521, H036*Qr5 - Q45*C521, H036*Qr0 - Q50*C421, H036*Qr6 - Q56*C421, H036*Qr4 - Q56*C621, H036*C530 - Q56*S0, H036*Qr5 - C421*S1, H036*Qr4 - C521*S0, H035*Q26 - H036*Q25, H035*C521 - H036*C621, H035*H245 - H045*H235, H035*Q04 - H045*Q03, H035*Q24 - H045*Q23, H035*S0 - H045*Q43, H035*Qr4 - H045*Qr3, H035*C653 - H045*C654, H035*C632 - H045*C642, H035*C630 - H045*C640, H035*C532 - H045*C542, H035*C531 - H045*C541, H035*C530 - H045*C540, H035*C321 - H045*C421, H035*C320 - H045*C420, H035*C310 - H045*C410, H035*Q36 - H045*Q46, H035*Q34 - H045*S0, H035*Q46 - H056*Q43, H035*Q36 - H056*S0, H035*C620 - H135*C621, H035*C610 - H235*C621, H035*Q05 - H235*Q25, H035*Q02 - H235*S0, H035*Q02 - H245*Q43, H035*Q04 - H345*S0, H035*Q03 - H345*Q43, H035*Q26 - H356*Q20, H035*C210 - H356*C621, H035*C541 - Q10*Q43, H035*C531 - Q10*S0, H035*C521 - Q13*Q20, H035*C210 - Q13*Q25, H035*C410 - Q15*Q43, H035*C310 - Q15*S0, H035*C542 - Q20*Q43, H035*C432 - Q20*Q45, H035*Qr0 - Q20*C641, H035*C532 - Q20*S0, H035*C520 - Q23*S0, H035*C520 - Q24*Q43, H035*C432 - Q25*Q40, H035*C420 - Q25*Q43, H035*C620 - Q25*Q63, H035*Qr5 - Q25*C641, H035*C320 - Q25*S0, H035*C530 - Q34*Q43, H035*Qr0 - Q40*C621, H035*C654 - Q43*Q60, H035*C640 - Q43*Q65, H035*Qr6 - Q43*C321, H035*Qr3 - Q43*C621, H035*Qr1 - Q43*C632, H035*C540 - Q43*S0, H035*Qr5 - Q45*C621, H035*C653 - Q60*S0, H035*C630 - Q65*S0, H035*Qr6 - C421*S0, H035*Qr4 - C621*S0, H035*Qr1 - C642*S0, H035*C530 - S0^2, H034*S0 - H035*Q54, H034*Q43 - H035*Q53, H034*Q56 - H036*Q54, H034*S0 - H045*Q53, H034*Q34 - H045*Q54, H034*Q56 - H046*Q53, H034*S2 - H134*Q10, H034*Q61 - H134*Q60, H034*Q12 - H234*Q10, H034*Q62 - H234*Q60, H034*Q15 - H345*Q10, H034*Q65 - H345*Q60, H034*Qr5 - H345*Qr0, H034*C640 - H345*C654, H034*C630 - H345*C653, H034*C620 - H345*C652, H034*C610 - H345*C651, H034*C410 - H345*C541, H034*C310 - H345*C531, H034*C210 - H345*C521, H034*Q04 - H345*Q54, H034*Q03 - H345*Q53, H034*Q16 - H346*Q10, H034*S2 - H346*Q60, H034*C410 - Q03*Q10, H034*C640 - Q03*Q60, H034*C310 - Q04*Q10, H034*C630 - Q04*Q60, H034*C421 - Q10*Q23, H034*C321 - Q10*Q24, H034*C541 - Q10*Q53, H034*C531 - Q10*Q54, H034*C643 - Q10*Q61, H034*C641 - Q10*Q63, H034*C631 - Q10*Q64, H034*Qr6 - Q10*C520, H034*Qr5 - Q10*C620, H034*Qr2 - Q10*C650, H034*Qr0 - Q10*C652, H034*C431 - Q10*S2, H034*C510 - Q13*Q54, H034*C641 - Q13*Q60, H034*Qr2 - Q13*C653, H034*C510 - Q14*Q53, H034*C631 - Q14*Q60, H034*Qr2 - Q14*C654, H034*C410 - Q15*Q53, H034*C310 - Q15*Q54, H034*Qr5 - Q15*C652, H034*C431 - Q16*Q60, H034*C542 - Q20*Q53, H034*C532 - Q20*Q54, H034*C520 - Q23*Q54, H034*C642 - Q23*Q60, H034*Qr6 - Q23*C531, H034*Qr1 - Q23*C653, H034*C520 - Q24*Q53, H034*C632 - Q24*Q60, H034*Qr6 - Q24*C541, H034*Qr1 - Q24*C654, H034*C530 - Q34*Q53, H034*C540 - Q43*Q54, H034*C654 - Q53*Q60, H034*C650 - Q53*Q64, H034*C640 - Q53*Q65, H034*Qr6 - Q53*C321, H034*Qr3 - Q53*C621, H034*Qr2 - Q53*C631, H034*Qr1 - Q53*C632, H034*C540 - Q53*S0, H034*C653 - Q54*Q60, H034*C650 - Q54*Q63, H034*C630 - Q54*Q65, H034*Qr6 - Q54*C421, H034*Qr4 - Q54*C621, H034*Qr2 - Q54*C641, H034*Qr1 - Q54*C642, H034*C530 - Q54*S0, H034*Qr5 - Q60*C210, H034*Qr2 - Q60*C510, H034*Qr1 - Q60*C520, H034*Qr0 - Q60*C521, H034*C643 - Q60*S2, H034*Qr2 - Q63*C531, H034*Qr2 - Q64*C541, H034*Qr5 - Q65*C521, H026*Q43 - H036*Q42, H026*C542 - H036*C543, H026*C421 - H036*C431, H026*Q20 - H036*Q30, H026*Q34 - H046*Q32, H026*Qr4 - H046*Qr2, H026*C532 - H046*C543, H026*C321 - H046*C431, H026*Q20 - H046*Q40, H026*Q15 - H056*Q12, H026*C430 - H126*C431, H026*Q06 - H126*Q16, H026*Q02 - H126*Q12, H026*Q05 - H156*Q12, H026*Q43 - H236*Q40, H026*C540 - H236*C543, H026*Q34 - H246*Q30, H026*Qr4 - H246*Qr0, H026*C530 - H246*C543, H026*Q15 - H256*Q10, H026*Qr5 - H256*Qr0, H026*C610 - H256*C651, H026*C430 - H256*C543, H026*C410 - H256*C541, H026*C310 - H256*C531, H026*C210 - H256*C521, H026*Q06 - H256*Q56, H026*Q05 - H256*S1, H026*Q02 - H256*Q52, H026*C210 - Q12*Q26, H026*C310 - Q12*Q36, H026*C410 - Q12*Q46, H026*C651 - Q12*Q50, H026*C510 - Q12*Q56, H026*Qr5 - Q12*C432, H026*Qr4 - Q12*C532, H026*Qr2 - Q12*C543, H026*C610 - Q12*S1, H026*Qr4 - Q14*C543, H026*C321 - Q16*Q30, H026*C421 - Q16*Q40, H026*C521 - Q16*Q50, H026*C510 - Q16*Q52, H026*Qr6 - Q16*C543, H026*C210 - Q16*S1, H026*C532 - Q30*Q56, H026*Qr4 - Q30*C510, H026*C530 - Q32*Q56, H026*Qr4 - Q32*C521, H026*C542 - Q40*Q56, H026*C540 - Q42*Q56, H026*Qr0 - Q50*C431, H026*Qr4 - Q52*C321, H026*Qr2 - Q52*C431, H026*Qr6 - Q56*C431, H026*Qr4 - Q56*C631, H026*Qr5 - C431*S1, H025*S0 - H035*Q32, H025*Q43 - H035*Q42, H025*Qr3 - H035*Qr2, H025*C642 - H035*C643, H025*C621 - H035*C631, H025*C542 - H035*C543, H025*C421 - H035*C431, H025*C420 - H035*C430, H025*Q25 - H035*Q35, H025*Q20 - H035*Q30, H025*Q34 - H045*Q32, H025*S0 - H045*Q42, H025*Qr4 - H045*Qr2, H025*C632 - H045*C643, H025*C621 - H045*C641, H025*C532 - H045*C543, H025*C321 - H045*C431, H025*C320 - H045*C430, H025*Q25 - H045*Q45, H025*Q20 - H045*Q40, H025*Q36 - H056*Q32, H025*Q46 - H056*Q42, H025*C610 - H235*C631, H025*Q05 - H235*Q35, H025*Q02 - H235*Q32, H025*C610 - H245*C641, H025*Q05 - H245*Q45, H025*Q02 - H245*Q42, H025*C531 - Q10*Q32, H025*C541 - Q10*Q42, H025*C310 - Q15*Q32, H025*C410 - Q15*Q42, H025*C532 - Q20*Q32, H025*C542 - Q20*Q42, H025*C320 - Q25*Q32, H025*C420 - Q25*Q42, H025*C543 - Q30*Q42, H025*C542 - Q30*Q43, H025*C432 - Q30*Q45, H025*Qr0 - Q30*C641, H025*C532 - Q30*S0, H025*C543 - Q32*Q40, H025*C540 - Q32*Q43, H025*C430 - Q32*Q45, H025*C653 - Q32*Q60, H025*C630 - Q32*Q65, H025*Qr6 - Q32*C421, H025*Qr4 - Q32*C621, H025*Qr2 - Q32*C641, H025*Qr1 - Q32*C642, H025*C530 - Q32*S0, H025*C532 - Q34*Q40, H025*C530 - Q34*Q42, H025*C320 - Q34*Q45, H025*Qr4 - Q34*C641, H025*C432 - Q35*Q40, H025*C430 - Q35*Q42, H025*C420 - Q35*Q43, H025*Qr5 - Q35*C641, H025*C320 - Q35*S0, H025*Qr0 - Q40*C631, H025*C542 - Q40*S0, H025*C654 - Q42*Q60, H025*C640 - Q42*Q65, H025*Qr6 - Q42*C321, H025*Qr3 - Q42*C621, H025*Qr2 - Q42*C631, H025*Qr1 - Q42*C632, H025*C540 - Q42*S0, H025*Qr3 - Q43*C631, H025*Qr5 - Q45*C631, H025*C420 - Q45*S0, H025*Qr6 - C431*S0, H025*Qr4 - C631*S0, H025*Qr3 - C641*S0, H025*Qr1 - C643*S0, H024*Q16 - H026*Q14, H024*Qr6 - H026*Qr4, H024*C431 - H026*C631, H024*H345 - H034*H245, H024*C621 - H045*C651, H024*Q20 - H045*Q50, H024*Q16 - H046*Q12, H024*Q56 - H046*Q52, H024*C521 - H046*C651, H024*C321 - H046*C631, H024*C210 - H046*C610, H024*C650 - H124*C651, H024*Q15 - H245*Q10, H024*Q65 - H245*Q60, H024*Qr5 - H245*Qr0, H024*C630 - H245*C653, H024*C610 - H245*C651, H024*C310 - H245*C531, H024*C210 - H245*C521, H024*Q04 - H245*Q54, H024*Q02 - H245*Q52, H024*Q56 - H246*Q50, H024*C510 - H246*C651, H024*C210 - H456*C651, H024*C431 - Q12*Q30, H024*C321 - Q14*Q30, H024*C521 - Q14*Q50, H024*C510 - Q14*Q52, H024*C210 - Q14*S1, H024*C543 - Q30*Q52, H024*Qr5 - Q30*C610, H024*Qr0 - Q30*C651, H024*C543 - Q32*Q50, H024*Qr2 - Q32*C651, H024*C532 - Q34*Q50, H024*C530 - Q34*Q52, H024*Qr4 - Q34*C651, H024*Qr5 - Q35*C651, H024*Qr0 - Q50*C631, H024*C650 - Q52*Q64, H024*Qr2 - Q52*C631, H024*Qr5 - C631*S1, H023*H045 - H024*H035, H023*H245 - H024*H235, H023*Q04 - H024*Q03, H023*S0 - H024*Q43, H023*Q54 - H024*Q53, H023*Qr4 - H024*Qr3, H023*C653 - H024*C654, H023*C631 - H024*C641, H023*C630 - H024*C640, H023*C532 - H024*C542, H023*C531 - H024*C541, H023*C530 - H024*C540, H023*C310 - H024*C410, H023*Q34 - H024*S0, H023*Q32 - H024*Q42, H023*Q30 - H024*Q40, H023*C631 - H025*C651, H023*Q32 - H025*Q52, H023*Q30 - H025*Q50, H023*Q16 - H026*Q13, H023*Qr6 - H026*Qr3, H023*C431 - H026*C641, H023*H345 - H034*H235, H023*Q04 - H034*Q02, H023*Q54 - H034*Q52, H023*S0 - H035*Q52, H023*C621 - H035*C651, H023*Q20 - H035*Q50, H023*Q16 - H036*Q12, H023*Q56 - H036*Q52, H023*Qr6 - H036*Qr2, H023*C521 - H036*C651, H023*C421 - H036*C641, H023*C210 - H036*C610, H023*Q34 - H045*Q52, H023*C650 - H123*C651, H023*Q15 - H235*Q10, H023*Q65 - H235*Q60, H023*Qr5 - H235*Qr0, H023*C640 - H235*C654, H023*C630 - H235*C653, H023*C610 - H235*C651, H023*C410 - H235*C541, H023*C310 - H235*C531, H023*C210 - H235*C521, H023*Q04 - H235*Q54, H023*Q03 - H235*Q53, H023*Q02 - H235*Q52, H023*Q56 - H236*Q50, H023*Qr6 - H236*Qr0, H023*C510 - H236*C651, H023*C630 - H245*C654, H023*C310 - H245*C541, H023*Q04 - H245*Q53, H023*Q04 - H345*Q52, H023*C210 - H356*C651, H023*C310 - Q02*Q10, H023*C630 - Q02*Q60, H023*C531 - Q10*Q52, H023*C431 - Q12*Q40, H023*Qr6 - Q12*C542, H023*C421 - Q13*Q40, H023*C521 - Q13*Q50, H023*C510 - Q13*Q52, H023*Qr6 - Q13*C543, H023*C210 - Q13*S1, H023*C310 - Q15*Q52, H023*C532 - Q20*Q52, H023*C543 - Q40*Q52, H023*Qr6 - Q40*C510, H023*Qr5 - Q40*C610, H023*Qr0 - Q40*C651, H023*C543 - Q42*Q50, H023*Qr6 - Q42*C521, H023*Qr2 - Q42*C651, H023*C542 - Q43*Q50, H023*C540 - Q43*Q52, H023*Qr3 - Q43*C651, H023*Qr5 - Q45*C651, H023*Qr0 - Q50*C641, H023*C532 - Q50*S0, H023*C653 - Q52*Q60, H023*C650 - Q52*Q63, H023*C630 - Q52*Q65, H023*Qr6 - Q52*C421, H023*Qr4 - Q52*C621, H023*Qr2 - Q52*C641, H023*C530 - Q52*S0, H023*Qr6 - Q56*C641, H023*Qr5 - C641*S1, H023*Qr4 - C651*S0, H016*H256 - H026*H156, H016*C431 - H026*C432, H016*Q16 - H026*Q26, H016*Q12 - H026*S1, H016*C421 - H036*C432, H016*C321 - H046*C432, H016*Q15 - H056*S1, H016*Q10 - H056*Q50, H016*Q52 - H126*Q50, H016*Qr2 - H126*Qr0, H016*C650 - H126*C652, H016*C540 - H126*C542, H016*C530 - H126*C532, H016*C510 - H126*C521, H016*C430 - H126*C432, H016*Q06 - H126*Q26, H016*Q02 - H126*S1, H016*Q01 - H126*Q21, H016*Q53 - H136*Q50, H016*Q03 - H136*S1, H016*Q54 - H146*Q50, H016*Q04 - H146*S1, H016*Q15 - H156*Q10, H016*Q25 - H156*Q20, H016*S1 - H156*Q50, H016*Qr5 - H156*Qr0, H016*C640 - H156*C654, H016*C630 - H156*C653, H016*C620 - H156*C652, H016*C610 - H156*C651, H016*C430 - H156*C543, H016*C420 - H156*C542, H016*C410 - H156*C541, H016*C320 - H156*C532, H016*C310 - H156*C531, H016*C210 - H156*C521, H016*Q06 - H156*Q56, H016*Q05 - H156*S1, H016*Q04 - H156*Q54, H016*Q03 - H156*Q53, H016*Q02 - H156*Q52, H016*Q01 - H156*Q51, H016*Q12 - H256*Q50, H016*C650 - Q01*Q50, H016*C610 - Q05*Q50, H016*C510 - Q06*Q50, H016*C621 - Q20*S1, H016*C652 - Q21*Q50, H016*C650 - Q21*Q52, H016*C520 - Q21*Q56, H016*Qr1 - Q21*C543, H016*C620 - Q21*S1, H016*C621 - Q25*Q50, H016*C321 - Q26*Q30, H016*C421 - Q26*Q40, H016*C521 - Q26*Q50, H016*C520 - Q26*Q51, H016*C510 - Q26*Q52, H016*Qr6 - Q26*C543, H016*C210 - Q26*S1, H016*C653 - Q31*Q50, H016*C630 - Q31*S1, H016*C531 - Q36*Q50, H016*C310 - Q36*S1, H016*C654 - Q41*Q50, H016*C640 - Q41*S1, H016*C541 - Q46*Q50, H016*C410 - Q46*S1, H016*Qr4 - Q50*C320, H016*Qr3 - Q50*C420, H016*Qr2 - Q50*C430, H016*Qr0 - Q50*C432, H016*C651 - Q50*S1, H016*Qr1 - Q51*C432, H016*C650 - Q51*S1, H016*Qr2 - Q52*C432, H016*Qr6 - Q56*C432, H016*C510 - Q56*S1, H016*Qr5 - C432*S1, H016*Qr4 - C532*S1, H016*Qr3 - C542*S1, H016*Qr2 - C543*S1, H016*C610 - S1^2, H015*S1 - H016*Q65, H015*Q50 - H016*Q60, H015*Q32 - H025*Q31, H015*Q42 - H025*Q41, H015*S0 - H035*Q31, H015*Q43 - H035*Q41, H015*Q34 - H045*Q31, H015*S0 - H045*Q41, H015*H256 - H056*H125, H015*Q36 - H056*Q31, H015*Q46 - H056*Q41, H015*Qr6 - H056*Qr1, H015*C541 - H056*C654, H015*C531 - H056*C653, H015*C431 - H056*C643, H015*C421 - H056*C642, H015*C410 - H056*C640, H015*C321 - H056*C632, H015*C310 - H056*C630, H015*Q15 - H056*Q65, H015*Q10 - H056*Q60, H015*Q01 - H135*Q31, H015*Q01 - H145*Q41, H015*S1 - H156*Q60, H015*Q05 - H156*Q65, H015*C610 - Q05*Q60, H015*C531 - Q10*Q31, H015*C541 - Q10*Q41, H015*C310 - Q15*Q31, H015*C410 - Q15*Q41, H015*C532 - Q20*Q31, H015*C542 - Q20*Q41, H015*C621 - Q20*Q65, H015*Qr4 - Q20*C630, H015*Qr3 - Q20*C640, H015*C652 - Q21*Q60, H015*C620 - Q21*Q65, H015*C320 - Q25*Q31, H015*C420 - Q25*Q41, H015*C621 - Q25*Q60, H015*Qr4 - Q25*C653, H015*Qr3 - Q25*C654, H015*C543 - Q30*Q41, H015*C631 - Q30*Q65, H015*Qr2 - Q30*C640, H015*C543 - Q31*Q40, H015*C540 - Q31*Q43, H015*C430 - Q31*Q45, H015*C653 - Q31*Q60, H015*C630 - Q31*Q65, H015*Qr6 - Q31*C421, H015*Qr4 - Q31*C621, H015*Qr2 - Q31*C641, H015*Qr1 - Q31*C642, H015*C530 - Q31*S0, H015*C530 - Q34*Q41, H015*C430 - Q35*Q41, H015*C631 - Q35*Q60, H015*Qr2 - Q35*C654, H015*C531 - Q36*Q60, H015*C310 - Q36*Q65, H015*Qr6 - Q36*C642, H015*C641 - Q40*Q65, H015*Qr2 - Q40*C630, H015*C654 - Q41*Q60, H015*C640 - Q41*Q65, H015*Qr6 - Q41*C321, H015*Qr3 - Q41*C621, H015*Qr2 - Q41*C631, H015*Qr1 - Q41*C632, H015*C540 - Q41*S0, H015*C641 - Q45*Q60, H015*Qr2 - Q45*C653, H015*C541 - Q46*Q60, H015*C410 - Q46*Q65, H015*Qr6 - Q46*C632, H015*C651 - Q50*Q65, H015*Qr4 - Q60*C320, H015*Qr3 - Q60*C420, H015*Qr2 - Q60*C430, H015*Qr0 - Q60*C432, H015*C651 - Q60*S1, H015*Qr5 - Q65*C432, H015*Qr4 - Q65*C532, H015*Qr3 - Q65*C542, H015*Qr2 - Q65*C543, H015*C610 - Q65*S1, H014*Q65 - H015*Q64, H014*Q26 - H016*Q24, H014*C432 - H016*C632, H014*Q52 - H024*Q51, H014*C651 - H024*C652, H014*C631 - H024*C632, H014*C610 - H024*C620, H014*Q14 - H024*Q24, H014*Q10 - H034*Q30, H014*Q25 - H045*Q21, H014*C621 - H045*C652, H014*Q26 - H046*Q21, H014*Q36 - H046*Q31, H014*Qr6 - H046*Qr1, H014*C531 - H046*C653, H014*C521 - H046*C652, H014*C321 - H046*C632, H014*C310 - H046*C630, H014*C210 - H046*C620, H014*Q14 - H046*Q64, H014*Q10 - H046*Q60, H014*Q52 - H124*Q50, H014*C650 - H124*C652, H014*C530 - H124*C532, H014*Q01 - H124*Q21, H014*C520 - H134*C532, H014*Q25 - H145*Q20, H014*Q65 - H145*Q60, H014*Qr5 - H145*Qr0, H014*C630 - H145*C653, H014*C620 - H145*C652, H014*C610 - H145*C651, H014*C320 - H145*C532, H014*C310 - H145*C531, H014*C210 - H145*C521, H014*Q04 - H145*Q54, H014*Q01 - H145*Q51, H014*Q36 - H146*Q30, H014*C310 - H146*C631, H014*Q04 - H146*Q64, H014*C610 - H245*C652, H014*C310 - H456*C653, H014*C210 - H456*C652, H014*C310 - Q04*Q30, H014*C210 - Q14*Q21, H014*C310 - Q14*Q31, H014*C621 - Q20*Q64, H014*C432 - Q21*Q30, H014*C320 - Q21*Q34, H014*C620 - Q21*Q64, H014*Qr5 - Q21*C631, H014*C321 - Q24*Q30, H014*C521 - Q24*Q50, H014*C520 - Q24*Q51, H014*Qr6 - Q24*C543, H014*C210 - Q24*S1, H014*C210 - Q26*Q64, H014*C531 - Q30*Q54, H014*C631 - Q30*Q64, H014*Qr6 - Q30*C520, H014*Qr5 - Q30*C620, H014*Qr0 - Q30*C652, H014*C630 - Q31*Q64, H014*C530 - Q34*Q51, H014*Qr4 - Q34*C652, H014*C310 - Q35*Q54, H014*Qr5 - Q35*C652, H014*C310 - Q36*Q64, H014*C651 - Q50*Q64, H014*Qr0 - Q50*C632, H014*C650 - Q51*Q64, H014*Qr6 - Q51*C321, H014*Qr1 - Q51*C632, H014*Qr6 - Q56*C632, H014*Qr1 - Q61*C532, H014*Qr5 - Q64*C432, H014*Qr4 - Q64*C532, H014*C610 - Q64*S1, H014*Qr6 - C532*S2, H014*Qr5 - C632*S1, H013*Q24 - H014*Q23, H013*Q54 - H014*Q53, H013*Qr4 - H014*Qr3, H013*C653 - H014*C654, H013*C632 - H014*C642, H013*C630 - H014*C640, H013*C532 - H014*C542, H013*C531 - H014*C541, H013*C530 - H014*C540, H013*C321 - H014*C421, H013*C320 - H014*C420, H013*Q31 - H014*Q41, H013*Q65 - H015*Q63, H013*C630 - H015*C650, H013*Q31 - H015*Q51, H013*Q26 - H016*Q23, H013*C432 - H016*C642, H013*Q52 - H023*Q51, H013*C651 - H023*C652, H013*C641 - H023*C642, H013*C610 - H023*C620, H013*Q13 - H023*Q23, H013*Q54 - H034*Q51, H013*C531 - H034*C543, H013*Q10 - H034*Q40, H013*Q25 - H035*Q21, H013*C621 - H035*C652, H013*Q26 - H036*Q21, H013*Q46 - H036*Q41, H013*Qr6 - H036*Qr1, H013*C541 - H036*C654, H013*C531 - H036*C653, H013*C521 - H036*C652, H013*C421 - H036*C642, H013*C410 - H036*C640, H013*C321 - H036*C632, H013*C210 - H036*C620, H013*Q13 - H036*Q63, H013*Q10 - H036*Q60, H013*C531 - H046*C654, H013*C321 - H046*C642, H013*Q52 - H123*Q50, H013*C650 - H123*C652, H013*C540 - H123*C542, H013*C530 - H123*C532, H013*Q01 - H123*Q21, H013*C530 - H124*C542, H013*Q24 - H134*Q20, H013*C520 - H134*C542, H013*Q25 - H135*Q20, H013*Q65 - H135*Q60, H013*Qr5 - H135*Qr0, H013*C640 - H135*C654, H013*C630 - H135*C653, H013*C620 - H135*C652, H013*C610 - H135*C651, H013*C420 - H135*C542, H013*C410 - H135*C541, H013*C320 - H135*C532, H013*C210 - H135*C521, H013*Q03 - H135*Q53, H013*Q01 - H135*Q51, H013*Q46 - H136*Q40, H013*C410 - H136*C641, H013*Q03 - H136*Q63, H013*C630 - H145*C654, H013*C320 - H145*C542, H013*C610 - H235*C652, H013*C410 - H356*C654, H013*C210 - H356*C652, H013*C320 - Q01*Q20, H013*C630 - Q01*Q60, H013*C410 - Q03*Q40, H013*C531 - Q10*Q51, H013*C210 - Q13*Q21, H013*C410 - Q13*Q41, H013*C532 - Q20*Q51, H013*C632 - Q20*Q61, H013*C621 - Q20*Q63, H013*Qr4 - Q20*C650, H013*C321 - Q20*S2, H013*C432 - Q21*Q40, H013*C420 - Q21*Q43, H013*C620 - Q21*Q63, H013*Qr5 - Q21*C641, H013*C320 - Q21*S0, H013*C321 - Q23*Q30, H013*C421 - Q23*Q40, H013*C521 - Q23*Q50, H013*C520 - Q23*Q51, H013*Qr6 - Q23*C543, H013*C210 - Q23*S1, H013*C321 - Q24*Q40, H013*C320 - Q25*Q51, H013*C210 - Q26*Q63, H013*C531 - Q30*Q53, H013*C630 - Q31*Q63, H013*C541 - Q40*Q53, H013*C531 - Q40*Q54, H013*C641 - Q40*Q63, H013*Qr6 - Q40*C520, H013*Qr5 - Q40*C620, H013*Qr0 - Q40*C652, H013*C640 - Q41*Q63, H013*C630 - Q41*Q64, H013*C540 - Q43*Q51, H013*Qr3 - Q43*C652, H013*C410 - Q45*Q53, H013*Qr5 - Q45*C652, H013*C410 - Q46*Q63, H013*C651 - Q50*Q63, H013*Qr0 - Q50*C642, H013*C653 - Q51*Q60, H013*C650 - Q51*Q63, H013*C630 - Q51*Q65, H013*Qr6 - Q51*C421, H013*Qr4 - Q51*C621, H013*Qr1 - Q51*C642, H013*C530 - Q51*S0, H013*C531 - Q56*Q60, H013*Qr6 - Q56*C642, H013*Qr1 - Q61*C542, H013*Qr5 - Q63*C432, H013*Qr4 - Q63*C532, H013*Qr3 - Q63*C542, H013*C610 - Q63*S1, H013*Qr4 - Q64*C542, H013*Qr6 - C542*S2, H013*Qr5 - C642*S1, H013*Qr4 - C652*S0, H012*Q43 - H013*Q42, H012*Q63 - H013*Q62, H012*Qr3 - H013*Qr2, H012*C642 - H013*C643, H012*C542 - H013*C543, H012*C421 - H013*C431, H012*Q20 - H013*Q30, H012*Q34 - H014*Q32, H012*Q64 - H014*Q62, H012*Qr4 - H014*Qr2, H012*C632 - H014*C643, H012*C532 - H014*C543, H012*C321 - H014*C431, H012*Q20 - H014*Q40, H012*H056 - H015*H026, H012*Q15 - H015*Q12, H012*Q65 - H015*Q62, H012*H156 - H016*H125, H012*S1 - H016*Q62, H012*C432 - H016*C643, H012*Q21 - H016*Q61, H012*Q63 - H023*Q61, H012*Qr3 - H023*Qr1, H012*C641 - H023*C643, H012*Q64 - H024*Q61, H012*Qr4 - H024*Qr1, H012*C631 - H024*C643, H012*H256 - H026*H125, H012*Q36 - H026*Q31, H012*Q46 - H026*Q41, H012*Qr6 - H026*Qr1, H012*C541 - H026*C654, H012*C531 - H026*C653, H012*C431 - H026*C643, H012*C421 - H026*C642, H012*C410 - H026*C640, H012*C321 - H026*C632, H012*C310 - H026*C630, H012*Q15 - H026*Q65, H012*Q12 - H026*Q62, H012*Q10 - H026*Q60, H012*C421 - H036*C643, H012*C321 - H046*C643, H012*Q15 - H056*Q62, H012*Q43 - H123*Q40, H012*Qr3 - H123*Qr0, H012*C540 - H123*C543, H012*Q34 - H124*Q30, H012*Qr4 - H124*Qr0, H012*C530 - H124*C543, H012*Q15 - H125*Q10, H012*S1 - H125*Q50, H012*Q65 - H125*Q60, H012*Qr5 - H125*Qr0, H012*C640 - H125*C654, H012*C630 - H125*C653, H012*C620 - H125*C652, H012*C610 - H125*C651, H012*C430 - H125*C543, H012*C410 - H125*C541, H012*C310 - H125*C531, H012*Q05 - H125*S1, H012*Q02 - H125*Q52, H012*Q01 - H125*Q51, H012*C430 - H126*C643, H012*Q02 - H126*Q62, H012*Q01 - H126*Q61, H012*Q05 - H156*Q62, H012*C410 - H256*C654, H012*C310 - H256*C653, H012*Q15 - H256*Q60, H012*C310 - Q12*Q31, H012*C410 - Q12*Q41, H012*C620 - Q21*Q62, H012*C532 - Q30*Q51, H012*C632 - Q30*Q61, H012*C631 - Q30*Q62, H012*Qr4 - Q30*C650, H012*C321 - Q30*S2, H012*C630 - Q31*Q62, H012*C530 - Q32*Q51, H012*Qr4 - Q32*C652, H012*C310 - Q36*Q62, H012*C542 - Q40*Q51, H012*C642 - Q40*Q61, H012*C641 - Q40*Q62, H012*Qr3 - Q40*C650, H012*C421 - Q40*S2, H012*C640 - Q41*Q62, H012*C540 - Q42*Q51, H012*Qr3 - Q42*C652, H012*C410 - Q46*Q62, H012*C652 - Q50*Q61, H012*C651 - Q50*Q62, H012*Qr0 - Q50*C643, H012*C650 - Q51*Q62, H012*Qr6 - Q51*C431, H012*Qr4 - Q51*C631, H012*Qr3 - Q51*C641, H012*Qr1 - Q51*C643, H012*C650 - Q52*Q61, H012*Qr4 - Q52*C632, H012*Qr3 - Q52*C642, H012*Qr2 - Q52*C643, H012*Qr6 - Q56*C643, H012*Qr1 - Q61*C543, H012*C620 - Q61*S1, H012*Qr5 - Q62*C432, H012*Qr4 - Q62*C532, H012*Qr3 - Q62*C542, H012*Qr2 - Q62*C543, H012*C610 - Q62*S1, H012*Qr3 - Q63*C543, H012*Qr4 - Q64*C543, H012*Qr6 - C543*S2, H012*Qr5 - C643*S1, e6*Q40 - H012*H035, e6*Q30 - H012*H045, e6*Qr0 - H012*C621, e6*C543 - H012*S0, e6*Q50 - H013*H024, e6*Q40 - H013*H025, e6*Q20 - H013*H045, e6*Q51 - H013*H124, e6*Q21 - H013*H145, e6*C543 - H013*Q32, e6*C532 - H013*Q34, e6*C652 - H013*Q64, e6*Qr0 - H013*C631, e6*C542 - H013*S0, e6*Q50 - H014*H023, e6*Q30 - H014*H025, e6*Q20 - H014*H035, e6*Q51 - H014*H123, e6*Q21 - H014*H135, e6*C543 - H014*Q42, e6*C542 - H014*Q43, e6*C652 - H014*Q63, e6*Qr0 - H014*C641, e6*C532 - H014*S0, e6*Q41 - H015*H123, e6*Q31 - H015*H124, e6*Q52 - H023*H124, e6*C651 - H023*Q64, e6*Qr0 - H023*C632, e6*Q52 - H024*H123, e6*C651 - H024*Q63, e6*Qr0 - H024*C642, e6*Q42 - H025*H123, e6*Q32 - H025*H124, e6*Q45 - H025*H135, e6*Q35 - H025*H145, e6*C430 - H025*Q01, e6*C543 - H025*Q51, e6*C643 - H025*Q61, e6*C641 - H025*Q63, e6*C631 - H025*Q64, e6*Qr5 - H025*C620, e6*Qr2 - H025*C650, e6*Qr0 - H025*C652, e6*Q53 - H034*H123, e6*Q54 - H034*H124, e6*Q43 - H035*H123, e6*S0 - H035*H124, e6*Q45 - H035*H125, e6*Q23 - H035*H134, e6*Q25 - H035*H145, e6*C420 - H035*Q01, e6*C542 - H035*Q51, e6*C642 - H035*Q61, e6*C641 - H035*Q62, e6*C621 - H035*Q64, e6*Qr3 - H035*C650, e6*S0 - H045*H123, e6*Q34 - H045*H124, e6*Q35 - H045*H125, e6*Q24 - H045*H134, e6*Q25 - H045*H135, e6*C320 - H045*Q01, e6*C532 - H045*Q51, e6*C632 - H045*Q61, e6*C631 - H045*Q62, e6*C621 - H045*Q63, e6*Qr4 - H045*C650, e6*Q01 - H123*H145, e6*Q02 - H123*H245, e6*Q03 - H123*H345, e6*C542 - H123*Q20, e6*C520 - H123*Q24, e6*C420 - H123*Q25, e6*C543 - H123*Q30, e6*C530 - H123*Q34, e6*C430 - H123*Q35, e6*C654 - H123*Q60, e6*C650 - H123*Q64, e6*C640 - H123*Q65, e6*Qr3 - H123*C621, e6*Qr2 - H123*C631, e6*Qr1 - H123*C632, e6*C540 - H123*S0, e6*Q01 - H124*H135, e6*Q02 - H124*H235, e6*Q04 - H124*H345, e6*C532 - H124*Q20, e6*C520 - H124*Q23, e6*C320 - H124*Q25, e6*C543 - H124*Q40, e6*C540 - H124*Q43, e6*C430 - H124*Q45, e6*C653 - H124*Q60, e6*C650 - H124*Q63, e6*C630 - H124*Q65, e6*Qr4 - H124*C621, e6*Qr2 - H124*C641, e6*Qr1 - H124*C642, e6*C530 - H124*S0, e6*Qr5 - H125*C621, e6*C430 - H125*S0, e6*C520 - H134*S0, e6*Q05 - H135*H245, e6*C430 - H135*Q32, e6*C320 - H135*Q34, e6*C620 - H135*Q64, e6*Qr5 - H135*C631, e6*C420 - H135*S0, e6*Q05 - H145*H235, e6*C430 - H145*Q42, e6*C420 - H145*Q43, e6*C620 - H145*Q63, e6*Qr5 - H145*C641, e6*C320 - H145*S0, e6*C610 - H235*Q64, e6*Qr5 - H235*C632, e6*C610 - H245*Q63, e6*Qr5 - H245*C642, e6*Qr0 - Q20*Q62, e6*Qr5 - Q25*Q62, e6*Qr0 - Q30*Q63, e6*Qr2 - Q32*Q63, e6*Qr4 - Q34*Q63, e6*Qr5 - Q35*Q63, e6*Qr0 - Q40*Q64, e6*Qr2 - Q42*Q64, e6*Qr3 - Q43*Q64, e6*Qr5 - Q45*Q64, e6*Qr1 - Q61*S0, e6*Qr2 - Q62*S0, e6*Qr3 - Q63*S0, e6*Qr4 - Q64*S0, e5*Q60 - H012*H034, e5*Q40 - H012*H036, e5*Q30 - H012*H046, e5*Q61 - H012*H134, e5*Q41 - H012*H136, e5*Q31 - H012*H146, e5*Q62 - H012*H234, e5*Q42 - H012*H236, e5*Q32 - H012*H246, e5*S2 - H012*H346, e5*C641 - H012*Q13, e5*C631 - H012*Q14, e5*C431 - H012*Q16, e5*C642 - H012*Q23, e5*C632 - H012*Q24, e5*C432 - H012*Q26, e5*C654 - H012*Q53, e5*C653 - H012*Q54, e5*C543 - H012*Q56, e5*Qr2 - H012*C510, e5*Qr1 - H012*C520, e5*Qr0 - H012*C521, e5*C643 - H012*S2, e5*Q40 - H013*H026, e5*Q20 - H013*H046, e5*Q63 - H013*H234, e5*Q43 - H013*H236, e5*Q23 - H013*H346, e5*C641 - H013*Q12, e5*C421 - H013*Q16, e5*C542 - H013*Q56, e5*Qr3 - H013*C510, e5*C642 - H013*S2, e5*Q30 - H014*H026, e5*Q20 - H014*H036, e5*Q64 - H014*H234, e5*Q34 - H014*H246, e5*Q24 - H014*H346, e5*C631 - H014*Q12, e5*C321 - H014*Q16, e5*C532 - H014*Q56, e5*Qr4 - H014*C510, e5*C632 - H014*S2, e5*Q21 - H016*H134, e5*Q26 - H016*H346, e5*C432 - H016*S2, e5*Q63 - H023*H134, e5*Q13 - H023*H346, e5*Qr3 - H023*C520, e5*C641 - H023*S2, e5*Q64 - H024*H134, e5*Q14 - H024*H346, e5*Qr4 - H024*C520, e5*C631 - H024*S2, e5*Q10 - H026*H034, e5*Q42 - H026*H123, e5*Q32 - H026*H124, e5*S2 - H026*H134, e5*Q46 - H026*H136, e5*Q36 - H026*H146, e5*Q12 - H026*H234, e5*Q16 - H026*H346, e5*C432 - H026*Q21, e5*C421 - H026*Q23, e5*C321 - H026*Q24, e5*C543 - H026*Q51, e5*C541 - H026*Q53, e5*C531 - H026*Q54, e5*C643 - H026*Q61, e5*C641 - H026*Q63, e5*C631 - H026*Q64, e5*Qr6 - H026*C520, e5*Qr2 - H026*C650, e5*Qr0 - H026*C652, e5*C431 - H026*S2, e5*Q43 - H036*H123, e5*Q23 - H036*H134, e5*Q13 - H036*H234, e5*C542 - H036*Q51, e5*C642 - H036*Q61, e5*C641 - H036*Q62, e5*Qr3 - H036*C650, e5*C421 - H036*S2, e5*Q34 - H046*H124, e5*Q24 - H046*H134, e5*Q14 - H046*H234, e5*C532 - H046*Q51, e5*C632 - H046*Q61, e5*C631 - H046*Q62, e5*Qr4 - H046*C650, e5*C321 - H046*S2, e5*C540 - H123*Q56, e5*Qr3 - H123*C521, e5*C530 - H124*Q56, e5*Qr4 - H124*C521, e5*C632 - H134*Q30, e5*C642 - H134*Q40, e5*C652 - H134*Q50, e5*C650 - H134*Q52, e5*C520 - H134*Q56, e5*Qr1 - H134*C543, e5*C631 - H234*Q30, e5*C641 - H234*Q40, e5*C651 - H234*Q50, e5*C650 - H234*Q51, e5*C510 - H234*Q56, e5*Qr4 - H234*C532, e5*Qr3 - H234*C542, e5*Qr2 - H234*C543, e5*C540 - H236*Q51, e5*Qr3 - H236*C652, e5*C530 - H246*Q51, e5*Qr4 - H246*C652, e5*C321 - H346*Q30, e5*C421 - H346*Q40, e5*C521 - H346*Q50, e5*C520 - H346*Q51, e5*C510 - H346*Q52, e5*Qr6 - H346*C543, e5*Qr2 - Q12*Q51, e5*Qr3 - Q13*Q51, e5*Qr4 - Q14*Q51, e5*Qr6 - Q16*Q51, e5*Qr3 - Q23*Q52, e5*Qr4 - Q24*Q52, e5*Qr0 - Q50*S2, e5*Qr1 - Q51*S2, e5*Qr2 - Q52*S2, e5*Qr1 - Q56*Q61, e5*Qr2 - Q56*Q62, e5*Qr3 - Q56*Q63, e5*Qr4 - Q56*Q64, e5*Qr6 - Q56*S2, e4*Q61 - H012*H135, e4*Q62 - H012*H235, e4*C643 - H012*Q45, e4*Qr1 - H012*C420, e4*Q61 - H013*H125, e4*Q51 - H013*H126, e4*Q21 - H013*H156, e4*Q63 - H013*H235, e4*Q23 - H013*H356, e4*C650 - H013*Q02, e4*C620 - H013*Q05, e4*C642 - H013*Q45, e4*Qr1 - H013*C430, e4*C652 - H013*S1, e4*Q60 - H015*H023, e4*Q65 - H015*H235, e4*Q50 - H016*H023, e4*Q20 - H016*H035, e4*Q51 - H016*H123, e4*Q21 - H016*H135, e4*S1 - H016*H235, e4*Q56 - H016*H236, e4*Q26 - H016*H356, e4*C521 - H016*Q13, e4*C543 - H016*Q42, e4*C542 - H016*Q43, e4*C432 - H016*Q45, e4*C652 - H016*Q63, e4*Qr0 - H016*C641, e4*Q10 - H023*H056, e4*Q62 - H023*H125, e4*Q52 - H023*H126, e4*Q63 - H023*H135, e4*Q53 - H023*H136, e4*S1 - H023*H156, e4*Q12 - H023*H256, e4*Q13 - H023*H356, e4*C650 - H023*Q01, e4*C610 - H023*Q05, e4*C510 - H023*Q06, e4*C652 - H023*Q21, e4*C621 - H023*Q25, e4*C521 - H023*Q26, e4*C654 - H023*Q41, e4*C641 - H023*Q45, e4*C541 - H023*Q46, e4*Qr4 - H023*C320, e4*Qr3 - H023*C420, e4*Qr2 - H023*C430, e4*Qr0 - H023*C432, e4*C651 - H023*S1, e4*Qr4 - H024*C420, e4*Q12 - H026*H235, e4*Q16 - H026*H356, e4*C431 - H026*Q45, e4*Qr6 - H026*C420, e4*Q25 - H035*H156, e4*C621 - H035*S1, e4*Q56 - H036*H126, e4*Q23 - H036*H135, e4*Q26 - H036*H156, e4*Q13 - H036*H235, e4*Q16 - H036*H256, e4*C510 - H036*Q02, e4*C210 - H036*Q05, e4*C421 - H036*Q45, e4*Qr6 - H036*C430, e4*C521 - H036*S1, e4*Q15 - H056*H235, e4*Q01 - H123*H156, e4*Qr1 - H123*C432, e4*C650 - H123*S1, e4*C643 - H125*Q40, e4*Qr1 - H125*C542, e4*Q01 - H126*H135, e4*Q02 - H126*H235, e4*Q06 - H126*H356, e4*C510 - H126*Q13, e4*C543 - H126*Q40, e4*C540 - H126*Q43, e4*C430 - H126*Q45, e4*C650 - H126*Q63, e4*Qr6 - H126*C421, e4*Qr4 - H126*C621, e4*Qr2 - H126*C641, e4*Qr1 - H126*C642, e4*C642 - H135*Q40, e4*C652 - H135*Q50, e4*C650 - H135*Q52, e4*Qr1 - H135*C543, e4*C620 - H135*S1, e4*Q03 - H136*H235, e4*Q05 - H156*H235, e4*Q06 - H156*H236, e4*C210 - H156*Q13, e4*C432 - H156*Q40, e4*C430 - H156*Q42, e4*C420 - H156*Q43, e4*C620 - H156*Q63, e4*Qr5 - H156*C641, e4*C621 - H235*Q20, e4*C620 - H235*Q21, e4*C210 - H235*Q26, e4*C641 - H235*Q40, e4*C640 - H235*Q41, e4*C410 - H235*Q46, e4*C651 - H235*Q50, e4*C650 - H235*Q51, e4*C510 - H235*Q56, e4*Qr5 - H235*C432, e4*Qr4 - H235*C532, e4*Qr3 - H235*C542, e4*Qr2 - H235*C543, e4*C610 - H235*S1, e4*Qr6 - H236*C432, e4*C510 - H236*S1, e4*Qr4 - H245*C542, e4*C431 - H256*Q40, e4*Qr6 - H256*C542, e4*C421 - H356*Q40, e4*C521 - H356*Q50, e4*C510 - H356*Q52, e4*Qr6 - H356*C543, e4*C210 - H356*S1, e4*Qr1 - Q01*Q40, e4*Qr4 - Q02*Q20, e4*Qr2 - Q02*Q40, e4*Qr5 - Q05*Q40, e4*Qr6 - Q06*Q40, e4*Qr1 - Q21*Q42, e4*Qr4 - Q25*Q52, e4*Qr6 - Q26*Q42, e4*Qr0 - Q40*S1, e4*Qr2 - Q42*S1, e4*Qr3 - Q43*S1, e4*Qr0 - Q45*Q50, e4*Qr1 - Q45*Q51, e4*Qr2 - Q45*Q52, e4*Qr6 - Q45*Q56, e4*Qr5 - Q45*S1, e4*Qr4 - S0*S1, e3*Q40 - e4*Q30, e3*Q41 - e4*Q31, e3*Q42 - e4*Q32, e3*S0 - e4*Q34, e3*Q45 - e4*Q35, e3*Q46 - e4*Q36, e3*C410 - e4*C310, e3*C420 - e4*C320, e3*C540 - e4*C530, e3*C541 - e4*C531, e3*C542 - e4*C532, e3*C640 - e4*C630, e3*C641 - e4*C631, e3*C642 - e4*C632, e3*C654 - e4*C653, e3*Qr3 - e4*Qr4, e3*Q63 - e4*Q64, e3*Q43 - e4*S0, e3*H235 - e4*H245, e3*H135 - e4*H145, e3*H123 - e4*H124, e3*H035 - e4*H045, e3*H023 - e4*H024, e3*H013 - e4*H014, e3*C642 - e6*C432, e3*Q63 - e6*S1, e3*H135 - e6*H156, e3*H123 - e6*H126, e3*H013 - e6*H016, e3*Q61 - H012*H145, e3*Q62 - H012*H245, e3*C642 - H012*Q25, e3*C643 - H012*Q35, e3*Qr1 - H012*C320, e3*Q63 - H013*H245, e3*C642 - H013*Q35, e3*Q61 - H014*H125, e3*Q51 - H014*H126, e3*Q21 - H014*H156, e3*Q63 - H014*H235, e3*Q64 - H014*H245, e3*Q24 - H014*H456, e3*C650 - H014*Q02, e3*C620 - H014*Q05, e3*C632 - H014*Q35, e3*C642 - H014*Q45, e3*Qr1 - H014*C430, e3*C652 - H014*S1, e3*Q60 - H015*H024, e3*Q41 - H015*H126, e3*Q65 - H015*H245, e3*C640 - H015*Q02, e3*C654 - H015*Q52, e3*Q50 - H016*H024, e3*Q40 - H016*H025, e3*Q20 - H016*H045, e3*Q51 - H016*H124, e3*Q21 - H016*H145, e3*S1 - H016*H245, e3*Q56 - H016*H246, e3*Q26 - H016*H456, e3*C521 - H016*Q14, e3*C543 - H016*Q32, e3*C532 - H016*Q34, e3*C432 - H016*Q35, e3*C652 - H016*Q64, e3*Qr0 - H016*C631, e3*C542 - H016*S0, e3*Q63 - H023*H145, e3*C654 - H023*Q31, e3*C641 - H023*Q35, e3*C541 - H023*Q36, e3*Q10 - H024*H056, e3*Q62 - H024*H125, e3*Q52 - H024*H126, e3*Q63 - H024*H135, e3*Q64 - H024*H145, e3*Q54 - H024*H146, e3*S1 - H024*H156, e3*Q12 - H024*H256, e3*Q14 - H024*H456, e3*C650 - H024*Q01, e3*C610 - H024*Q05, e3*C510 - H024*Q06, e3*C652 - H024*Q21, e3*C621 - H024*Q25, e3*C521 - H024*Q26, e3*C653 - H024*Q31, e3*C631 - H024*Q35, e3*C531 - H024*Q36, e3*C654 - H024*Q41, e3*C641 - H024*Q45, e3*C541 - H024*Q46, e3*Qr4 - H024*C320, e3*Qr2 - H024*C430, e3*Qr0 - H024*C432, e3*C651 - H024*S1, e3*Q42 - H025*H126, e3*Q45 - H025*H156, e3*C642 - H025*Q21, e3*C641 - H025*S1, e3*Q12 - H026*H245, e3*Q16 - H026*H456, e3*C431 - H026*Q35, e3*Qr6 - H026*C320, e3*Q43 - H035*H126, e3*S0 - H045*H126, e3*Q25 - H045*H156, e3*C621 - H045*S1, e3*Q56 - H046*H126, e3*Q24 - H046*H145, e3*Q26 - H046*H156, e3*Q14 - H046*H245, e3*Q16 - H046*H256, e3*C510 - H046*Q02, e3*C210 - H046*Q05, e3*C321 - H046*Q35, e3*Qr6 - H046*C430, e3*C521 - H046*S1, e3*Q46 - H056*H126, e3*Q15 - H056*H245, e3*C410 - H056*Q02, e3*C541 - H056*Q52, e3*Q01 - H124*H156, e3*Qr1 - H124*C432, e3*C650 - H124*S1, e3*C642 - H125*Q20, e3*C643 - H125*Q30, e3*Qr1 - H125*C532, e3*Q01 - H126*H145, e3*Q02 - H126*H245, e3*Q06 - H126*H456, e3*C541 - H126*Q10, e3*C510 - H126*Q14, e3*C410 - H126*Q15, e3*C542 - H126*Q20, e3*C420 - H126*Q25, e3*C543 - H126*Q30, e3*C530 - H126*Q34, e3*C430 - H126*Q35, e3*C654 - H126*Q60, e3*C650 - H126*Q64, e3*C640 - H126*Q65, e3*Qr6 - H126*C321, e3*Qr2 - H126*C631, e3*Qr1 - H126*C632, e3*C540 - H126*S0, e3*C642 - H135*Q30, e3*C632 - H145*Q30, e3*C642 - H145*Q40, e3*C652 - H145*Q50, e3*C650 - H145*Q52, e3*Qr1 - H145*C543, e3*C620 - H145*S1, e3*Q04 - H146*H245, e3*Q05 - H156*H245, e3*Q06 - H156*H246, e3*C210 - H156*Q14, e3*C432 - H156*Q30, e3*C430 - H156*Q32, e3*C320 - H156*Q34, e3*C620 - H156*Q64, e3*Qr5 - H156*C631, e3*C420 - H156*S0, e3*C641 - H235*Q30, e3*C640 - H235*Q31, e3*C410 - H235*Q36, e3*C621 - H245*Q20, e3*C620 - H245*Q21, e3*C210 - H245*Q26, e3*C631 - H245*Q30, e3*C630 - H245*Q31, e3*C310 - H245*Q36, e3*C641 - H245*Q40, e3*C640 - H245*Q41, e3*C410 - H245*Q46, e3*C651 - H245*Q50, e3*C650 - H245*Q51, e3*C510 - H245*Q56, e3*Qr5 - H245*C432, e3*Qr4 - H245*C532, e3*Qr2 - H245*C543, e3*C610 - H245*S1, e3*Qr6 - H246*C432, e3*C510 - H246*S1, e3*C431 - H256*Q30, e3*Qr6 - H256*C532, e3*C321 - H456*Q30, e3*C521 - H456*Q50, e3*C510 - H456*Q52, e3*Qr6 - H456*C543, e3*C210 - H456*S1, e3*Qr1 - Q01*Q30, e3*Qr2 - Q02*Q30, e3*Qr5 - Q05*Q30, e3*Qr6 - Q06*Q30, e3*Qr1 - Q21*Q32, e3*Qr6 - Q26*Q32, e3*Qr0 - Q30*S1, e3*Qr2 - Q32*S1, e3*Qr4 - Q34*S1, e3*Qr0 - Q35*Q50, e3*Qr1 - Q35*Q51, e3*Qr2 - Q35*Q52, e3*Qr6 - Q35*Q56, e3*Qr5 - Q35*S1, e2*Q52 - e3*Q53, e2*Q02 - e3*Q03, e2*H245 - e3*H345, e2*H126 - e3*H136, e2*H024 - e3*H034, e2*Q52 - e4*Q54, e2*Q02 - e4*Q04, e2*H235 - e4*H345, e2*H126 - e4*H146, e2*H023 - e4*H034, e2*H026 - e5*H056, e2*H012 - e5*H015, e2*H124 - e6*H146, e2*H123 - e6*H136, e2*Q40 - H013*H056, e2*Q51 - H013*H146, e2*Q63 - H013*H345, e2*C650 - H013*Q04, e2*C641 - H013*Q15, e2*C543 - H013*Q36, e2*Qr2 - H013*C310, e2*Q30 - H014*H056, e2*Q51 - H014*H136, e2*Q64 - H014*H345, e2*C650 - H014*Q03, e2*C631 - H014*Q15, e2*C543 - H014*Q46, e2*Qr2 - H014*C410, e2*Q60 - H015*H034, e2*Q40 - H015*H036, e2*Q30 - H015*H046, e2*Q61 - H015*H134, e2*Q41 - H015*H136, e2*Q31 - H015*H146, e2*Q65 - H015*H345, e2*S2 - H015*H346, e2*Q45 - H015*H356, e2*Q35 - H015*H456, e2*C640 - H015*Q03, e2*C630 - H015*Q04, e2*C430 - H015*Q06, e2*C641 - H015*Q13, e2*C631 - H015*Q14, e2*C431 - H015*Q16, e2*C642 - H015*Q23, e2*C632 - H015*Q24, e2*C432 - H015*Q26, e2*C654 - H015*Q53, e2*C653 - H015*Q54, e2*C543 - H015*Q56, e2*Qr5 - H015*C210, e2*Qr2 - H015*C510, e2*Qr1 - H015*C520, e2*Qr0 - H015*C521, e2*C643 - H015*S2, e2*Q50 - H016*H034, e2*S1 - H016*H345, e2*Q52 - H023*H146, e2*Q52 - H024*H136, e2*Q10 - H034*H056, e2*Q52 - H034*H126, e2*Q63 - H034*H135, e2*Q53 - H034*H136, e2*Q64 - H034*H145, e2*Q54 - H034*H146, e2*S1 - H034*H156, e2*Q13 - H034*H356, e2*Q14 - H034*H456, e2*C650 - H034*Q01, e2*C610 - H034*Q05, e2*C510 - H034*Q06, e2*C652 - H034*Q21, e2*C621 - H034*Q25, e2*C521 - H034*Q26, e2*C653 - H034*Q31, e2*C631 - H034*Q35, e2*C531 - H034*Q36, e2*C654 - H034*Q41, e2*C641 - H034*Q45, e2*C541 - H034*Q46, e2*Qr4 - H034*C320, e2*Qr3 - H034*C420, e2*Qr2 - H034*C430, e2*Qr0 - H034*C432, e2*C651 - H034*S1, e2*Q43 - H035*H136, e2*S0 - H035*H146, e2*Q56 - H036*H146, e2*Q13 - H036*H345, e2*C510 - H036*Q04, e2*C543 - H036*Q31, e2*C641 - H036*Q65, e2*Qr2 - H036*C630, e2*S0 - H045*H136, e2*Q34 - H045*H146, e2*Q56 - H046*H136, e2*Q14 - H046*H345, e2*C510 - H046*Q03, e2*C543 - H046*Q41, e2*C631 - H046*Q65, e2*Qr2 - H046*C640, e2*S2 - H056*H134, e2*Q45 - H056*H135, e2*Q46 - H056*H136, e2*Q35 - H056*H145, e2*Q36 - H056*H146, e2*Q15 - H056*H345, e2*Q16 - H056*H346, e2*C430 - H056*Q01, e2*C410 - H056*Q03, e2*C310 - H056*Q04, e2*C432 - H056*Q21, e2*C421 - H056*Q23, e2*C321 - H056*Q24, e2*C543 - H056*Q51, e2*C541 - H056*Q53, e2*C531 - H056*Q54, e2*C643 - H056*Q61, e2*C641 - H056*Q63, e2*C631 - H056*Q64, e2*Qr6 - H056*C520, e2*Qr5 - H056*C620, e2*Qr2 - H056*C650, e2*Qr0 - H056*C652, e2*C431 - H056*S2, e2*Q02 - H126*H345, e2*Q01 - H135*H146, e2*C641 - H135*Q10, e2*C430 - H135*Q36, e2*C650 - H135*Q54, e2*Qr2 - H135*C531, e2*Q01 - H136*H145, e2*Q02 - H136*H245, e2*Q03 - H136*H345, e2*Q06 - H136*H456, e2*C541 - H136*Q10, e2*C510 - H136*Q14, e2*C410 - H136*Q15, e2*C542 - H136*Q20, e2*C520 - H136*Q24, e2*C420 - H136*Q25, e2*C543 - H136*Q30, e2*C530 - H136*Q34, e2*C430 - H136*Q35, e2*C654 - H136*Q60, e2*C650 - H136*Q64, e2*C640 - H136*Q65, e2*Qr6 - H136*C321, e2*Qr3 - H136*C621, e2*Qr2 - H136*C631, e2*Qr1 - H136*C632, e2*C540 - H136*S0, e2*C631 - H145*Q10, e2*C430 - H145*Q46, e2*C650 - H145*Q53, e2*Qr2 - H145*C541, e2*Q02 - H146*H235, e2*Q04 - H146*H345, e2*Q06 - H146*H356, e2*C531 - H146*Q10, e2*C510 - H146*Q13, e2*C310 - H146*Q15, e2*C532 - H146*Q20, e2*C520 - H146*Q23, e2*C320 - H146*Q25, e2*C543 - H146*Q40, e2*C540 - H146*Q43, e2*C430 - H146*Q45, e2*C653 - H146*Q60, e2*C650 - H146*Q63, e2*C630 - H146*Q65, e2*Qr6 - H146*C421, e2*Qr4 - H146*C621, e2*Qr2 - H146*C641, e2*Qr1 - H146*C642, e2*C530 - H146*S0, e2*Q05 - H156*H345, e2*C621 - H345*Q20, e2*C620 - H345*Q21, e2*C210 - H345*Q26, e2*C631 - H345*Q30, e2*C630 - H345*Q31, e2*C310 - H345*Q36, e2*C641 - H345*Q40, e2*C640 - H345*Q41, e2*C410 - H345*Q46, e2*C651 - H345*Q50, e2*C650 - H345*Q51, e2*C510 - H345*Q56, e2*Qr5 - H345*C432, e2*Qr4 - H345*C532, e2*Qr3 - H345*C542, e2*Qr2 - H345*C543, e2*C610 - H345*S1, e2*C430 - H356*Q31, e2*C510 - H356*Q54, e2*C641 - H356*Q60, e2*Qr2 - H356*C653, e2*C430 - H456*Q41, e2*C510 - H456*Q53, e2*C631 - H456*Q60, e2*Qr2 - H456*C654, e2*Qr2 - Q01*Q10, e2*Qr3 - Q03*Q20, e2*Qr2 - Q03*Q30, e2*Qr4 - Q04*Q20, e2*Qr2 - Q04*Q40, e2*Qr2 - Q06*Q60, e2*Qr0 - Q10*Q21, e2*Qr2 - Q13*Q31, e2*Qr2 - Q14*Q41, e2*Qr5 - Q15*Q21, e2*Qr2 - Q15*Q51, e2*Qr1 - Q23*Q31, e2*Qr6 - Q23*Q36, e2*Qr1 - Q24*Q41, e2*Qr6 - Q24*Q46, e2*Qr3 - Q25*Q53, e2*Qr4 - Q25*Q54, e2*Qr0 - Q26*Q60, e2*Qr5 - Q26*Q65, e2*Qr2 - Q35*Q53, e2*Qr2 - Q36*Q63, e2*Qr2 - Q45*Q54, e2*Qr2 - Q46*Q64, e2*Qr2 - Q56*Q65, e1*Q41 - e2*Q42, e1*Q31 - e2*Q32, e1*H146 - e2*H246, e1*H136 - e2*H236, e1*H015 - e2*H025, e1*S1 - e3*Q13, e1*C432 - e3*C421, e1*H156 - e3*H356, e1*H126 - e3*H236, e1*H016 - e3*H036, e1*S1 - e4*Q14, e1*C432 - e4*C321, e1*H156 - e4*H456, e1*H126 - e4*H246, e1*H016 - e4*H046, e1*C652 - e5*C621, e1*Q51 - e5*S0, e1*H014 - e5*H045, e1*H013 - e5*H035, e1*H012 - e5*H025, e1*Q60 - e6*Q10, e1*Q62 - e6*Q12, e1*Q63 - e6*Q13, e1*Q64 - e6*Q14, e1*Q65 - e6*Q15, e1*S2 - e6*Q16, e1*C630 - e6*C310, e1*C632 - e6*C321, e1*C640 - e6*C410, e1*C642 - e6*C421, e1*C643 - e6*C431, e1*C650 - e6*C510, e1*C652 - e6*C521, e1*C653 - e6*C531, e1*C654 - e6*C541, e1*Qr1 - e6*Qr6, e1*Q61 - e6*S2, e1*Q51 - e6*Q56, e1*Q41 - e6*Q46, e1*Q31 - e6*Q36, e1*H134 - e6*H346, e1*H124 - e6*H246, e1*H123 - e6*H236, e1*H015 - e6*H056, e1*H014 - e6*H046, e1*H013 - e6*H036, e1*H012 - e6*H026, e1*Q51 - H013*H246, e1*C652 - H013*Q14, e1*Q51 - H014*H236, e1*C652 - H014*Q13, e1*Q41 - H015*H236, e1*Q31 - H015*H246, e1*Q50 - H023*H046, e1*Q52 - H023*H246, e1*S1 - H023*H456, e1*C651 - H023*Q14, e1*C652 - H023*Q24, e1*Qr0 - H023*C321, e1*Q50 - H024*H036, e1*Q52 - H024*H236, e1*S1 - H024*H356, e1*C651 - H024*Q13, e1*C652 - H024*Q23, e1*Qr0 - H024*C421, e1*Q60 - H025*H034, e1*Q40 - H025*H036, e1*Q30 - H025*H046, e1*Q61 - H025*H134, e1*Q41 - H025*H136, e1*Q31 - H025*H146, e1*Q62 - H025*H234, e1*Q42 - H025*H236, e1*Q32 - H025*H246, e1*Q65 - H025*H345, e1*S2 - H025*H346, e1*Q45 - H025*H356, e1*Q35 - H025*H456, e1*C640 - H025*Q03, e1*C630 - H025*Q04, e1*C430 - H025*Q06, e1*C641 - H025*Q13, e1*C631 - H025*Q14, e1*C431 - H025*Q16, e1*C642 - H025*Q23, e1*C632 - H025*Q24, e1*C432 - H025*Q26, e1*C654 - H025*Q53, e1*C653 - H025*Q54, e1*C543 - H025*Q56, e1*Qr5 - H025*C210, e1*Qr2 - H025*C510, e1*Qr1 - H025*C520, e1*Qr0 - H025*C521, e1*C643 - H025*S2, e1*Q40 - H026*H035, e1*Q30 - H026*H045, e1*C432 - H026*Q25, e1*Qr0 - H026*C621, e1*C543 - H026*S0, e1*Q53 - H034*H236, e1*Q54 - H034*H246, e1*C653 - H034*Q32, e1*C654 - H034*Q42, e1*Q20 - H035*H046, e1*Q63 - H035*H234, e1*Q43 - H035*H236, e1*S0 - H035*H246, e1*Q45 - H035*H256, e1*Q23 - H035*H346, e1*Q25 - H035*H456, e1*C420 - H035*Q06, e1*C641 - H035*Q12, e1*C621 - H035*Q14, e1*C421 - H035*Q16, e1*C542 - H035*Q56, e1*Qr3 - H035*C510, e1*C642 - H035*S2, e1*Q20 - H036*H045, e1*Q51 - H036*H124, e1*S1 - H036*H245, e1*Q56 - H036*H246, e1*Q26 - H036*H456, e1*C521 - H036*Q14, e1*C543 - H036*Q32, e1*C532 - H036*Q34, e1*C432 - H036*Q35, e1*C652 - H036*Q64, e1*Qr0 - H036*C631, e1*C542 - H036*S0, e1*Q64 - H045*H234, e1*S0 - H045*H236, e1*Q34 - H045*H246, e1*Q35 - H045*H256, e1*Q24 - H045*H346, e1*Q25 - H045*H356, e1*C320 - H045*Q06, e1*C631 - H045*Q12, e1*C621 - H045*Q13, e1*C321 - H045*Q16, e1*C532 - H045*Q56, e1*Qr4 - H045*C510, e1*C632 - H045*S2, e1*Q51 - H046*H123, e1*S1 - H046*H235, e1*Q56 - H046*H236, e1*Q26 - H046*H356, e1*C521 - H046*Q13, e1*C543 - H046*Q42, e1*C542 - H046*Q43, e1*C432 - H046*Q45, e1*C652 - H046*Q63, e1*Qr0 - H046*C641, e1*C532 - H046*S0, e1*Q41 - H056*H123, e1*Q31 - H056*H124, e1*Q46 - H056*H236, e1*Q36 - H056*H246, e1*C654 - H123*Q10, e1*C650 - H123*Q14, e1*C640 - H123*Q15, e1*Qr1 - H123*C321, e1*C653 - H124*Q10, e1*C650 - H124*Q13, e1*C630 - H124*Q15, e1*Qr1 - H124*C421, e1*C652 - H234*Q20, e1*C650 - H234*S0, e1*Q02 - H235*H246, e1*Q05 - H235*H456, e1*C610 - H235*Q14, e1*Qr5 - H235*C321, e1*Q02 - H236*H245, e1*Q03 - H236*H345, e1*Q06 - H236*H456, e1*C541 - H236*Q10, e1*C510 - H236*Q14, e1*C410 - H236*Q15, e1*C542 - H236*Q20, e1*C520 - H236*Q24, e1*C420 - H236*Q25, e1*C543 - H236*Q30, e1*C530 - H236*Q34, e1*C430 - H236*Q35, e1*C654 - H236*Q60, e1*C650 - H236*Q64, e1*C640 - H236*Q65, e1*Qr6 - H236*C321, e1*Qr3 - H236*C621, e1*Qr2 - H236*C631, e1*Qr1 - H236*C632, e1*C540 - H236*S0, e1*Q05 - H245*H356, e1*C610 - H245*Q13, e1*Qr5 - H245*C421, e1*Q04 - H246*H345, e1*Q06 - H246*H356, e1*C531 - H246*Q10, e1*C510 - H246*Q13, e1*C310 - H246*Q15, e1*C532 - H246*Q20, e1*C520 - H246*Q23, e1*C320 - H246*Q25, e1*C543 - H246*Q40, e1*C540 - H246*Q43, e1*C430 - H246*Q45, e1*C653 - H246*Q60, e1*C650 - H246*Q63, e1*C630 - H246*Q65, e1*Qr6 - H246*C421, e1*Qr4 - H246*C621, e1*Qr2 - H246*C641, e1*Qr1 - H246*C642, e1*C530 - H246*S0, e1*C432 - H256*Q20, e1*Qr5 - H256*C621, e1*C430 - H256*S0, e1*C630 - H345*Q32, e1*C640 - H345*Q42, e1*C520 - H346*S0, e1*C210 - H356*Q14, e1*C432 - H356*Q30, e1*C430 - H356*Q32, e1*C320 - H356*Q34, e1*Qr5 - H356*C631, e1*C420 - H356*S0, e1*C210 - H456*Q13, e1*C432 - H456*Q40, e1*C430 - H456*Q42, e1*C420 - H456*Q43, e1*Qr5 - H456*C641, e1*C320 - H456*S0, e1*Qr0 - Q12*Q20, e1*Qr5 - Q12*Q25, e1*Qr2 - Q12*S0, e1*Qr0 - Q13*Q30, e1*Qr2 - Q13*Q32, e1*Qr4 - Q13*Q34, e1*Qr5 - Q13*Q35, e1*Qr3 - Q13*S0, e1*Qr0 - Q14*Q40, e1*Qr2 - Q14*Q42, e1*Qr3 - Q14*Q43, e1*Qr5 - Q14*Q45, e1*Qr4 - Q14*S0, e1*Qr6 - Q16*S0, e1*Qr1 - Q23*Q32, e1*Qr1 - Q24*Q42, e1*Qr1 - S0*S2, e0*S0 - e1*Q01, e0*C621 - e1*C620, e0*Q20 - e1*Q21, e0*H045 - e1*H145, e0*H035 - e1*H135, e0*H025 - e1*H125, e0*Q60 - e2*Q62, e0*Q10 - e2*Q12, e0*H056 - e2*H256, e0*H034 - e2*H234, e0*H015 - e2*H125, e0*C532 - e3*C520, e0*Q30 - e3*S2, e0*Q20 - e3*Q23, e0*H046 - e3*H346, e0*H024 - e3*H234, e0*H014 - e3*H134, e0*C542 - e4*C520, e0*Q40 - e4*S2, e0*Q20 - e4*Q24, e0*H036 - e4*H346, e0*H023 - e4*H234, e0*H013 - e4*H134, e0*Q51 - e5*Q01, e0*Q52 - e5*Q02, e0*Q53 - e5*Q03, e0*Q54 - e5*Q04, e0*S1 - e5*Q05, e0*Q56 - e5*Q06, e0*C521 - e5*C210, e0*C531 - e5*C310, e0*C532 - e5*C320, e0*C541 - e5*C410, e0*C542 - e5*C420, e0*C543 - e5*C430, e0*C651 - e5*C610, e0*C652 - e5*C620, e0*C653 - e5*C630, e0*C654 - e5*C640, e0*Qr0 - e5*Qr5, e0*Q60 - e5*Q65, e0*Q50 - e5*S1, e0*Q40 - e5*Q45, e0*Q30 - e5*Q35, e0*Q20 - e5*Q25, e0*Q10 - e5*Q15, e0*H046 - e5*H456, e0*H036 - e5*H356, e0*H034 - e5*H345, e0*H026 - e5*H256, e0*H024 - e5*H245, e0*H023 - e5*H235, e0*H016 - e5*H156, e0*H014 - e5*H145, e0*H013 - e5*H135, e0*H012 - e5*H125, e0*S0 - e6*Q06, e0*C621 - e6*C210, e0*Q20 - e6*Q26, e0*H045 - e6*H456, e0*H035 - e6*H356, e0*H025 - e6*H256, e0*Q60 - H012*H345, e0*Q40 - H012*H356, e0*Q30 - H012*H456, e0*C654 - H012*Q03, e0*C653 - H012*Q04, e0*C543 - H012*Q06, e0*Qr0 - H012*C210, e0*Q40 - H013*H256, e0*Q20 - H013*H456, e0*C542 - H013*Q06, e0*Q30 - H014*H256, e0*Q20 - H014*H356, e0*C532 - H014*Q06, e0*Q60 - H015*H234, e0*Q50 - H016*H234, e0*Q40 - H026*H135, e0*Q30 - H026*H145, e0*Q10 - H026*H345, e0*C543 - H026*Q01, e0*C541 - H026*Q03, e0*C531 - H026*Q04, e0*Qr0 - H026*C620, e0*Q60 - H034*H125, e0*Q10 - H034*H256, e0*Q40 - H036*H125, e0*Q20 - H036*H145, e0*C542 - H036*Q01, e0*Q30 - H046*H125, e0*Q20 - H046*H135, e0*C532 - H046*Q01, e0*Q10 - H056*H234, e0*Q42 - H123*H256, e0*Q43 - H123*H356, e0*S0 - H123*H456, e0*C540 - H123*Q06, e0*C542 - H123*Q26, e0*Qr3 - H123*C210, e0*Q32 - H124*H256, e0*S0 - H124*H356, e0*Q34 - H124*H456, e0*C530 - H124*Q06, e0*C532 - H124*Q26, e0*Qr4 - H124*C210, e0*Q61 - H125*H134, e0*Q41 - H125*H136, e0*Q31 - H125*H146, e0*Q62 - H125*H234, e0*Q42 - H125*H236, e0*Q32 - H125*H246, e0*Q65 - H125*H345, e0*S2 - H125*H346, e0*Q45 - H125*H356, e0*Q35 - H125*H456, e0*C640 - H125*Q03, e0*C630 - H125*Q04, e0*C430 - H125*Q06, e0*C641 - H125*Q13, e0*C631 - H125*Q14, e0*C431 - H125*Q16, e0*C642 - H125*Q23, e0*C632 - H125*Q24, e0*C432 - H125*Q26, e0*C654 - H125*Q53, e0*C653 - H125*Q54, e0*C543 - H125*Q56, e0*Qr5 - H125*C210, e0*Qr2 - H125*C510, e0*Qr1 - H125*C520, e0*Qr0 - H125*C521, e0*C643 - H125*S2, e0*Q51 - H126*H134, e0*Q52 - H126*H234, e0*Q56 - H126*H346, e0*C542 - H126*Q23, e0*C532 - H126*Q24, e0*C543 - H126*S2, e0*Q21 - H134*H156, e0*Q63 - H134*H235, e0*Q64 - H134*H245, e0*S2 - H134*H256, e0*Q23 - H134*H356, e0*Q24 - H134*H456, e0*C650 - H134*Q02, e0*C620 - H134*Q05, e0*C520 - H134*Q06, e0*C632 - H134*Q35, e0*C642 - H134*Q45, e0*Qr1 - H134*C430, e0*C652 - H134*S1, e0*Q63 - H135*H234, e0*Q43 - H135*H236, e0*S0 - H135*H246, e0*Q45 - H135*H256, e0*Q23 - H135*H346, e0*Q25 - H135*H456, e0*C420 - H135*Q06, e0*C641 - H135*Q12, e0*C621 - H135*Q14, e0*C421 - H135*Q16, e0*C542 - H135*Q56, e0*Qr3 - H135*C510, e0*C642 - H135*S2, e0*Q53 - H136*H234, e0*Q46 - H136*H256, e0*C541 - H136*Q12, e0*C654 - H136*Q62, e0*Q64 - H145*H234, e0*S0 - H145*H236, e0*Q34 - H145*H246, e0*Q35 - H145*H256, e0*Q24 - H145*H346, e0*Q25 - H145*H356, e0*C320 - H145*Q06, e0*C631 - H145*Q12, e0*C621 - H145*Q13, e0*C321 - H145*Q16, e0*C532 - H145*Q56, e0*Qr4 - H145*C510, e0*C632 - H145*S2, e0*Q54 - H146*H234, e0*Q36 - H146*H256, e0*C531 - H146*Q12, e0*C653 - H146*Q62, e0*S1 - H156*H234, e0*Q26 - H156*H346, e0*C432 - H156*S2, e0*Q12 - H234*H256, e0*Q13 - H234*H356, e0*Q14 - H234*H456, e0*C650 - H234*Q01, e0*C610 - H234*Q05, e0*C510 - H234*Q06, e0*C652 - H234*Q21, e0*C621 - H234*Q25, e0*C521 - H234*Q26, e0*C653 - H234*Q31, e0*C631 - H234*Q35, e0*C531 - H234*Q36, e0*C654 - H234*Q41, e0*C641 - H234*Q45, e0*C541 - H234*Q46, e0*Qr4 - H234*C320, e0*Qr3 - H234*C420, e0*Qr2 - H234*C430, e0*Qr0 - H234*C432, e0*C651 - H234*S1, e0*Q13 - H235*H346, e0*C621 - H235*Q24, e0*Qr3 - H235*C520, e0*C641 - H235*S2, e0*C540 - H236*Q01, e0*C542 - H236*Q21, e0*Qr3 - H236*C620, e0*Q14 - H245*H346, e0*C621 - H245*Q23, e0*Qr4 - H245*C520, e0*C631 - H245*S2, e0*C530 - H246*Q01, e0*C532 - H246*Q21, e0*Qr4 - H246*C620, e0*Q15 - H256*H345, e0*Q16 - H256*H346, e0*C430 - H256*Q01, e0*C410 - H256*Q03, e0*C310 - H256*Q04, e0*C432 - H256*Q21, e0*C421 - H256*Q23, e0*C321 - H256*Q24, e0*C543 - H256*Q51, e0*C541 - H256*Q53, e0*C531 - H256*Q54, e0*C643 - H256*Q61, e0*C641 - H256*Q63, e0*C631 - H256*Q64, e0*Qr6 - H256*C520, e0*Qr5 - H256*C620, e0*Qr2 - H256*C650, e0*Qr0 - H256*C652, e0*C431 - H256*S2, e0*C520 - H346*Q01, e0*C510 - H346*Q02, e0*C210 - H346*Q05, e0*C321 - H346*Q35, e0*C421 - H346*Q45, e0*Qr6 - H346*C430, e0*C521 - H346*S1, e0*C420 - H356*Q01, e0*C542 - H356*Q51, e0*C642 - H356*Q61, e0*C641 - H356*Q62, e0*C621 - H356*Q64, e0*Qr3 - H356*C650, e0*C421 - H356*S2, e0*C320 - H456*Q01, e0*C532 - H456*Q51, e0*C632 - H456*Q61, e0*C631 - H456*Q62, e0*C621 - H456*Q63, e0*Qr4 - H456*C650, e0*C321 - H456*S2, e0*Qr2 - Q01*Q12, e0*Qr3 - Q01*Q13, e0*Qr4 - Q01*Q14, e0*Qr6 - Q01*Q16, e0*Qr1 - Q01*S2, e0*Qr3 - Q02*Q23, e0*Qr4 - Q02*Q24, e0*Qr2 - Q02*S2, e0*Qr5 - Q05*S2, e0*Qr1 - Q06*Q61, e0*Qr2 - Q06*Q62, e0*Qr3 - Q06*Q63, e0*Qr4 - Q06*Q64, e0*Qr6 - Q06*S2, e0*Qr0 - Q12*Q21, e0*Qr0 - Q26*Q62, e0*Qr0 - S1*S2)"
      ]
     },
     "execution_count": 19,
     "metadata": {},
     "output_type": "execute_result"
    }
   ],
   "source": [
    "S, (e0,e1,e2,e3,e4,e5,e6,H012,H013,H014,H015,H016,H023,H024,H025,H026,H034,H035,H036,H045,H046,H056,H123,H124,H125,H126,H134,H135,H136,H145,H146,H156,H234,H235,H236,H245,H246,H256,H345, H346,H356,H456,Q01,Q02,Q03,Q04,Q05,Q06,Q10,Q12,Q13,Q14,Q15,Q16,Q20,Q21,Q23,Q24,Q25,Q26,Q30,Q31,Q32,Q34,Q35,Q36,Q40,Q41,Q42,Q43,Q45,Q46,Q50,Q51,Q52,Q53,Q54,Q56,Q60,Q61,Q62,Q63,Q64,Q65,C210,C310,C320,C321,C410,C420, C421,C430,C431,C432,C510,C520,C521,C530,C531,C532,C540,C541,C542,C543,C610,C620,C621,C630,C631,C632,C640,C641,C642,C643,C650,C651,C652,C653,C654,Qr0,Qr1,Qr2,Qr3,Qr4,Qr5,Qr6,S0,S1,S2)= PolynomialRing(QQ, [\"e0\",\"e1\",\"e2\",\"e3\",\"e4\",\"e5\",\"e6\",\"H012\",\"H013\",\"H014\",\"H015\",\"H016\",\"H023\",\"H024\",\"H025\",\"H026\",\"H034\",\"H035\",\"H036\",\"H045\",\"H046\",\"H056\",\"H123\",\"H124\",\"H125\",\"H126\",\"H134\",\"H135\",\"H136\",\"H145\",\"H146\",\"H156\",\"H234\",\"H235\",\"H236\",\"H245\",\"H246\",\"H256\",\"H345\",\"H346\",\"H356\",\"H456\",\"Q01\",\"Q02\",\"Q03\",\"Q04\",\"Q05\",\"Q06\",\"Q10\",\"Q12\",\"Q13\",\"Q14\",\"Q15\",\"Q16\",\"Q20\",\"Q21\",\"Q23\",\"Q24\",\"Q25\",\"Q26\",\"Q30\",\"Q31\",\"Q32\",\"Q34\",\"Q35\",\"Q36\",\"Q40\",\"Q41\",\"Q42\",\"Q43\",\"Q45\",\"Q46\",\"Q50\",\"Q51\",\"Q52\",\"Q53\",\"Q54\",\"Q56\",\"Q60\",\"Q61\",\"Q62\",\"Q63\",\"Q64\",\"Q65\",\"C210\",\"C310\",\"C320\",\"C321\",\"C410\",\"C420\",\"C421\",\"C430\",\"C431\",\"C432\",\"C510\",\"C520\",\"C521\",\"C530\",\"C531\",\"C532\",\"C540\",\"C541\",\"C542\",\"C543\",\"C610\",\"C620\",\"C621\",\"C630\",\"C631\",\"C632\",\"C640\",\"C641\",\"C642\",\"C643\",\"C650\",\"C651\",\"C652\",\"C653\",\"C654\",\"Qr0\",\"Qr1\",\"Qr2\",\"Qr3\",\"Qr4\",\"Qr5\",\"Qr6\",\"S0\",\"S1\",\"S2\"]);\n",
    "toric_ideal_of_initial_forms=binomial_exponents_to_ideal(S,markov_basis)"
   ]
  },
  {
   "cell_type": "markdown",
   "metadata": {},
   "source": [
    "This last function verifies that all the relations are quadratic"
   ]
  },
  {
   "cell_type": "code",
   "execution_count": 7,
   "metadata": {},
   "outputs": [],
   "source": [
    "for el in gens(toric_ideal_of_initial_forms)\n",
    "    if total_degree_fmpz(el)!=2\n",
    "            println(\"generator \", el, \" has degree \", total_degree_fmpz(el))\n",
    "    end\n",
    "end"
   ]
  },
  {
   "cell_type": "markdown",
   "metadata": {},
   "source": [
    "## Ehrhart-type formulas (Section 5.2)"
   ]
  },
  {
   "cell_type": "markdown",
   "metadata": {},
   "source": [
    "We first introduce the unimodular transformation and apply it to the vectors $(a_1, \\dots, a_7, b_1,b_3, b_5,b_7) \\in \\mathbb{Z}^{11}$ from the rows of $M$. "
   ]
  },
  {
   "cell_type": "code",
   "execution_count": 14,
   "metadata": {},
   "outputs": [],
   "source": [
    "Unimod_transf = matrix(ZZ,[0 0 0 0 0 0 0 1 1 1 1; 1 0 0 0 0 0 0 1 0 0 0; 0 1 0 0 0 0 0 0 0 0 0; 0 0 1 0 0 0 0 0 1 0 0; 0 0 0 1 0 0 0 0 0 0 0; 0 0 0 0 1 0 0 0 0 1 0; 0 0 0 0 0 1 0 0 0 0 0; 0 0 0 0 0 0 1 0 0 0 1; 0 0 0 0 0 0 0 0 1 0 0; 0 0 0 0 0 0 0 0 0 1 0; 0 0 0 0 0 0 0 0 0 0 1]);\n",
    "M = M[:,[1,2,3,4,5,6,7,8,10,12,14]];"
   ]
  },
  {
   "cell_type": "code",
   "execution_count": 15,
   "metadata": {},
   "outputs": [
    {
     "data": {
      "text/plain": [
       "[0   1   0   0   0   0   0   0   0   0   0]\n",
       "[0   0   1   0   0   0   0   0   0   0   0]\n",
       "[0   0   0   1   0   0   0   0   0   0   0]\n",
       "[0   0   0   0   1   0   0   0   0   0   0]\n",
       "[0   0   0   0   0   1   0   0   0   0   0]\n",
       "[0   0   0   0   0   0   1   0   0   0   0]\n",
       "[0   0   0   0   0   0   0   1   0   0   0]\n",
       "[1   0   0   0   1   1   1   1   0   1   0]\n",
       "[1   0   0   1   0   1   1   1   1   0   0]\n",
       "[1   0   0   1   1   0   1   1   1   0   0]\n",
       "[1   0   0   1   1   1   0   1   0   1   0]\n",
       "[1   0   0   1   1   1   1   0   1   0   0]\n",
       "[1   0   1   0   0   1   1   1   0   0   1]\n",
       "[1   0   1   0   1   0   1   1   0   0   1]\n",
       "[1   0   1   0   1   1   0   1   0   1   0]\n",
       "[1   0   1   0   1   1   1   0   0   1   0]\n",
       "[1   0   1   1   0   0   1   1   0   0   1]\n",
       "[1   0   1   1   0   1   0   1   1   0   0]\n",
       "[1   0   1   1   0   1   1   0   1   0   0]\n",
       "[1   0   1   1   1   0   0   1   1   0   0]\n",
       "[1   0   1   1   1   0   1   0   1   0   0]\n",
       "[1   0   1   1   1   1   0   0   0   1   0]\n",
       "[1   1   0   0   0   1   1   1   0   0   0]\n",
       "[1   1   0   0   1   0   1   1   0   0   0]\n",
       "[1   1   0   0   1   1   0   1   0   1   0]\n",
       "[1   1   0   0   1   1   1   0   0   0   0]\n",
       "[1   1   0   1   0   0   1   1   1   0   0]\n",
       "[1   1   0   1   0   1   0   1   1   0   0]\n",
       "[1   1   0   1   0   1   1   0   0   0   0]\n",
       "[1   1   0   1   1   0   0   1   1   0   0]\n",
       "[1   1   0   1   1   0   1   0   0   0   0]\n",
       "[1   1   0   1   1   1   0   0   1   0   0]\n",
       "[1   1   1   0   0   0   1   1   0   0   1]\n",
       "[1   1   1   0   0   1   0   1   0   0   1]\n",
       "[1   1   1   0   0   1   1   0   0   0   0]\n",
       "[1   1   1   0   1   0   0   1   0   0   1]\n",
       "[1   1   1   0   1   0   1   0   0   0   0]\n",
       "[1   1   1   0   1   1   0   0   0   1   0]\n",
       "[1   1   1   1   0   0   0   1   0   0   1]\n",
       "[1   1   1   1   0   0   1   0   1   0   0]\n",
       "[1   1   1   1   0   1   0   0   1   0   0]\n",
       "[1   1   1   1   1   0   0   0   1   0   0]\n",
       "[2   2   0   1   1   1   1   1   1   0   0]\n",
       "[2   2   1   0   1   1   1   1   0   0   1]\n",
       "[2   2   1   1   0   1   1   1   0   0   1]\n",
       "[2   2   1   1   1   0   1   1   0   0   1]\n",
       "[2   2   1   1   1   1   0   1   1   0   1]\n",
       "[2   2   1   1   1   1   1   0   1   0   0]\n",
       "[2   0   2   1   1   1   1   1   0   1   1]\n",
       "[2   1   2   0   1   1   1   1   0   1   1]\n",
       "[2   1   2   1   0   1   1   1   1   0   1]\n",
       "[2   1   2   1   1   0   1   1   1   0   1]\n",
       "[2   1   2   1   1   1   0   1   0   1   1]\n",
       "[2   1   2   1   1   1   1   0   1   1   0]\n",
       "[2   0   1   2   1   1   1   1   2   0   0]\n",
       "[2   1   0   2   1   1   1   1   2   0   0]\n",
       "[2   1   1   2   0   1   1   1   2   0   0]\n",
       "[2   1   1   2   1   0   1   1   2   0   0]\n",
       "[2   1   1   2   1   1   0   1   2   0   0]\n",
       "[2   1   1   2   1   1   1   0   2   0   0]\n",
       "[2   0   1   1   2   1   1   1   1   1   0]\n",
       "[2   1   0   1   2   1   1   1   0   1   0]\n",
       "[2   1   1   0   2   1   1   1   0   1   0]\n",
       "[2   1   1   1   2   0   1   1   1   0   0]\n",
       "[2   1   1   1   2   1   0   1   1   1   0]\n",
       "[2   1   1   1   2   1   1   0   0   1   0]\n",
       "[2   0   1   1   1   2   1   1   1   1   0]\n",
       "[2   1   0   1   1   2   1   1   0   1   0]\n",
       "[2   1   1   0   1   2   1   1   0   1   0]\n",
       "[2   1   1   1   0   2   1   1   1   0   0]\n",
       "[2   1   1   1   1   2   0   1   1   1   0]\n",
       "[2   1   1   1   1   2   1   0   0   1   0]\n",
       "[2   0   1   1   1   1   2   1   1   0   1]\n",
       "[2   1   0   1   1   1   2   1   1   0   0]\n",
       "[2   1   1   0   1   1   2   1   0   0   1]\n",
       "[2   1   1   1   0   1   2   1   0   0   1]\n",
       "[2   1   1   1   1   0   2   1   0   0   1]\n",
       "[2   1   1   1   1   1   2   0   1   0   0]\n",
       "[2   0   1   1   1   1   1   2   0   1   1]\n",
       "[2   1   0   1   1   1   1   2   1   1   0]\n",
       "[2   1   1   0   1   1   1   2   0   1   1]\n",
       "[2   1   1   1   0   1   1   2   1   0   1]\n",
       "[2   1   1   1   1   0   1   2   1   0   1]\n",
       "[2   1   1   1   1   1   0   2   0   1   1]\n",
       "[3   2   2   2   1   1   1   1   2   0   1]\n",
       "[3   2   2   1   2   1   1   1   0   1   1]\n",
       "[3   2   1   2   2   1   1   1   2   0   0]\n",
       "[3   1   2   2   2   1   1   1   2   1   0]\n",
       "[3   2   2   1   1   2   1   1   0   1   1]\n",
       "[3   2   1   2   1   2   1   1   2   0   0]\n",
       "[3   1   2   2   1   2   1   1   2   1   0]\n",
       "[3   2   1   1   2   2   1   1   1   1   0]\n",
       "[3   1   2   1   2   2   1   1   1   2   0]\n",
       "[3   1   1   2   2   2   1   1   2   1   0]\n",
       "[3   2   2   1   1   1   2   1   1   0   1]\n",
       "[3   2   1   2   1   1   2   1   2   0   0]\n",
       "[3   1   2   2   1   1   2   1   2   0   1]\n",
       "[3   2   1   1   2   1   2   1   1   0   0]\n",
       "[3   1   2   1   2   1   2   1   0   1   1]\n",
       "[3   1   1   2   2   1   2   1   2   0   0]\n",
       "[3   2   1   1   1   2   2   1   1   0   0]\n",
       "[3   1   2   1   1   2   2   1   0   1   1]\n",
       "[3   1   1   2   1   2   2   1   2   0   0]\n",
       "[3   1   1   1   2   2   2   1   1   1   0]\n",
       "[3   2   2   1   1   1   1   2   1   0   2]\n",
       "[3   2   1   2   1   1   1   2   2   0   1]\n",
       "[3   1   2   2   1   1   1   2   2   0   1]\n",
       "[3   2   1   1   2   1   1   2   0   1   1]\n",
       "[3   1   2   1   2   1   1   2   1   1   1]\n",
       "[3   1   1   2   2   1   1   2   2   1   0]\n",
       "[3   2   1   1   1   2   1   2   0   1   1]\n",
       "[3   1   2   1   1   2   1   2   1   1   1]\n",
       "[3   1   1   2   1   2   1   2   2   1   0]\n",
       "[3   1   1   1   2   2   1   2   1   2   0]\n",
       "[3   2   1   1   1   1   2   2   1   0   1]\n",
       "[3   1   2   1   1   1   2   2   1   0   2]\n",
       "[3   1   1   2   1   1   2   2   2   0   1]\n",
       "[3   1   1   1   2   1   2   2   0   1   1]\n",
       "[3   1   1   1   1   2   2   2   0   1   1]\n",
       "[4   1   2   2   2   2   2   2   2   1   1]\n",
       "[4   2   1   2   2   2   2   2   2   1   0]\n",
       "[4   2   2   1   2   2   2   2   1   1   1]\n",
       "[4   2   2   2   1   2   2   2   2   0   1]\n",
       "[4   2   2   2   2   1   2   2   2   0   1]\n",
       "[4   2   2   2   2   2   1   2   2   1   1]\n",
       "[4   2   2   2   2   2   2   1   2   1   0]\n",
       "[2   1   1   1   1   1   1   1   1   0   0]\n",
       "[2   1   1   1   1   1   1   1   1   0   1]\n",
       "[2   1   1   1   1   1   1   1   1   1   0]"
      ]
     },
     "execution_count": 15,
     "metadata": {},
     "output_type": "execute_result"
    }
   ],
   "source": [
    "M_trans=transpose(Unimod_transf*transpose(M))"
   ]
  },
  {
   "cell_type": "markdown",
   "metadata": {},
   "source": [
    "We then look at the graph $\\Gamma$ defined by the new vectors"
   ]
  },
  {
   "cell_type": "code",
   "execution_count": 16,
   "metadata": {},
   "outputs": [
    {
     "data": {
      "text/plain": [
       "A polyhedral cone in ambient dimension 11"
      ]
     },
     "execution_count": 16,
     "metadata": {},
     "output_type": "execute_result"
    }
   ],
   "source": [
    "C = positive_hull(M_trans)"
   ]
  },
  {
   "cell_type": "code",
   "execution_count": 17,
   "metadata": {},
   "outputs": [
    {
     "data": {
      "text/plain": [
       "10-element Vector{fmpz}:\n",
       " 126\n",
       " 2016\n",
       " 10839\n",
       " 27198\n",
       " 37635\n",
       " 30891\n",
       " 15286\n",
       " 4416\n",
       " 683\n",
       " 48"
      ]
     },
     "execution_count": 17,
     "metadata": {},
     "output_type": "execute_result"
    }
   ],
   "source": [
    "f_vector(C)"
   ]
  },
  {
   "cell_type": "code",
   "execution_count": 18,
   "metadata": {},
   "outputs": [
    {
     "data": {
      "text/plain": [
       "48-element SubObjectIterator{LinearHalfspace{fmpq}} over the Halfspaces of R^11 described by:\n",
       "4*x₁ - x₂ - 2*x₃ - x₄ - x₅ - x₆ - x₇ - 2*x₈ + x₁₁ ≦ 0\n",
       "4*x₁ - x₂ - x₃ - x₄ - 2*x₅ - 2*x₆ - x₇ - x₈ + x₀₁ ≦ 0\n",
       "4*x₁ - x₂ - 2*x₃ - 2*x₅ - 2*x₆ - x₇ - 2*x₈ + 2*x₀₁ + x₁₁ ≦ 0\n",
       "-x₄ + x₉ ≦ 0\n",
       "5*x₁ - 2*x₂ - x₃ - x₄ - x₅ - x₆ - 2*x₇ - x₈ - x₉ - x₀₁ - x₁₁ ≦ 0\n",
       "6*x₁ - 2*x₂ - 2*x₃ - 2*x₅ - 2*x₆ - 2*x₇ - 2*x₈ - x₉ ≦ 0\n",
       "2*x₁ - x₄ - x₅ - x₆ - x₇ - x₁₁ ≦ 0\n",
       "2*x₁ - x₂ - x₄ - x₇ - x₈ - x₀₁ ≦ 0\n",
       "x₁ - x₃ - x₄ - x₆ - x₈ + x₉ + x₀₁ + x₁₁ ≦ 0\n",
       "2*x₁ - 2*x₃ - x₄ - x₅ - x₆ - 2*x₈ + x₉ + 2*x₀₁ + 2*x₁₁ ≦ 0\n",
       "2*x₁ - x₃ - x₅ - x₆ - x₇ - x₈ + x₀₁ ≦ 0\n",
       "x₁ - x₃ - x₄ - x₅ - x₈ + x₉ + x₀₁ + x₁₁ ≦ 0\n",
       "⋮\n",
       "x₁ - 2*x₃ - x₅ - x₆ - 2*x₈ + x₉ + 3*x₀₁ + 3*x₁₁ ≦ 0\n",
       "x₁ - x₅ - x₆ - x₉ + x₀₁ - x₁₁ ≦ 0\n",
       "-x₉ ≦ 0\n",
       "-x₃ + x₁₁ ≦ 0\n",
       "2*x₁ - x₂ - x₃ - x₇ - x₉ - 2*x₀₁ ≦ 0\n",
       "-x₆ + x₀₁ ≦ 0\n",
       "2*x₁ - x₂ - x₇ - x₈ - x₉ - 2*x₀₁ ≦ 0\n",
       "-x₀₁ ≦ 0\n",
       "3*x₁ - x₂ - x₄ - x₅ - x₆ - x₇ - x₉ - x₀₁ - x₁₁ ≦ 0\n",
       "-x₅ + x₀₁ ≦ 0\n",
       "-x₃ - x₆ - x₈ + x₉ + 2*x₀₁ + 2*x₁₁ ≦ 0\n",
       "x₁ - x₂ - x₉ - x₀₁ - x₁₁ ≦ 0\n"
      ]
     },
     "execution_count": 18,
     "metadata": {},
     "output_type": "execute_result"
    }
   ],
   "source": [
    "facets(C)"
   ]
  },
  {
   "cell_type": "markdown",
   "metadata": {},
   "source": [
    "## Mukai edge graph (Section 6)"
   ]
  },
  {
   "cell_type": "markdown",
   "metadata": {},
   "source": [
    "We define the Mukai bilinear form in the case of the blow up of $\\mathbb{P}^3$ in seven points. "
   ]
  },
  {
   "cell_type": "code",
   "execution_count": 19,
   "metadata": {},
   "outputs": [
    {
     "data": {
      "text/plain": [
       "Mukai_form (generic function with 1 method)"
      ]
     },
     "execution_count": 19,
     "metadata": {},
     "output_type": "execute_result"
    }
   ],
   "source": [
    "function Mukai_form(i,j)\n",
    "    E=deg_mon[i]\n",
    "    D=deg_mon[j]\n",
    "    return (2*E[1]*D[1]-(E[1]-E[2])*(D[1]-D[2])-(E[1]-E[3])*(D[1]-D[3])-(E[1]-E[4])*(D[1]-D[4])-(E[1]-E[5])*(D[1]-D[5])-(E[1]-E[6])*(D[1]-D[6])-(E[1]-E[7])*(D[1]-D[7])-(E[1]-E[8])*(D[1]-D[8]));\n",
    "end"
   ]
  },
  {
   "cell_type": "markdown",
   "metadata": {},
   "source": [
    "We check whether the polytope defined by $M$ has Mukai edge graph. The function takes as input the matrix $M$ and the degrees given as one of the outputs `deg_mon` in the function `is_khovanskii`. "
   ]
  },
  {
   "cell_type": "code",
   "execution_count": 20,
   "metadata": {},
   "outputs": [
    {
     "name": "stdout",
     "output_type": "stream",
     "text": [
      "For vertex 1 we get 32/32 have scalar product zero\n",
      "For vertex 2 we get 32/32 have scalar product zero\n",
      "For vertex 3 we get 32/32 have scalar product zero\n",
      "For vertex 4 we get 32/32 have scalar product zero\n",
      "For vertex 5 we get 32/32 have scalar product zero\n",
      "For vertex 6 we get 32/32 have scalar product zero\n",
      "For vertex 7 we get 32/32 have scalar product zero\n",
      "For vertex 8 we get 32/32 have scalar product zero\n",
      "For vertex 9 we get 32/32 have scalar product zero\n",
      "For vertex 10 we get 32/32 have scalar product zero\n",
      "For vertex 11 we get 32/32 have scalar product zero\n",
      "For vertex 12 we get 32/32 have scalar product zero\n",
      "For vertex 13 we get 32/32 have scalar product zero\n",
      "For vertex 14 we get 32/32 have scalar product zero\n",
      "For vertex 15 we get 32/32 have scalar product zero\n",
      "For vertex 16 we get 32/32 have scalar product zero\n",
      "For vertex 17 we get 32/32 have scalar product zero\n",
      "For vertex 18 we get 32/32 have scalar product zero\n",
      "For vertex 19 we get 32/32 have scalar product zero\n",
      "For vertex 20 we get 32/32 have scalar product zero\n",
      "For vertex 21 we get 32/32 have scalar product zero\n",
      "For vertex 22 we get 32/32 have scalar product zero\n",
      "For vertex 23 we get 32/32 have scalar product zero\n",
      "For vertex 24 we get 32/32 have scalar product zero\n",
      "For vertex 25 we get 32/32 have scalar product zero\n",
      "For vertex 26 we get 32/32 have scalar product zero\n",
      "For vertex 27 we get 32/32 have scalar product zero\n",
      "For vertex 28 we get 32/32 have scalar product zero\n",
      "For vertex 29 we get 32/32 have scalar product zero\n",
      "For vertex 30 we get 32/32 have scalar product zero\n",
      "For vertex 31 we get 32/32 have scalar product zero\n",
      "For vertex 32 we get 32/32 have scalar product zero\n",
      "For vertex 33 we get 32/32 have scalar product zero\n",
      "For vertex 34 we get 32/32 have scalar product zero\n",
      "For vertex 35 we get 32/32 have scalar product zero\n",
      "For vertex 36 we get 32/32 have scalar product zero\n",
      "For vertex 37 we get 32/32 have scalar product zero\n",
      "For vertex 38 we get 32/32 have scalar product zero\n",
      "For vertex 39 we get 32/32 have scalar product zero\n",
      "For vertex 40 we get 32/32 have scalar product zero\n",
      "For vertex 41 we get 32/32 have scalar product zero\n",
      "For vertex 42 we get 32/32 have scalar product zero\n",
      "For vertex 43 we get 32/32 have scalar product zero\n",
      "For vertex 44 we get 32/32 have scalar product zero\n",
      "For vertex 45 we get 32/32 have scalar product zero\n",
      "For vertex 46 we get 32/32 have scalar product zero\n",
      "For vertex 47 we get 32/32 have scalar product zero\n",
      "For vertex 48 we get 32/32 have scalar product zero\n",
      "For vertex 49 we get 32/32 have scalar product zero\n",
      "For vertex 50 we get 32/32 have scalar product zero\n",
      "For vertex 51 we get 32/32 have scalar product zero\n",
      "For vertex 52 we get 32/32 have scalar product zero\n",
      "For vertex 53 we get 32/32 have scalar product zero\n",
      "For vertex 54 we get 32/32 have scalar product zero\n",
      "For vertex 55 we get 32/32 have scalar product zero\n",
      "For vertex 56 we get 32/32 have scalar product zero\n",
      "For vertex 57 we get 32/32 have scalar product zero\n",
      "For vertex 58 we get 32/32 have scalar product zero\n",
      "For vertex 59 we get 32/32 have scalar product zero\n",
      "For vertex 60 we get 32/32 have scalar product zero\n",
      "For vertex 61 we get 32/32 have scalar product zero\n",
      "For vertex 62 we get 32/32 have scalar product zero\n",
      "For vertex 63 we get 32/32 have scalar product zero\n",
      "For vertex 64 we get 32/32 have scalar product zero\n",
      "For vertex 65 we get 32/32 have scalar product zero\n",
      "For vertex 66 we get 32/32 have scalar product zero\n",
      "For vertex 67 we get 32/32 have scalar product zero\n",
      "For vertex 68 we get 32/32 have scalar product zero\n",
      "For vertex 69 we get 32/32 have scalar product zero\n",
      "For vertex 70 we get 32/32 have scalar product zero\n",
      "For vertex 71 we get 32/32 have scalar product zero\n",
      "For vertex 72 we get 32/32 have scalar product zero\n",
      "For vertex 73 we get 32/32 have scalar product zero\n",
      "For vertex 74 we get 32/32 have scalar product zero\n",
      "For vertex 75 we get 32/32 have scalar product zero\n",
      "For vertex 76 we get 32/32 have scalar product zero\n",
      "For vertex 77 we get 32/32 have scalar product zero\n",
      "For vertex 78 we get 32/32 have scalar product zero\n",
      "For vertex 79 we get 32/32 have scalar product zero\n",
      "For vertex 80 we get 32/32 have scalar product zero\n",
      "For vertex 81 we get 32/32 have scalar product zero\n",
      "For vertex 82 we get 32/32 have scalar product zero\n",
      "For vertex 83 we get 32/32 have scalar product zero\n",
      "For vertex 84 we get 32/32 have scalar product zero\n",
      "For vertex 85 we get 32/32 have scalar product zero\n",
      "For vertex 86 we get 32/32 have scalar product zero\n",
      "For vertex 87 we get 32/32 have scalar product zero\n",
      "For vertex 88 we get 32/32 have scalar product zero\n",
      "For vertex 89 we get 32/32 have scalar product zero\n",
      "For vertex 90 we get 32/32 have scalar product zero\n",
      "For vertex 91 we get 32/32 have scalar product zero\n",
      "For vertex 92 we get 32/32 have scalar product zero\n",
      "For vertex 93 we get 32/32 have scalar product zero\n",
      "For vertex 94 we get 32/32 have scalar product zero\n",
      "For vertex 95 we get 32/32 have scalar product zero\n",
      "For vertex 96 we get 32/32 have scalar product zero\n",
      "For vertex 97 we get 32/32 have scalar product zero\n",
      "For vertex 98 we get 32/32 have scalar product zero\n",
      "For vertex 99 we get 32/32 have scalar product zero\n",
      "For vertex 100 we get 32/32 have scalar product zero\n",
      "For vertex 101 we get 32/32 have scalar product zero\n",
      "For vertex 102 we get 32/32 have scalar product zero\n",
      "For vertex 103 we get 32/32 have scalar product zero\n",
      "For vertex 104 we get 32/32 have scalar product zero\n",
      "For vertex 105 we get 32/32 have scalar product zero\n",
      "For vertex 106 we get 32/32 have scalar product zero\n",
      "For vertex 107 we get 32/32 have scalar product zero\n",
      "For vertex 108 we get 32/32 have scalar product zero\n",
      "For vertex 109 we get 32/32 have scalar product zero\n",
      "For vertex 110 we get 32/32 have scalar product zero\n",
      "For vertex 111 we get 32/32 have scalar product zero\n",
      "For vertex 112 we get 32/32 have scalar product zero\n",
      "For vertex 113 we get 32/32 have scalar product zero\n",
      "For vertex 114 we get 32/32 have scalar product zero\n",
      "For vertex 115 we get 32/32 have scalar product zero\n",
      "For vertex 116 we get 32/32 have scalar product zero\n",
      "For vertex 117 we get 32/32 have scalar product zero\n",
      "For vertex 118 we get 32/32 have scalar product zero\n",
      "For vertex 119 we get 32/32 have scalar product zero\n",
      "For vertex 120 we get 32/32 have scalar product zero\n",
      "For vertex 121 we get 32/32 have scalar product zero\n",
      "For vertex 122 we get 32/32 have scalar product zero\n",
      "For vertex 123 we get 32/32 have scalar product zero\n",
      "For vertex 124 we get 32/32 have scalar product zero\n",
      "For vertex 125 we get 32/32 have scalar product zero\n",
      "For vertex 126 we get 32/32 have scalar product zero\n"
     ]
    },
    {
     "data": {
      "text/plain": [
       "true"
      ]
     },
     "execution_count": 20,
     "metadata": {},
     "output_type": "execute_result"
    }
   ],
   "source": [
    "has_Mukai_edge_graph(M,deg_mon)"
   ]
  }
 ],
 "metadata": {
  "kernelspec": {
   "display_name": "Julia 1.7.0",
   "language": "julia",
   "name": "julia-1.7"
  },
  "language_info": {
   "file_extension": ".jl",
   "mimetype": "application/julia",
   "name": "julia",
   "version": "1.7.0"
  }
 },
 "nbformat": 4,
 "nbformat_minor": 4
}
