{
 "cells": [
  {
   "cell_type": "markdown",
   "metadata": {},
   "source": [
    "## Quadratic generation (Theorem 4)"
   ]
  },
  {
   "cell_type": "markdown",
   "metadata": {},
   "source": [
    "Let's install all necessary dependencies required by this project"
   ]
  },
  {
   "cell_type": "code",
   "execution_count": 4,
   "metadata": {},
   "outputs": [
    {
     "name": "stdout",
     "output_type": "stream",
     "text": [
      "\r",
      "\r",
      " -----    -----    -----      -      -----   \n",
      "|     |  |     |  |     |    | |    |     |  \n",
      "|     |  |        |         |   |   |     |  \n",
      "|     |   -----   |        |     |  |-----   \n",
      "|     |        |  |        |-----|  |   |    \n",
      "|     |  |     |  |     |  |     |  |    |   \n",
      " -----    -----    -----   -     -  -     -  \n",
      "\n",
      "...combining (and extending) ANTIC, GAP, Polymake and Singular\n",
      "Version\u001b[32m 0.11.3 \u001b[39m... \n",
      " ... which comes with absolutely no warranty whatsoever\n",
      "Type: '?Oscar' for more information\n",
      "(c) 2019-2023 by The OSCAR Development Team\n"
     ]
    },
    {
     "name": "stderr",
     "output_type": "stream",
     "text": [
      "\u001b[32m\u001b[1m  Activating\u001b[22m\u001b[39m project at `~/Desktop/GitHub repositories/7PointsPP3`\n",
      "\u001b[32m\u001b[1m    Updating\u001b[22m\u001b[39m registry at `~/.julia/registries/General`\n",
      "\u001b[32m\u001b[1m    Updating\u001b[22m\u001b[39m git-repo `https://github.com/JuliaRegistries/General.git`\n",
      "\u001b[32m\u001b[1m    Updating\u001b[22m\u001b[39m `~/Desktop/GitHub repositories/7PointsPP3/Project.toml`\n",
      " \u001b[90m [f1435218] \u001b[39m\u001b[93m↑ Oscar v0.11.2 ⇒ v0.11.3\u001b[39m\n",
      " \u001b[90m [d720cf60] \u001b[39m\u001b[93m↑ Polymake v0.8.3 ⇒ v0.9.0\u001b[39m\n",
      "\u001b[32m\u001b[1m    Updating\u001b[22m\u001b[39m `~/Desktop/GitHub repositories/7PointsPP3/Manifest.toml`\n",
      " \u001b[90m [c3fe647b] \u001b[39m\u001b[93m↑ AbstractAlgebra v0.27.8 ⇒ v0.27.10\u001b[39m\n",
      " \u001b[90m [66b61cbe] \u001b[39m\u001b[93m↑ AlgebraicSolving v0.2.2 ⇒ v0.3.1\u001b[39m\n",
      " \u001b[90m [9e997f8a] \u001b[39m\u001b[93m↑ ChangesOfVariables v0.1.5 ⇒ v0.1.6\u001b[39m\n",
      " \u001b[90m [34da2185] \u001b[39m\u001b[93m↑ Compat v4.6.0 ⇒ v4.6.1\u001b[39m\n",
      " \u001b[90m [1f15a43c] \u001b[39m\u001b[93m↑ CxxWrap v0.12.1 ⇒ v0.13.3\u001b[39m\n",
      " \u001b[90m [c863536a] \u001b[39m\u001b[93m↑ GAP v0.9.3 ⇒ v0.9.4\u001b[39m\n",
      " \u001b[90m [3e1990a7] \u001b[39m\u001b[93m↑ Hecke v0.16.10 ⇒ v0.17.5\u001b[39m\n",
      " \u001b[90m [92d709cd] \u001b[39m\u001b[93m↑ IrrationalConstants v0.1.1 ⇒ v0.2.2\u001b[39m\n",
      " \u001b[90m [2ab3a3ac] \u001b[39m\u001b[93m↑ LogExpFunctions v0.3.21 ⇒ v0.3.23\u001b[39m\n",
      " \u001b[90m [4fe8b98c] \u001b[39m\u001b[93m↑ Mongoc v0.7.1 ⇒ v0.8.1\u001b[39m\n",
      " \u001b[90m [f1435218] \u001b[39m\u001b[93m↑ Oscar v0.11.2 ⇒ v0.11.3\u001b[39m\n",
      " \u001b[90m [69de0a69] \u001b[39m\u001b[93m↑ Parsers v2.5.5 ⇒ v2.5.8\u001b[39m\n",
      " \u001b[90m [d720cf60] \u001b[39m\u001b[93m↑ Polymake v0.8.3 ⇒ v0.9.0\u001b[39m\n",
      " \u001b[90m [6c6a2e73] \u001b[39m\u001b[93m↑ Scratch v1.1.1 ⇒ v1.2.0\u001b[39m\n",
      " \u001b[90m [bcd08a7b] \u001b[39m\u001b[93m↑ Singular v0.14.0 ⇒ v0.16.1\u001b[39m\n",
      " \u001b[90m [276daf66] \u001b[39m\u001b[93m↑ SpecialFunctions v2.1.7 ⇒ v2.2.0\u001b[39m\n",
      " \u001b[90m [ae81ac8f] \u001b[39m\u001b[92m+ ASL_jll v0.1.3+0\u001b[39m\n",
      " \u001b[90m [6e34b625] \u001b[39m\u001b[92m+ Bzip2_jll v1.0.8+0\u001b[39m\n",
      " \u001b[90m [9cc047cb] \u001b[39m\u001b[92m+ Ipopt_jll v300.1400.400+0\u001b[39m\n",
      " \u001b[90m [d00139f3] \u001b[39m\u001b[92m+ METIS_jll v5.1.2+0\u001b[39m\n",
      " \u001b[90m [d7ed1dd3] \u001b[39m\u001b[92m+ MUMPS_seq_jll v5.4.1+0\u001b[39m\n",
      " \u001b[90m [e5ac4fe4] \u001b[39m\u001b[92m+ SCIP_jll v800.0.301+0\u001b[39m\n",
      " \u001b[90m [3161d3a3] \u001b[39m\u001b[93m↑ Zstd_jll v1.5.2+0 ⇒ v1.5.4+0\u001b[39m\n",
      " \u001b[90m [3eaa8342] \u001b[39m\u001b[93m↑ libcxxwrap_julia_jll v0.9.3+0 ⇒ v0.9.4+0\u001b[39m\n",
      " \u001b[90m [4d8266f6] \u001b[39m\u001b[93m↑ libpolymake_julia_jll v0.8.3+1 ⇒ v0.9.0+0\u001b[39m\n",
      " \u001b[90m [ae4fbd8f] \u001b[39m\u001b[93m↑ libsingular_julia_jll v0.27.0+1 ⇒ v0.29.0+0\u001b[39m\n",
      " \u001b[90m [7c209550] \u001b[39m\u001b[93m↑ polymake_jll v400.700.1+1 ⇒ v400.900.0+0\u001b[39m\n",
      "\u001b[36m\u001b[1m[ \u001b[22m\u001b[39m\u001b[36m\u001b[1mInfo: \u001b[22m\u001b[39mPrecompiling Oscar [f1435218-dba5-11e9-1e4d-f1a5fab5fc13]\n",
      "\u001b[36m\u001b[1m[ \u001b[22m\u001b[39m\u001b[36m\u001b[1mInfo: \u001b[22m\u001b[39mGenerating module common\n",
      "\u001b[36m\u001b[1m[ \u001b[22m\u001b[39m\u001b[36m\u001b[1mInfo: \u001b[22m\u001b[39mGenerating module ideal\n",
      "\u001b[36m\u001b[1m[ \u001b[22m\u001b[39m\u001b[36m\u001b[1mInfo: \u001b[22m\u001b[39mGenerating module graph\n",
      "\u001b[36m\u001b[1m[ \u001b[22m\u001b[39m\u001b[36m\u001b[1mInfo: \u001b[22m\u001b[39mGenerating module fulton\n",
      "\u001b[36m\u001b[1m[ \u001b[22m\u001b[39m\u001b[36m\u001b[1mInfo: \u001b[22m\u001b[39mGenerating module fan\n",
      "\u001b[36m\u001b[1m[ \u001b[22m\u001b[39m\u001b[36m\u001b[1mInfo: \u001b[22m\u001b[39mGenerating module group\n",
      "\u001b[36m\u001b[1m[ \u001b[22m\u001b[39m\u001b[36m\u001b[1mInfo: \u001b[22m\u001b[39mGenerating module polytope\n",
      "\u001b[36m\u001b[1m[ \u001b[22m\u001b[39m\u001b[36m\u001b[1mInfo: \u001b[22m\u001b[39mGenerating module topaz\n",
      "\u001b[36m\u001b[1m[ \u001b[22m\u001b[39m\u001b[36m\u001b[1mInfo: \u001b[22m\u001b[39mGenerating module tropical\n",
      "\u001b[36m\u001b[1m[ \u001b[22m\u001b[39m\u001b[36m\u001b[1mInfo: \u001b[22m\u001b[39mGenerating module matroid\n",
      "\u001b[36m\u001b[1m[ \u001b[22m\u001b[39m\u001b[36m\u001b[1mInfo: \u001b[22m\u001b[39mRegenerating /home/rara/.julia/packages/Singular/zLgw5/src/libraryfuncdictionary.jl\n",
      "[ListKernelSpecs] WARNING | Config option `kernel_spec_manager_class` not recognized by `ListKernelSpecs`.\n"
     ]
    },
    {
     "data": {
      "text/plain": [
       "has_Mukai_edge_graph (generic function with 1 method)"
      ]
     },
     "execution_count": 4,
     "metadata": {},
     "output_type": "execute_result"
    }
   ],
   "source": [
    "using Pkg\n",
    "Pkg.activate(\".\")\n",
    "Pkg.update()"
   ]
  },
  {
   "cell_type": "markdown",
   "metadata": {},
   "source": [
    "Let's first include all of our code in the jupyter notebook"
   ]
  },
  {
   "cell_type": "code",
   "execution_count": 7,
   "metadata": {},
   "outputs": [],
   "source": [
    "include(\"./src/is_khovanskii.jl\")\n",
    "include(\"./src/mukai_edge_graph.jl\");"
   ]
  },
  {
   "cell_type": "markdown",
   "metadata": {},
   "source": [
    "We define the ring in which our computations will take place, which is also the polynomial ring that appears in the paper, of which our Cox Ring is a subalgebra"
   ]
  },
  {
   "cell_type": "code",
   "execution_count": 10,
   "metadata": {},
   "outputs": [
    {
     "data": {
      "text/plain": [
       "(Multivariate Polynomial Ring in 8 variables t, z[1], z[2], z[3], ..., z[7] over Rational Field, fmpq_mpoly[t, z[1], z[2], z[3], z[4], z[5], z[6], z[7]])"
      ]
     },
     "execution_count": 10,
     "metadata": {},
     "output_type": "execute_result"
    }
   ],
   "source": [
    "KS, (t,z...)=PolynomialRing(QQ, [\"t\",[\"z[$i]\" for i in 1:7]...])"
   ]
  },
  {
   "cell_type": "code",
   "execution_count": 11,
   "metadata": {},
   "outputs": [
    {
     "data": {
      "text/plain": [
       "4×7 Matrix{fmpq_mpoly}:\n",
       " t^59  t^44  t^79  t^20  t^12  t^81  t^36\n",
       " t^8   t^72  t^49  t^39  t^58  t^23  t^64\n",
       " t^44  t^58  t^12  t^52  t^57  t^49  t^51\n",
       " t^25  t^23  t^60  t^72  t^45  t^51  t^6"
      ]
     },
     "execution_count": 11,
     "metadata": {},
     "output_type": "execute_result"
    }
   ],
   "source": [
    "P=[t^59 t^44 t^79 t^20 t^12 t^81 t^36; t^8 t^72 t^49 t^39 t^58 t^23 t^64; t^44 t^58 t^12 t^52 t^57 t^49 t^51; t^25 t^23 t^60 t^72 t^45 t^51 t^6]"
   ]
  },
  {
   "cell_type": "markdown",
   "metadata": {},
   "source": [
    "This is just an example of a matrix for which things work out, but we have others"
   ]
  },
  {
   "cell_type": "code",
   "execution_count": 12,
   "metadata": {},
   "outputs": [],
   "source": [
    "#A=[t^136 t^47 t^28 t^101 t^64 t^193 t^83; t^67 t^158 t^46 t^128 t^122 t^133 t^82; t^78 t^183 t^106 t^95 t^78 t^154 t^9; t^98 t^166 t^148 t^35 t^26 t^193 t^95]\n",
    "#A=[t^13 t^68 t^70 t^27 t^68 t^90 t^10; t^45 t^32 t^9 t^29 t^15 t^13 t^61; t^45 t^82 t^26 t^22 t^9 t^54 t^45; t^2 t^36 t^32 t^25 t^16 t^87 t^68]\n",
    "#A=[t^96 t^77 t^27 t^21 t^20 t^63 t^76; t^35 t^98 t^80 t^81 t^60 t^85 t^53; t^23 t^22 t^76 t^53 t^99 t^31 t^97; t^27 t^84 t^30 t^79 t^56 t^21 t^74]\n",
    "#A=[t^58 t^100 t^61 t^11 t^18 t^40 t^100; t^23 t^38 t^40 t^89 t^63 t^56 t^66; t^92 t^25 t^76 t^27 t^67 t^36 t^73; t^18 t^90 t^92 t^73 t^54 t^8 t^18]\n",
    "#A=[t^178 t^93 t^185 t^97 t^103 t^22 t^32; t^38 t^84 t^177 t^188 t^150 t^192 t^26; t^127 t^14 t^192 t^134 t^23 t^91 t^132; t^173 t^78 t^18 t^155 t^189 t^161 t^19]"
   ]
  },
  {
   "cell_type": "markdown",
   "metadata": {},
   "source": [
    "The function ``generalposition_monomeric_check`` produces the polynomials which are the images of $\\phi_{7,3}(t)(G_{7,3})$, where the map $\\phi_{7,3}$ is described in Section $3$ of the paper and the matrix $P$ is exactly the $P$ appearing in the above cell. The output of the function is:\n",
    "\n",
    "* A boolean ``bool`` which is true if and only if the seven points given by the columns of P are in general position as described in Section 3 of the article and the initial forms are monomeric\n",
    "\n",
    "\n",
    "* If bool is true, a vector of integers ``deg_mon`` which gives the multidegree of the 129 generators\n",
    "\n",
    "* If bool is true, a vector of monomials in KS which are the initial forms of the images $\\phi_{7,3}(t)(G_{7,3})$ but with the x coordinates evaluated at one and the y called z. This is just a raw version of the initial forms which we will obtained later by calling the function ``initial_forms_of_sections``\n"
   ]
  },
  {
   "cell_type": "code",
   "execution_count": null,
   "metadata": {},
   "outputs": [
    {
     "name": "stdout",
     "output_type": "stream",
     "text": [
      "Hyperplanes check \n"
     ]
    }
   ],
   "source": [
    "bool,deg_mon,equations_mon=generalposition_monomeric_check(P);"
   ]
  },
  {
   "cell_type": "markdown",
   "metadata": {},
   "source": [
    "The function ``degree_two_check`` takes the vector eq_mon and equations_mon obtained as outputs of the above functions and returns a boolean which is true if and only if the Hilbert function of the algebra generated by the initial forms of $\\phi_{7,3}(t)(G_{7,3})$ is equal to the Hilbert function of the the Cox ring in degree two."
   ]
  },
  {
   "cell_type": "code",
   "execution_count": null,
   "metadata": {},
   "outputs": [],
   "source": [
    "bol_degree2=degree_two_check(deg_mon,equations_mon);"
   ]
  },
  {
   "cell_type": "markdown",
   "metadata": {},
   "source": [
    "We now compute the actual initial forms as monomials in $\\mathbb{C}[x_1,\\dots,x_7,y_1,\\dots,y_7]$ using the function ``initial_forms_of_sections``"
   ]
  },
  {
   "cell_type": "code",
   "execution_count": null,
   "metadata": {},
   "outputs": [],
   "source": [
    "equations_mon_complete=initial_forms_of_sections(equations_mon)"
   ]
  },
  {
   "cell_type": "markdown",
   "metadata": {},
   "source": [
    "We now want to verify that the relations between the initial forms are actually generated by binomials of degree two, since this is the only missing step in proving that the polynomials $\\phi_{7,3}(t)(G_{7,3})$ are a Khovanskii basis for the algebra they generate. "
   ]
  },
  {
   "cell_type": "markdown",
   "metadata": {},
   "source": [
    "First, we use the ``matrix_of_exponents`` that takes as an input the vector of monomials of initial forms and compute the $129\\times 14$ matrix of exponents."
   ]
  },
  {
   "cell_type": "code",
   "execution_count": null,
   "metadata": {},
   "outputs": [],
   "source": [
    "M=matrix_of_exponents(equations_mon_complete)"
   ]
  },
  {
   "cell_type": "markdown",
   "metadata": {},
   "source": [
    "Now we use the markov_basis function of of 4ti2 in order to find generators for the ideal of relations between the monomials and we verify that the relations are all quadratic. "
   ]
  },
  {
   "cell_type": "code",
   "execution_count": null,
   "metadata": {},
   "outputs": [],
   "source": [
    "function write_M_m2(M)\n",
    "    print(\"matrix\\\"\")\n",
    "    for row in range(1,129)\n",
    "        for col in range(1,14)\n",
    "            print(M[row,col])\n",
    "            if col!=14\n",
    "                print(\",\")\n",
    "            end\n",
    "        end     \n",
    "        print(\";\")\n",
    "    end\n",
    "    print(\"\\\"\")\n",
    "end"
   ]
  },
  {
   "cell_type": "markdown",
   "metadata": {},
   "source": [
    "Now just take the output M2 of ``write_M_m2(M)`` and pass it to macaulay2 using the following commands\n",
    "\n",
    "```\n",
    "installPackage \"FourTiTwo\";\n",
    "toricMarkov(transpose(M2))\n",
    "```"
   ]
  },
  {
   "cell_type": "markdown",
   "metadata": {},
   "source": [
    "## Ehrhart-type formulas (Section 5.2)"
   ]
  },
  {
   "cell_type": "markdown",
   "metadata": {},
   "source": [
    "We first introduce the unimodular transformation and apply it to the vectors $(a_1, \\dots, a_7, b_1,b_3, b_5,b_7) \\in \\mathbb{Z}^{11}$ from the rows of $M$. "
   ]
  },
  {
   "cell_type": "code",
   "execution_count": null,
   "metadata": {},
   "outputs": [],
   "source": [
    "Unimod_transf = matrix(ZZ,[0 0 0 0 0 0 0 1 1 1 1; 1 0 0 0 0 0 0 1 0 0 0; 0 1 0 0 0 0 0 0 0 0 0; 0 0 1 0 0 0 0 0 1 0 0; 0 0 0 1 0 0 0 0 0 0 0; 0 0 0 0 1 0 0 0 0 1 0; 0 0 0 0 0 1 0 0 0 0 0; 0 0 0 0 0 0 1 0 0 0 1; 0 0 0 0 0 0 0 0 1 0 0; 0 0 0 0 0 0 0 0 0 1 0; 0 0 0 0 0 0 0 0 0 0 1]);\n",
    "M = M[:,[1,2,3,4,5,6,7,8,10,12,14]];"
   ]
  },
  {
   "cell_type": "code",
   "execution_count": null,
   "metadata": {},
   "outputs": [],
   "source": [
    "M_trans=transpose(Unimod_transf*transpose(M))"
   ]
  },
  {
   "cell_type": "markdown",
   "metadata": {},
   "source": [
    "We then look at the graph $\\Gamma$ defined by the new vectors"
   ]
  },
  {
   "cell_type": "code",
   "execution_count": null,
   "metadata": {},
   "outputs": [],
   "source": [
    "C = positive_hull(M_trans)"
   ]
  },
  {
   "cell_type": "code",
   "execution_count": null,
   "metadata": {},
   "outputs": [],
   "source": [
    "f_vector(C)"
   ]
  },
  {
   "cell_type": "code",
   "execution_count": null,
   "metadata": {},
   "outputs": [],
   "source": [
    "facets(C)"
   ]
  },
  {
   "cell_type": "markdown",
   "metadata": {},
   "source": [
    "## Mukai edge graph (Section 6)"
   ]
  },
  {
   "cell_type": "markdown",
   "metadata": {},
   "source": [
    "We define the Mukai bilinear form in the case of the blow up of $\\mathbb{P}^3$ in seven points. "
   ]
  },
  {
   "cell_type": "code",
   "execution_count": null,
   "metadata": {},
   "outputs": [],
   "source": [
    "function Mukai_form(i,j)\n",
    "    E=deg_mon[i]\n",
    "    D=deg_mon[j]\n",
    "    return (2*E[1]*D[1]-(E[1]-E[2])*(D[1]-D[2])-(E[1]-E[3])*(D[1]-D[3])-(E[1]-E[4])*(D[1]-D[4])-(E[1]-E[5])*(D[1]-D[5])-(E[1]-E[6])*(D[1]-D[6])-(E[1]-E[7])*(D[1]-D[7])-(E[1]-E[8])*(D[1]-D[8]));\n",
    "end"
   ]
  },
  {
   "cell_type": "markdown",
   "metadata": {},
   "source": [
    "We check whether the polytope defined by $M$ has Mukai edge graph. The function takes as input the matrix $M$ and the degrees given as one of the outputs `deg_mon` in the function `is_khovanskii`. "
   ]
  },
  {
   "cell_type": "code",
   "execution_count": null,
   "metadata": {},
   "outputs": [],
   "source": [
    "has_Mukai_edge_graph(M,deg_mon)"
   ]
  }
 ],
 "metadata": {
  "kernelspec": {
   "display_name": "Julia 1.7.0",
   "language": "julia",
   "name": "julia-1.7"
  },
  "language_info": {
   "file_extension": ".jl",
   "mimetype": "application/julia",
   "name": "julia",
   "version": "1.7.0"
  }
 },
 "nbformat": 4,
 "nbformat_minor": 4
}
