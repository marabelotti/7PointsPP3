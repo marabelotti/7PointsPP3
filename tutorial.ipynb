{
 "cells": [
  {
   "cell_type": "markdown",
   "metadata": {},
   "source": [
    "## Quadratic generation (Theorem 4)"
   ]
  },
  {
   "cell_type": "markdown",
   "metadata": {},
   "source": [
    "Let's install all necessary dependencies required by this project"
   ]
  },
  {
   "cell_type": "code",
   "execution_count": 1,
   "metadata": {},
   "outputs": [
    {
     "name": "stderr",
     "output_type": "stream",
     "text": [
      "\u001b[32m\u001b[1m  Activating\u001b[22m\u001b[39m project at `~/Desktop/7PointsPP3`\n",
      "\u001b[32m\u001b[1m    Updating\u001b[22m\u001b[39m registry at `~/.julia/registries/General.toml`\n",
      "\u001b[32m\u001b[1m  No Changes\u001b[22m\u001b[39m to `~/Desktop/7PointsPP3/Project.toml`\n",
      "\u001b[32m\u001b[1m  No Changes\u001b[22m\u001b[39m to `~/Desktop/7PointsPP3/Manifest.toml`\n"
     ]
    }
   ],
   "source": [
    "using Pkg\n",
    "Pkg.activate(\".\")\n",
    "Pkg.update()"
   ]
  },
  {
   "cell_type": "markdown",
   "metadata": {},
   "source": [
    "Let's first include all of our code in the jupyter notebook"
   ]
  },
  {
   "cell_type": "code",
   "execution_count": 9,
   "metadata": {},
   "outputs": [],
   "source": [
    "include(\"./src/is_khovanskii.jl\")\n",
    "include(\"./src/mukai_edge_graph.jl\");"
   ]
  },
  {
   "cell_type": "markdown",
   "metadata": {},
   "source": [
    "We define the ring in which our computations will take place, which is also the polynomial ring that appears in the paper, of which our Cox Ring is a subalgebra"
   ]
  },
  {
   "cell_type": "code",
   "execution_count": 3,
   "metadata": {},
   "outputs": [
    {
     "data": {
      "text/plain": [
       "(Multivariate Polynomial Ring in 8 variables t, z[1], z[2], z[3], ..., z[7] over Rational Field, fmpq_mpoly[t, z[1], z[2], z[3], z[4], z[5], z[6], z[7]])"
      ]
     },
     "execution_count": 3,
     "metadata": {},
     "output_type": "execute_result"
    }
   ],
   "source": [
    "KS, (t,z...)=PolynomialRing(QQ, [\"t\",[\"z[$i]\" for i in 1:7]...])"
   ]
  },
  {
   "cell_type": "code",
   "execution_count": 4,
   "metadata": {},
   "outputs": [
    {
     "data": {
      "text/plain": [
       "4×7 Matrix{fmpq_mpoly}:\n",
       " t^59  t^44  t^79  t^20  t^12  t^81  t^36\n",
       " t^8   t^72  t^49  t^39  t^58  t^23  t^64\n",
       " t^44  t^58  t^12  t^52  t^57  t^49  t^51\n",
       " t^25  t^23  t^60  t^72  t^45  t^51  t^6"
      ]
     },
     "execution_count": 4,
     "metadata": {},
     "output_type": "execute_result"
    }
   ],
   "source": [
    "P=[t^59 t^44 t^79 t^20 t^12 t^81 t^36; t^8 t^72 t^49 t^39 t^58 t^23 t^64; t^44 t^58 t^12 t^52 t^57 t^49 t^51; t^25 t^23 t^60 t^72 t^45 t^51 t^6]"
   ]
  },
  {
   "cell_type": "markdown",
   "metadata": {},
   "source": [
    "This is just an example of a matrix for which things work out, but we have others"
   ]
  },
  {
   "cell_type": "code",
   "execution_count": 5,
   "metadata": {},
   "outputs": [],
   "source": [
    "#A=[t^136 t^47 t^28 t^101 t^64 t^193 t^83; t^67 t^158 t^46 t^128 t^122 t^133 t^82; t^78 t^183 t^106 t^95 t^78 t^154 t^9; t^98 t^166 t^148 t^35 t^26 t^193 t^95]\n",
    "#A=[t^13 t^68 t^70 t^27 t^68 t^90 t^10; t^45 t^32 t^9 t^29 t^15 t^13 t^61; t^45 t^82 t^26 t^22 t^9 t^54 t^45; t^2 t^36 t^32 t^25 t^16 t^87 t^68]\n",
    "#A=[t^96 t^77 t^27 t^21 t^20 t^63 t^76; t^35 t^98 t^80 t^81 t^60 t^85 t^53; t^23 t^22 t^76 t^53 t^99 t^31 t^97; t^27 t^84 t^30 t^79 t^56 t^21 t^74]\n",
    "#A=[t^58 t^100 t^61 t^11 t^18 t^40 t^100; t^23 t^38 t^40 t^89 t^63 t^56 t^66; t^92 t^25 t^76 t^27 t^67 t^36 t^73; t^18 t^90 t^92 t^73 t^54 t^8 t^18]\n",
    "#A=[t^178 t^93 t^185 t^97 t^103 t^22 t^32; t^38 t^84 t^177 t^188 t^150 t^192 t^26; t^127 t^14 t^192 t^134 t^23 t^91 t^132; t^173 t^78 t^18 t^155 t^189 t^161 t^19]"
   ]
  },
  {
   "cell_type": "markdown",
   "metadata": {},
   "source": [
    "The function ``generalposition_monomeric_check`` produces the polynomials which are the images of $\\phi_{7,3}(t)(G_{7,3})$, where the map $\\phi_{7,3}$ is described in Section $3$ of the paper and the matrix $P$ is exactly the $P$ appearing in the above cell. The output of the function is:\n",
    "\n",
    "* A boolean ``bool`` which is true if and only if the seven points given by the columns of P are in general position as described in Section 3 of the article and the initial forms are monomeric\n",
    "\n",
    "\n",
    "* If bool is true, a vector of integers ``deg_mon`` which gives the multidegree of the 129 generators\n",
    "\n",
    "* If bool is true, a vector of monomials in KS which are the initial forms of the images $\\phi_{7,3}(t)(G_{7,3})$ but with the x coordinates evaluated at one and the y called z. This is just a raw version of the initial forms which we will obtained later by calling the function ``initial_forms_of_sections``\n"
   ]
  },
  {
   "cell_type": "code",
   "execution_count": 6,
   "metadata": {},
   "outputs": [
    {
     "name": "stdout",
     "output_type": "stream",
     "text": [
      "Hyperplanes check \n",
      "Quad check \n",
      "Cub check \n",
      "Strange check\n",
      "Quartics check\n"
     ]
    }
   ],
   "source": [
    "bool,deg_mon,equations_mon=generalposition_monomeric_check(P);"
   ]
  },
  {
   "cell_type": "markdown",
   "metadata": {},
   "source": [
    "The function ``degree_two_check`` takes the vector eq_mon and equations_mon obtained as outputs of the above functions and returns a boolean which is true if and only if the Hilbert function of the algebra generated by the initial forms of $\\phi_{7,3}(t)(G_{7,3})$ is equal to the Hilbert function of the the Cox ring in degree two."
   ]
  },
  {
   "cell_type": "code",
   "execution_count": 7,
   "metadata": {},
   "outputs": [
    {
     "name": "stdout",
     "output_type": "stream",
     "text": [
      "--------------------------- 1 out of 15. Check of degree [1, 1, 0, 0, 1, 1, 1, 1]\n",
      "--------------------------- 2 out of 15. Check of degree [2, 1, 2, 1, 1, 1, 1, 1]\n",
      "--------------------------- 3 out of 15. Check of degree [2, 2, 2, 0, 1, 1, 1, 1]\n",
      "--------------------------- 4 out of 15. Check of degree [3, 3, 2, 2, 1, 1, 1, 1]\n",
      "--------------------------- 5 out of 15. Check of degree [3, 2, 2, 2, 2, 1, 1, 1]\n",
      "--------------------------- 6 out of 15. Check of degree [4, 2, 2, 2, 2, 2, 2, 2]\n",
      "--------------------------- 7 out of 15. Check of degree [4, 3, 1, 2, 2, 2, 2, 2]\n",
      "--------------------------- 8 out of 15. Check of degree [3, 2, 0, 1, 2, 2, 2, 2]\n",
      "--------------------------- 9 out of 15. Check of degree [4, 2, 1, 1, 3, 3, 2, 2]\n",
      "--------------------------- 10 out of 15. Check of degree [5, 1, 2, 2, 3, 3, 3, 3]\n",
      "--------------------------- 11 out of 15. Check of degree [5, 2, 2, 2, 2, 3, 3, 3]\n",
      "--------------------------- 12 out of 15. Check of degree [5, 4, 2, 3, 2, 2, 2, 2]\n",
      "--------------------------- 13 out of 15. Check of degree [6, 3, 2, 3, 3, 3, 3, 3]\n",
      "--------------------------- 14 out of 15. Check of degree [6, 4, 2, 2, 3, 3, 3, 3]\n",
      "--------------------------- 15 out of 15. Check of degree [7, 3, 4, 4, 3, 3, 3, 3]\n"
     ]
    }
   ],
   "source": [
    "bol_degree2=degree_two_check(deg_mon,equations_mon);"
   ]
  },
  {
   "cell_type": "markdown",
   "metadata": {},
   "source": [
    "We now compute the actual initial forms as monomials in $\\mathbb{C}[x_1,\\dots,x_7,y_1,\\dots,y_7]$ using the function ``initial_forms_of_sections``"
   ]
  },
  {
   "cell_type": "code",
   "execution_count": 10,
   "metadata": {},
   "outputs": [
    {
     "data": {
      "text/plain": [
       "129-element Vector{fmpq_mpoly}:\n",
       " x1\n",
       " x2\n",
       " x3\n",
       " x4\n",
       " x5\n",
       " x6\n",
       " x7\n",
       " -x4*x6*x7*y5\n",
       " x5*x6*x7*y3\n",
       " x4*x6*x7*y3\n",
       " -x3*x4*x7*y5\n",
       " -x4*x5*x6*y3\n",
       " -x2*x5*x6*y7\n",
       " ⋮\n",
       " -x2*x3*x4^2*x6^2*x7*y1*y5*y7\n",
       " -x2*x3*x4*x5*x6^2*x7*y1*y5*y7\n",
       " 4*x1*x2^2*x4^2*x5*x6^2*x7*y3^2*y5*y7\n",
       " -4*x1*x2*x4^2*x5*x6^2*x7^2*y1*y3^2*y5\n",
       " -4*x1*x2^2*x4^2*x5*x6^2*x7*y1*y3*y5*y7\n",
       " -4*x1*x2^2*x4*x5^2*x6^2*x7*y1*y3^2*y7\n",
       " 4*x1*x2^2*x4^2*x5*x6^2*x7*y1*y3^2*y7\n",
       " -4*x1^2*x2^2*x4^2*x5*x6*x7*y3^2*y5*y7\n",
       " 4*x1*x2^2*x4^2*x5*x6^2*x7*y1*y3^2*y5\n",
       " x2*x4*x5*x6*x7*y1*y3\n",
       " x1*x2*x4*x5*x6*y3*y7\n",
       " x1*x2*x4*x6*x7*y3*y5"
      ]
     },
     "execution_count": 10,
     "metadata": {},
     "output_type": "execute_result"
    }
   ],
   "source": [
    "equations_mon_complete=initial_forms_of_sections(equations_mon)"
   ]
  },
  {
   "cell_type": "markdown",
   "metadata": {},
   "source": [
    "We now want to verify that the relations between the initial forms are actually generated by binomials of degree two, since this is the only missing step in proving that the polynomials $\\phi_{7,3}(t)(G_{7,3})$ are a Khovanskii basis for the algebra they generate. "
   ]
  },
  {
   "cell_type": "markdown",
   "metadata": {},
   "source": [
    "First, we use the ``matrix_of_exponents`` that takes as an input the vector of monomials of initial forms and compute the $129\\times 14$ matrix of exponents."
   ]
  },
  {
   "cell_type": "code",
   "execution_count": 11,
   "metadata": {},
   "outputs": [
    {
     "data": {
      "text/plain": [
       "[1   0   0   0   0   0   0   0   0   0   0   0   0   0]\n",
       "[0   1   0   0   0   0   0   0   0   0   0   0   0   0]\n",
       "[0   0   1   0   0   0   0   0   0   0   0   0   0   0]\n",
       "[0   0   0   1   0   0   0   0   0   0   0   0   0   0]\n",
       "[0   0   0   0   1   0   0   0   0   0   0   0   0   0]\n",
       "[0   0   0   0   0   1   0   0   0   0   0   0   0   0]\n",
       "[0   0   0   0   0   0   1   0   0   0   0   0   0   0]\n",
       "[0   0   0   1   0   1   1   0   0   0   0   1   0   0]\n",
       "[0   0   0   0   1   1   1   0   0   1   0   0   0   0]\n",
       "[0   0   0   1   0   1   1   0   0   1   0   0   0   0]\n",
       "[0   0   1   1   0   0   1   0   0   0   0   1   0   0]\n",
       "[0   0   0   1   1   1   0   0   0   1   0   0   0   0]\n",
       "[0   1   0   0   1   1   0   0   0   0   0   0   0   1]\n",
       "[0   1   0   1   0   1   0   0   0   0   0   0   0   1]\n",
       "[0   1   0   1   0   0   1   0   0   0   0   1   0   0]\n",
       "[0   1   0   1   0   1   0   0   0   0   0   1   0   0]\n",
       "[0   1   1   0   0   1   0   0   0   0   0   0   0   1]\n",
       "[0   1   0   0   1   0   1   0   0   1   0   0   0   0]\n",
       "[0   1   0   0   1   1   0   0   0   1   0   0   0   0]\n",
       "[0   1   0   1   0   0   1   0   0   1   0   0   0   0]\n",
       "[0   1   0   1   0   1   0   0   0   1   0   0   0   0]\n",
       "[0   1   1   1   0   0   0   0   0   0   0   1   0   0]\n",
       "[0   0   0   0   1   1   1   1   0   0   0   0   0   0]\n",
       "[0   0   0   1   0   1   1   1   0   0   0   0   0   0]\n",
       "[1   0   0   1   0   0   1   0   0   0   0   1   0   0]\n",
       "[0   0   0   1   1   1   0   1   0   0   0   0   0   0]\n",
       "[1   0   0   0   0   1   1   0   0   1   0   0   0   0]\n",
       "[1   0   0   0   1   0   1   0   0   1   0   0   0   0]\n",
       "[0   0   1   0   1   1   0   1   0   0   0   0   0   0]\n",
       "[1   0   0   1   0   0   1   0   0   1   0   0   0   0]\n",
       "[0   0   1   1   0   1   0   1   0   0   0   0   0   0]\n",
       "[1   0   0   1   1   0   0   0   0   1   0   0   0   0]\n",
       "[1   1   0   0   0   1   0   0   0   0   0   0   0   1]\n",
       "[1   1   0   0   1   0   0   0   0   0   0   0   0   1]\n",
       "[0   1   0   0   1   1   0   1   0   0   0   0   0   0]\n",
       "[1   1   0   1   0   0   0   0   0   0   0   0   0   1]\n",
       "[0   1   0   1   0   1   0   1   0   0   0   0   0   0]\n",
       "[1   1   0   1   0   0   0   0   0   0   0   1   0   0]\n",
       "[1   1   1   0   0   0   0   0   0   0   0   0   0   1]\n",
       "[1   1   0   0   0   1   0   0   0   1   0   0   0   0]\n",
       "[1   1   0   0   1   0   0   0   0   1   0   0   0   0]\n",
       "[1   1   0   1   0   0   0   0   0   1   0   0   0   0]\n",
       "[1   0   0   1   1   1   1   1   0   1   0   0   0   0]\n",
       "[1   1   0   1   1   1   0   1   0   0   0   0   0   1]\n",
       "[1   1   1   0   1   1   0   1   0   0   0   0   0   1]\n",
       "[1   1   1   1   0   1   0   1   0   0   0   0   0   1]\n",
       "[2   1   0   1   1   0   0   0   0   1   0   0   0   1]\n",
       "[1   1   0   1   1   1   0   1   0   1   0   0   0   0]\n",
       "[0   2   1   1   0   1   0   0   0   0   0   1   0   1]\n",
       "[1   2   0   1   0   1   0   0   0   0   0   1   0   1]\n",
       "[1   2   0   0   1   1   0   0   0   1   0   0   0   1]\n",
       "[1   2   0   1   0   1   0   0   0   1   0   0   0   1]\n",
       "[1   2   1   1   0   0   0   0   0   0   0   1   0   1]\n",
       "[1   2   0   1   0   1   0   0   0   1   0   1   0   0]\n",
       "[0   1   0   1   1   1   1   0   0   2   0   0   0   0]\n",
       "[1   0   0   1   1   1   1   0   0   2   0   0   0   0]\n",
       "[1   1   0   0   1   1   1   0   0   2   0   0   0   0]\n",
       "[1   1   0   1   0   1   1   0   0   2   0   0   0   0]\n",
       "[1   1   0   1   1   0   1   0   0   2   0   0   0   0]\n",
       "[1   1   0   1   1   1   0   0   0   2   0   0   0   0]\n",
       "[0   1   0   2   0   1   1   0   0   1   0   1   0   0]\n",
       "[0   0   1   2   0   1   1   1   0   0   0   1   0   0]\n",
       "[0   1   0   2   0   1   1   1   0   0   0   1   0   0]\n",
       "[0   1   0   2   0   1   1   1   0   1   0   0   0   0]\n",
       "[1   1   0   2   0   0   1   0   0   1   0   1   0   0]\n",
       "[0   1   1   2   0   1   0   1   0   0   0   1   0   0]\n",
       "[0   1   0   1   1   1   1   0   0   1   0   1   0   0]\n",
       "[0   0   1   1   1   1   1   1   0   0   0   1   0   0]\n",
       "[0   1   0   1   1   1   1   1   0   0   0   1   0   0]\n",
       "[0   1   0   0   2   1   1   1   0   1   0   0   0   0]\n",
       "[1   1   0   1   1   0   1   0   0   1   0   1   0   0]\n",
       "[0   1   1   1   1   1   0   1   0   0   0   1   0   0]\n",
       "[0   1   0   1   1   2   0   0   0   1   0   0   0   1]\n",
       "[0   0   0   1   1   2   1   1   0   1   0   0   0   0]\n",
       "[0   1   0   1   1   2   0   1   0   0   0   0   0   1]\n",
       "[0   1   1   0   1   2   0   1   0   0   0   0   0   1]\n",
       "[0   1   1   1   0   2   0   1   0   0   0   0   0   1]\n",
       "[0   1   0   1   1   2   0   1   0   1   0   0   0   0]\n",
       "[0   1   1   1   0   1   1   0   0   0   0   1   0   1]\n",
       "[1   0   0   1   0   1   2   0   0   1   0   1   0   0]\n",
       "[1   1   0   1   0   1   1   0   0   0   0   1   0   1]\n",
       "[1   1   0   0   1   1   1   0   0   1   0   0   0   1]\n",
       "[1   1   0   1   0   1   1   0   0   1   0   0   0   1]\n",
       "[1   1   1   1   0   0   1   0   0   0   0   1   0   1]\n",
       "[2   2   0   1   1   1   0   0   0   2   0   0   0   1]\n",
       "[1   2   1   2   0   1   0   1   0   0   0   1   0   1]\n",
       "[1   1   0   2   1   1   1   1   0   2   0   0   0   0]\n",
       "[1   2   0   2   0   1   1   0   0   2   0   1   0   0]\n",
       "[1   2   1   1   1   1   0   1   0   0   0   1   0   1]\n",
       "[1   1   0   1   2   1   1   1   0   2   0   0   0   0]\n",
       "[1   2   0   1   1   1   1   0   0   2   0   1   0   0]\n",
       "[1   1   0   2   1   1   1   1   0   1   0   1   0   0]\n",
       "[1   2   0   2   0   1   1   0   0   1   0   2   0   0]\n",
       "[1   1   0   2   1   1   1   0   0   2   0   1   0   0]\n",
       "[1   2   0   1   1   2   0   1   0   1   0   0   0   1]\n",
       "[1   1   0   1   1   2   1   1   0   2   0   0   0   0]\n",
       "[1   2   0   1   1   2   0   0   0   2   0   0   0   1]\n",
       "[0   1   0   2   1   2   1   2   0   1   0   0   0   0]\n",
       "[0   2   1   2   0   2   0   1   0   0   0   1   0   1]\n",
       "[0   1   0   2   1   2   1   1   0   2   0   0   0   0]\n",
       "[0   1   0   1   2   2   1   2   0   1   0   0   0   0]\n",
       "[0   2   1   1   1   2   0   1   0   0   0   1   0   1]\n",
       "[0   1   0   1   2   2   1   1   0   2   0   0   0   0]\n",
       "[0   1   0   2   1   2   1   1   0   1   0   1   0   0]\n",
       "[2   2   0   1   1   1   0   0   0   1   0   0   0   2]\n",
       "[2   1   0   1   1   1   1   0   0   2   0   0   0   1]\n",
       "[1   2   0   1   1   1   1   0   0   2   0   0   0   1]\n",
       "[1   1   1   2   0   1   1   1   0   0   0   1   0   1]\n",
       "[1   2   0   2   0   1   1   0   0   1   0   1   0   1]\n",
       "[1   1   0   2   0   1   2   0   0   2   0   1   0   0]\n",
       "[1   1   1   1   1   1   1   1   0   0   0   1   0   1]\n",
       "[1   2   0   1   1   1   1   0   0   1   0   1   0   1]\n",
       "[1   1   0   1   1   1   2   0   0   2   0   1   0   0]\n",
       "[1   1   0   2   0   1   2   0   0   1   0   2   0   0]\n",
       "[1   1   0   1   1   2   1   1   0   1   0   0   0   1]\n",
       "[1   2   0   1   1   2   0   0   0   1   0   0   0   2]\n",
       "[1   1   0   1   1   2   1   0   0   2   0   0   0   1]\n",
       "[0   1   1   2   0   2   1   1   0   0   0   1   0   1]\n",
       "[0   1   1   1   1   2   1   1   0   0   0   1   0   1]\n",
       "[1   2   0   2   1   2   1   0   0   2   0   1   0   1]\n",
       "[1   1   0   2   1   2   2   1   0   2   0   1   0   0]\n",
       "[1   2   0   2   1   2   1   1   0   1   0   1   0   1]\n",
       "[1   2   0   1   2   2   1   1   0   2   0   0   0   1]\n",
       "[1   2   0   2   1   2   1   1   0   2   0   0   0   1]\n",
       "[2   2   0   2   1   1   1   0   0   2   0   1   0   1]\n",
       "[1   2   0   2   1   2   1   1   0   2   0   1   0   0]\n",
       "[0   1   0   1   1   1   1   1   0   1   0   0   0   0]\n",
       "[1   1   0   1   1   1   0   0   0   1   0   0   0   1]\n",
       "[1   1   0   1   0   1   1   0   0   1   0   1   0   0]"
      ]
     },
     "execution_count": 11,
     "metadata": {},
     "output_type": "execute_result"
    }
   ],
   "source": [
    "M=matrix_of_exponents(equations_mon_complete)"
   ]
  },
  {
   "cell_type": "markdown",
   "metadata": {},
   "source": [
    "Now we use the markov_basis function of of 4ti2 in order to find generators for the ideal of relations between the monomials and we verify that the relations are all quadratic. "
   ]
  },
  {
   "cell_type": "code",
   "execution_count": 12,
   "metadata": {},
   "outputs": [
    {
     "data": {
      "text/plain": [
       "write_M_m2 (generic function with 1 method)"
      ]
     },
     "execution_count": 12,
     "metadata": {},
     "output_type": "execute_result"
    }
   ],
   "source": [
    "function write_M_m2(M)\n",
    "    print(\"matrix\\\"\")\n",
    "    for row in range(1,129)\n",
    "        for col in range(1,14)\n",
    "            print(M[row,col])\n",
    "            if col!=14\n",
    "                print(\",\")\n",
    "            end\n",
    "        end  \n",
    "        if row!=129\n",
    "            print(\";\")\n",
    "        end\n",
    "    end\n",
    "    print(\"\\\"\")\n",
    "end"
   ]
  },
  {
   "cell_type": "markdown",
   "metadata": {},
   "source": [
    "Now just take the output M2 of ``write_M_m2(M)`` and pass it to macaulay2 using the following commands\n",
    "\n",
    "```\n",
    "installPackage \"FourTiTwo\";\n",
    "toricMarkov(transpose(M2))\n",
    "```"
   ]
  },
  {
   "cell_type": "markdown",
   "metadata": {},
   "source": [
    "## Ehrhart-type formulas (Section 5.2)"
   ]
  },
  {
   "cell_type": "markdown",
   "metadata": {},
   "source": [
    "We first introduce the unimodular transformation and apply it to the vectors $(a_1, \\dots, a_7, b_1,b_3, b_5,b_7) \\in \\mathbb{Z}^{11}$ from the rows of $M$. "
   ]
  },
  {
   "cell_type": "code",
   "execution_count": 14,
   "metadata": {},
   "outputs": [],
   "source": [
    "Unimod_transf = matrix(ZZ,[0 0 0 0 0 0 0 1 1 1 1; 1 0 0 0 0 0 0 1 0 0 0; 0 1 0 0 0 0 0 0 0 0 0; 0 0 1 0 0 0 0 0 1 0 0; 0 0 0 1 0 0 0 0 0 0 0; 0 0 0 0 1 0 0 0 0 1 0; 0 0 0 0 0 1 0 0 0 0 0; 0 0 0 0 0 0 1 0 0 0 1; 0 0 0 0 0 0 0 0 1 0 0; 0 0 0 0 0 0 0 0 0 1 0; 0 0 0 0 0 0 0 0 0 0 1]);\n",
    "M = M[:,[1,2,3,4,5,6,7,8,10,12,14]];"
   ]
  },
  {
   "cell_type": "code",
   "execution_count": 15,
   "metadata": {},
   "outputs": [
    {
     "data": {
      "text/plain": [
       "[0   1   0   0   0   0   0   0   0   0   0]\n",
       "[0   0   1   0   0   0   0   0   0   0   0]\n",
       "[0   0   0   1   0   0   0   0   0   0   0]\n",
       "[0   0   0   0   1   0   0   0   0   0   0]\n",
       "[0   0   0   0   0   1   0   0   0   0   0]\n",
       "[0   0   0   0   0   0   1   0   0   0   0]\n",
       "[0   0   0   0   0   0   0   1   0   0   0]\n",
       "[1   0   0   0   1   1   1   1   0   1   0]\n",
       "[1   0   0   1   0   1   1   1   1   0   0]\n",
       "[1   0   0   1   1   0   1   1   1   0   0]\n",
       "[1   0   0   1   1   1   0   1   0   1   0]\n",
       "[1   0   0   1   1   1   1   0   1   0   0]\n",
       "[1   0   1   0   0   1   1   1   0   0   1]\n",
       "[1   0   1   0   1   0   1   1   0   0   1]\n",
       "[1   0   1   0   1   1   0   1   0   1   0]\n",
       "[1   0   1   0   1   1   1   0   0   1   0]\n",
       "[1   0   1   1   0   0   1   1   0   0   1]\n",
       "[1   0   1   1   0   1   0   1   1   0   0]\n",
       "[1   0   1   1   0   1   1   0   1   0   0]\n",
       "[1   0   1   1   1   0   0   1   1   0   0]\n",
       "[1   0   1   1   1   0   1   0   1   0   0]\n",
       "[1   0   1   1   1   1   0   0   0   1   0]\n",
       "[1   1   0   0   0   1   1   1   0   0   0]\n",
       "[1   1   0   0   1   0   1   1   0   0   0]\n",
       "[1   1   0   0   1   1   0   1   0   1   0]\n",
       "[1   1   0   0   1   1   1   0   0   0   0]\n",
       "[1   1   0   1   0   0   1   1   1   0   0]\n",
       "[1   1   0   1   0   1   0   1   1   0   0]\n",
       "[1   1   0   1   0   1   1   0   0   0   0]\n",
       "[1   1   0   1   1   0   0   1   1   0   0]\n",
       "[1   1   0   1   1   0   1   0   0   0   0]\n",
       "[1   1   0   1   1   1   0   0   1   0   0]\n",
       "[1   1   1   0   0   0   1   1   0   0   1]\n",
       "[1   1   1   0   0   1   0   1   0   0   1]\n",
       "[1   1   1   0   0   1   1   0   0   0   0]\n",
       "[1   1   1   0   1   0   0   1   0   0   1]\n",
       "[1   1   1   0   1   0   1   0   0   0   0]\n",
       "[1   1   1   0   1   1   0   0   0   1   0]\n",
       "[1   1   1   1   0   0   0   1   0   0   1]\n",
       "[1   1   1   1   0   0   1   0   1   0   0]\n",
       "[1   1   1   1   0   1   0   0   1   0   0]\n",
       "[1   1   1   1   1   0   0   0   1   0   0]\n",
       "[2   2   0   1   1   1   1   1   1   0   0]\n",
       "[2   2   1   0   1   1   1   1   0   0   1]\n",
       "[2   2   1   1   0   1   1   1   0   0   1]\n",
       "[2   2   1   1   1   0   1   1   0   0   1]\n",
       "[2   2   1   1   1   1   0   1   1   0   1]\n",
       "[2   2   1   1   1   1   1   0   1   0   0]\n",
       "[2   0   2   1   1   1   1   1   0   1   1]\n",
       "[2   1   2   0   1   1   1   1   0   1   1]\n",
       "[2   1   2   1   0   1   1   1   1   0   1]\n",
       "[2   1   2   1   1   0   1   1   1   0   1]\n",
       "[2   1   2   1   1   1   0   1   0   1   1]\n",
       "[2   1   2   1   1   1   1   0   1   1   0]\n",
       "[2   0   1   2   1   1   1   1   2   0   0]\n",
       "[2   1   0   2   1   1   1   1   2   0   0]\n",
       "[2   1   1   2   0   1   1   1   2   0   0]\n",
       "[2   1   1   2   1   0   1   1   2   0   0]\n",
       "[2   1   1   2   1   1   0   1   2   0   0]\n",
       "[2   1   1   2   1   1   1   0   2   0   0]\n",
       "[2   0   1   1   2   1   1   1   1   1   0]\n",
       "[2   1   0   1   2   1   1   1   0   1   0]\n",
       "[2   1   1   0   2   1   1   1   0   1   0]\n",
       "[2   1   1   1   2   0   1   1   1   0   0]\n",
       "[2   1   1   1   2   1   0   1   1   1   0]\n",
       "[2   1   1   1   2   1   1   0   0   1   0]\n",
       "[2   0   1   1   1   2   1   1   1   1   0]\n",
       "[2   1   0   1   1   2   1   1   0   1   0]\n",
       "[2   1   1   0   1   2   1   1   0   1   0]\n",
       "[2   1   1   1   0   2   1   1   1   0   0]\n",
       "[2   1   1   1   1   2   0   1   1   1   0]\n",
       "[2   1   1   1   1   2   1   0   0   1   0]\n",
       "[2   0   1   1   1   1   2   1   1   0   1]\n",
       "[2   1   0   1   1   1   2   1   1   0   0]\n",
       "[2   1   1   0   1   1   2   1   0   0   1]\n",
       "[2   1   1   1   0   1   2   1   0   0   1]\n",
       "[2   1   1   1   1   0   2   1   0   0   1]\n",
       "[2   1   1   1   1   1   2   0   1   0   0]\n",
       "[2   0   1   1   1   1   1   2   0   1   1]\n",
       "[2   1   0   1   1   1   1   2   1   1   0]\n",
       "[2   1   1   0   1   1   1   2   0   1   1]\n",
       "[2   1   1   1   0   1   1   2   1   0   1]\n",
       "[2   1   1   1   1   0   1   2   1   0   1]\n",
       "[2   1   1   1   1   1   0   2   0   1   1]\n",
       "[3   2   2   2   1   1   1   1   2   0   1]\n",
       "[3   2   2   1   2   1   1   1   0   1   1]\n",
       "[3   2   1   2   2   1   1   1   2   0   0]\n",
       "[3   1   2   2   2   1   1   1   2   1   0]\n",
       "[3   2   2   1   1   2   1   1   0   1   1]\n",
       "[3   2   1   2   1   2   1   1   2   0   0]\n",
       "[3   1   2   2   1   2   1   1   2   1   0]\n",
       "[3   2   1   1   2   2   1   1   1   1   0]\n",
       "[3   1   2   1   2   2   1   1   1   2   0]\n",
       "[3   1   1   2   2   2   1   1   2   1   0]\n",
       "[3   2   2   1   1   1   2   1   1   0   1]\n",
       "[3   2   1   2   1   1   2   1   2   0   0]\n",
       "[3   1   2   2   1   1   2   1   2   0   1]\n",
       "[3   2   1   1   2   1   2   1   1   0   0]\n",
       "[3   1   2   1   2   1   2   1   0   1   1]\n",
       "[3   1   1   2   2   1   2   1   2   0   0]\n",
       "[3   2   1   1   1   2   2   1   1   0   0]\n",
       "[3   1   2   1   1   2   2   1   0   1   1]\n",
       "[3   1   1   2   1   2   2   1   2   0   0]\n",
       "[3   1   1   1   2   2   2   1   1   1   0]\n",
       "[3   2   2   1   1   1   1   2   1   0   2]\n",
       "[3   2   1   2   1   1   1   2   2   0   1]\n",
       "[3   1   2   2   1   1   1   2   2   0   1]\n",
       "[3   2   1   1   2   1   1   2   0   1   1]\n",
       "[3   1   2   1   2   1   1   2   1   1   1]\n",
       "[3   1   1   2   2   1   1   2   2   1   0]\n",
       "[3   2   1   1   1   2   1   2   0   1   1]\n",
       "[3   1   2   1   1   2   1   2   1   1   1]\n",
       "[3   1   1   2   1   2   1   2   2   1   0]\n",
       "[3   1   1   1   2   2   1   2   1   2   0]\n",
       "[3   2   1   1   1   1   2   2   1   0   1]\n",
       "[3   1   2   1   1   1   2   2   1   0   2]\n",
       "[3   1   1   2   1   1   2   2   2   0   1]\n",
       "[3   1   1   1   2   1   2   2   0   1   1]\n",
       "[3   1   1   1   1   2   2   2   0   1   1]\n",
       "[4   1   2   2   2   2   2   2   2   1   1]\n",
       "[4   2   1   2   2   2   2   2   2   1   0]\n",
       "[4   2   2   1   2   2   2   2   1   1   1]\n",
       "[4   2   2   2   1   2   2   2   2   0   1]\n",
       "[4   2   2   2   2   1   2   2   2   0   1]\n",
       "[4   2   2   2   2   2   1   2   2   1   1]\n",
       "[4   2   2   2   2   2   2   1   2   1   0]\n",
       "[2   1   1   1   1   1   1   1   1   0   0]\n",
       "[2   1   1   1   1   1   1   1   1   0   1]\n",
       "[2   1   1   1   1   1   1   1   1   1   0]"
      ]
     },
     "execution_count": 15,
     "metadata": {},
     "output_type": "execute_result"
    }
   ],
   "source": [
    "M_trans=transpose(Unimod_transf*transpose(M))"
   ]
  },
  {
   "cell_type": "markdown",
   "metadata": {},
   "source": [
    "We then look at the graph $\\Gamma$ defined by the new vectors"
   ]
  },
  {
   "cell_type": "code",
   "execution_count": 16,
   "metadata": {},
   "outputs": [
    {
     "data": {
      "text/plain": [
       "A polyhedral cone in ambient dimension 11"
      ]
     },
     "execution_count": 16,
     "metadata": {},
     "output_type": "execute_result"
    }
   ],
   "source": [
    "C = positive_hull(M_trans)"
   ]
  },
  {
   "cell_type": "code",
   "execution_count": 17,
   "metadata": {},
   "outputs": [
    {
     "data": {
      "text/plain": [
       "10-element Vector{fmpz}:\n",
       " 126\n",
       " 2016\n",
       " 10839\n",
       " 27198\n",
       " 37635\n",
       " 30891\n",
       " 15286\n",
       " 4416\n",
       " 683\n",
       " 48"
      ]
     },
     "execution_count": 17,
     "metadata": {},
     "output_type": "execute_result"
    }
   ],
   "source": [
    "f_vector(C)"
   ]
  },
  {
   "cell_type": "code",
   "execution_count": 18,
   "metadata": {},
   "outputs": [
    {
     "data": {
      "text/plain": [
       "48-element SubObjectIterator{LinearHalfspace{fmpq}} over the Halfspaces of R^11 described by:\n",
       "4*x₁ - x₂ - 2*x₃ - x₄ - x₅ - x₆ - x₇ - 2*x₈ + x₁₁ ≦ 0\n",
       "4*x₁ - x₂ - x₃ - x₄ - 2*x₅ - 2*x₆ - x₇ - x₈ + x₀₁ ≦ 0\n",
       "4*x₁ - x₂ - 2*x₃ - 2*x₅ - 2*x₆ - x₇ - 2*x₈ + 2*x₀₁ + x₁₁ ≦ 0\n",
       "-x₄ + x₉ ≦ 0\n",
       "5*x₁ - 2*x₂ - x₃ - x₄ - x₅ - x₆ - 2*x₇ - x₈ - x₉ - x₀₁ - x₁₁ ≦ 0\n",
       "6*x₁ - 2*x₂ - 2*x₃ - 2*x₅ - 2*x₆ - 2*x₇ - 2*x₈ - x₉ ≦ 0\n",
       "2*x₁ - x₄ - x₅ - x₆ - x₇ - x₁₁ ≦ 0\n",
       "2*x₁ - x₂ - x₄ - x₇ - x₈ - x₀₁ ≦ 0\n",
       "x₁ - x₃ - x₄ - x₆ - x₈ + x₉ + x₀₁ + x₁₁ ≦ 0\n",
       "2*x₁ - 2*x₃ - x₄ - x₅ - x₆ - 2*x₈ + x₉ + 2*x₀₁ + 2*x₁₁ ≦ 0\n",
       "2*x₁ - x₃ - x₅ - x₆ - x₇ - x₈ + x₀₁ ≦ 0\n",
       "x₁ - x₃ - x₄ - x₅ - x₈ + x₉ + x₀₁ + x₁₁ ≦ 0\n",
       "⋮\n",
       "x₁ - 2*x₃ - x₅ - x₆ - 2*x₈ + x₉ + 3*x₀₁ + 3*x₁₁ ≦ 0\n",
       "x₁ - x₅ - x₆ - x₉ + x₀₁ - x₁₁ ≦ 0\n",
       "-x₉ ≦ 0\n",
       "-x₃ + x₁₁ ≦ 0\n",
       "2*x₁ - x₂ - x₃ - x₇ - x₉ - 2*x₀₁ ≦ 0\n",
       "-x₆ + x₀₁ ≦ 0\n",
       "2*x₁ - x₂ - x₇ - x₈ - x₉ - 2*x₀₁ ≦ 0\n",
       "-x₀₁ ≦ 0\n",
       "3*x₁ - x₂ - x₄ - x₅ - x₆ - x₇ - x₉ - x₀₁ - x₁₁ ≦ 0\n",
       "-x₅ + x₀₁ ≦ 0\n",
       "-x₃ - x₆ - x₈ + x₉ + 2*x₀₁ + 2*x₁₁ ≦ 0\n",
       "x₁ - x₂ - x₉ - x₀₁ - x₁₁ ≦ 0\n"
      ]
     },
     "execution_count": 18,
     "metadata": {},
     "output_type": "execute_result"
    }
   ],
   "source": [
    "facets(C)"
   ]
  },
  {
   "cell_type": "markdown",
   "metadata": {},
   "source": [
    "## Mukai edge graph (Section 6)"
   ]
  },
  {
   "cell_type": "markdown",
   "metadata": {},
   "source": [
    "We define the Mukai bilinear form in the case of the blow up of $\\mathbb{P}^3$ in seven points. "
   ]
  },
  {
   "cell_type": "code",
   "execution_count": 19,
   "metadata": {},
   "outputs": [
    {
     "data": {
      "text/plain": [
       "Mukai_form (generic function with 1 method)"
      ]
     },
     "execution_count": 19,
     "metadata": {},
     "output_type": "execute_result"
    }
   ],
   "source": [
    "function Mukai_form(i,j)\n",
    "    E=deg_mon[i]\n",
    "    D=deg_mon[j]\n",
    "    return (2*E[1]*D[1]-(E[1]-E[2])*(D[1]-D[2])-(E[1]-E[3])*(D[1]-D[3])-(E[1]-E[4])*(D[1]-D[4])-(E[1]-E[5])*(D[1]-D[5])-(E[1]-E[6])*(D[1]-D[6])-(E[1]-E[7])*(D[1]-D[7])-(E[1]-E[8])*(D[1]-D[8]));\n",
    "end"
   ]
  },
  {
   "cell_type": "markdown",
   "metadata": {},
   "source": [
    "We check whether the polytope defined by $M$ has Mukai edge graph. The function takes as input the matrix $M$ and the degrees given as one of the outputs `deg_mon` in the function `is_khovanskii`. "
   ]
  },
  {
   "cell_type": "code",
   "execution_count": 20,
   "metadata": {},
   "outputs": [
    {
     "name": "stdout",
     "output_type": "stream",
     "text": [
      "For vertex 1 we get 32/32 have scalar product zero\n",
      "For vertex 2 we get 32/32 have scalar product zero\n",
      "For vertex 3 we get 32/32 have scalar product zero\n",
      "For vertex 4 we get 32/32 have scalar product zero\n",
      "For vertex 5 we get 32/32 have scalar product zero\n",
      "For vertex 6 we get 32/32 have scalar product zero\n",
      "For vertex 7 we get 32/32 have scalar product zero\n",
      "For vertex 8 we get 32/32 have scalar product zero\n",
      "For vertex 9 we get 32/32 have scalar product zero\n",
      "For vertex 10 we get 32/32 have scalar product zero\n",
      "For vertex 11 we get 32/32 have scalar product zero\n",
      "For vertex 12 we get 32/32 have scalar product zero\n",
      "For vertex 13 we get 32/32 have scalar product zero\n",
      "For vertex 14 we get 32/32 have scalar product zero\n",
      "For vertex 15 we get 32/32 have scalar product zero\n",
      "For vertex 16 we get 32/32 have scalar product zero\n",
      "For vertex 17 we get 32/32 have scalar product zero\n",
      "For vertex 18 we get 32/32 have scalar product zero\n",
      "For vertex 19 we get 32/32 have scalar product zero\n",
      "For vertex 20 we get 32/32 have scalar product zero\n",
      "For vertex 21 we get 32/32 have scalar product zero\n",
      "For vertex 22 we get 32/32 have scalar product zero\n",
      "For vertex 23 we get 32/32 have scalar product zero\n",
      "For vertex 24 we get 32/32 have scalar product zero\n",
      "For vertex 25 we get 32/32 have scalar product zero\n",
      "For vertex 26 we get 32/32 have scalar product zero\n",
      "For vertex 27 we get 32/32 have scalar product zero\n",
      "For vertex 28 we get 32/32 have scalar product zero\n",
      "For vertex 29 we get 32/32 have scalar product zero\n",
      "For vertex 30 we get 32/32 have scalar product zero\n",
      "For vertex 31 we get 32/32 have scalar product zero\n",
      "For vertex 32 we get 32/32 have scalar product zero\n",
      "For vertex 33 we get 32/32 have scalar product zero\n",
      "For vertex 34 we get 32/32 have scalar product zero\n",
      "For vertex 35 we get 32/32 have scalar product zero\n",
      "For vertex 36 we get 32/32 have scalar product zero\n",
      "For vertex 37 we get 32/32 have scalar product zero\n",
      "For vertex 38 we get 32/32 have scalar product zero\n",
      "For vertex 39 we get 32/32 have scalar product zero\n",
      "For vertex 40 we get 32/32 have scalar product zero\n",
      "For vertex 41 we get 32/32 have scalar product zero\n",
      "For vertex 42 we get 32/32 have scalar product zero\n",
      "For vertex 43 we get 32/32 have scalar product zero\n",
      "For vertex 44 we get 32/32 have scalar product zero\n",
      "For vertex 45 we get 32/32 have scalar product zero\n",
      "For vertex 46 we get 32/32 have scalar product zero\n",
      "For vertex 47 we get 32/32 have scalar product zero\n",
      "For vertex 48 we get 32/32 have scalar product zero\n",
      "For vertex 49 we get 32/32 have scalar product zero\n",
      "For vertex 50 we get 32/32 have scalar product zero\n",
      "For vertex 51 we get 32/32 have scalar product zero\n",
      "For vertex 52 we get 32/32 have scalar product zero\n",
      "For vertex 53 we get 32/32 have scalar product zero\n",
      "For vertex 54 we get 32/32 have scalar product zero\n",
      "For vertex 55 we get 32/32 have scalar product zero\n",
      "For vertex 56 we get 32/32 have scalar product zero\n",
      "For vertex 57 we get 32/32 have scalar product zero\n",
      "For vertex 58 we get 32/32 have scalar product zero\n",
      "For vertex 59 we get 32/32 have scalar product zero\n",
      "For vertex 60 we get 32/32 have scalar product zero\n",
      "For vertex 61 we get 32/32 have scalar product zero\n",
      "For vertex 62 we get 32/32 have scalar product zero\n",
      "For vertex 63 we get 32/32 have scalar product zero\n",
      "For vertex 64 we get 32/32 have scalar product zero\n",
      "For vertex 65 we get 32/32 have scalar product zero\n",
      "For vertex 66 we get 32/32 have scalar product zero\n",
      "For vertex 67 we get 32/32 have scalar product zero\n",
      "For vertex 68 we get 32/32 have scalar product zero\n",
      "For vertex 69 we get 32/32 have scalar product zero\n",
      "For vertex 70 we get 32/32 have scalar product zero\n",
      "For vertex 71 we get 32/32 have scalar product zero\n",
      "For vertex 72 we get 32/32 have scalar product zero\n",
      "For vertex 73 we get 32/32 have scalar product zero\n",
      "For vertex 74 we get 32/32 have scalar product zero\n",
      "For vertex 75 we get 32/32 have scalar product zero\n",
      "For vertex 76 we get 32/32 have scalar product zero\n",
      "For vertex 77 we get 32/32 have scalar product zero\n",
      "For vertex 78 we get 32/32 have scalar product zero\n",
      "For vertex 79 we get 32/32 have scalar product zero\n",
      "For vertex 80 we get 32/32 have scalar product zero\n",
      "For vertex 81 we get 32/32 have scalar product zero\n",
      "For vertex 82 we get 32/32 have scalar product zero\n",
      "For vertex 83 we get 32/32 have scalar product zero\n",
      "For vertex 84 we get 32/32 have scalar product zero\n",
      "For vertex 85 we get 32/32 have scalar product zero\n",
      "For vertex 86 we get 32/32 have scalar product zero\n",
      "For vertex 87 we get 32/32 have scalar product zero\n",
      "For vertex 88 we get 32/32 have scalar product zero\n",
      "For vertex 89 we get 32/32 have scalar product zero\n",
      "For vertex 90 we get 32/32 have scalar product zero\n",
      "For vertex 91 we get 32/32 have scalar product zero\n",
      "For vertex 92 we get 32/32 have scalar product zero\n",
      "For vertex 93 we get 32/32 have scalar product zero\n",
      "For vertex 94 we get 32/32 have scalar product zero\n",
      "For vertex 95 we get 32/32 have scalar product zero\n",
      "For vertex 96 we get 32/32 have scalar product zero\n",
      "For vertex 97 we get 32/32 have scalar product zero\n",
      "For vertex 98 we get 32/32 have scalar product zero\n",
      "For vertex 99 we get 32/32 have scalar product zero\n",
      "For vertex 100 we get 32/32 have scalar product zero\n",
      "For vertex 101 we get 32/32 have scalar product zero\n",
      "For vertex 102 we get 32/32 have scalar product zero\n",
      "For vertex 103 we get 32/32 have scalar product zero\n",
      "For vertex 104 we get 32/32 have scalar product zero\n",
      "For vertex 105 we get 32/32 have scalar product zero\n",
      "For vertex 106 we get 32/32 have scalar product zero\n",
      "For vertex 107 we get 32/32 have scalar product zero\n",
      "For vertex 108 we get 32/32 have scalar product zero\n",
      "For vertex 109 we get 32/32 have scalar product zero\n",
      "For vertex 110 we get 32/32 have scalar product zero\n",
      "For vertex 111 we get 32/32 have scalar product zero\n",
      "For vertex 112 we get 32/32 have scalar product zero\n",
      "For vertex 113 we get 32/32 have scalar product zero\n",
      "For vertex 114 we get 32/32 have scalar product zero\n",
      "For vertex 115 we get 32/32 have scalar product zero\n",
      "For vertex 116 we get 32/32 have scalar product zero\n",
      "For vertex 117 we get 32/32 have scalar product zero\n",
      "For vertex 118 we get 32/32 have scalar product zero\n",
      "For vertex 119 we get 32/32 have scalar product zero\n",
      "For vertex 120 we get 32/32 have scalar product zero\n",
      "For vertex 121 we get 32/32 have scalar product zero\n",
      "For vertex 122 we get 32/32 have scalar product zero\n",
      "For vertex 123 we get 32/32 have scalar product zero\n",
      "For vertex 124 we get 32/32 have scalar product zero\n",
      "For vertex 125 we get 32/32 have scalar product zero\n",
      "For vertex 126 we get 32/32 have scalar product zero\n"
     ]
    },
    {
     "data": {
      "text/plain": [
       "true"
      ]
     },
     "execution_count": 20,
     "metadata": {},
     "output_type": "execute_result"
    }
   ],
   "source": [
    "has_Mukai_edge_graph(M,deg_mon)"
   ]
  }
 ],
 "metadata": {
  "kernelspec": {
   "display_name": "Julia 1.7.0",
   "language": "julia",
   "name": "julia-1.7"
  },
  "language_info": {
   "file_extension": ".jl",
   "mimetype": "application/julia",
   "name": "julia",
   "version": "1.7.0"
  }
 },
 "nbformat": 4,
 "nbformat_minor": 4
}
